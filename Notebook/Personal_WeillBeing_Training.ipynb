{
 "metadata": {
  "language_info": {
   "codemirror_mode": {
    "name": "ipython",
    "version": 3
   },
   "file_extension": ".py",
   "mimetype": "text/x-python",
   "name": "python",
   "nbconvert_exporter": "python",
   "pygments_lexer": "ipython3",
   "version": "3.8.5-final"
  },
  "orig_nbformat": 2,
  "kernelspec": {
   "name": "python385jvsc74a57bd0a97a39992348d9631a2100bf9d9239f93002e04844e8ac142c0ed653e7036898",
   "display_name": "Python 3.8.5 64-bit ('base': conda)"
  }
 },
 "nbformat": 4,
 "nbformat_minor": 2,
 "cells": [
  {
   "source": [
    "# WellSAP"
   ],
   "cell_type": "markdown",
   "metadata": {}
  },
  {
   "source": [
    "## Personal WellBeing Training"
   ],
   "cell_type": "markdown",
   "metadata": {}
  },
  {
   "source": [
    "### Imports"
   ],
   "cell_type": "markdown",
   "metadata": {}
  },
  {
   "cell_type": "code",
   "execution_count": 17,
   "metadata": {},
   "outputs": [],
   "source": [
    "import pandas as pd\n",
    "import numpy as np\n",
    "from sklearn import preprocessing"
   ]
  },
  {
   "source": [
    "### Data Loading"
   ],
   "cell_type": "markdown",
   "metadata": {}
  },
  {
   "cell_type": "code",
   "execution_count": 2,
   "metadata": {},
   "outputs": [],
   "source": [
    "hr_data = pd.read_csv('./../dataset/hr_data.csv',header=0, index_col='Employee_ID')\n",
    "attrition_data = pd.read_csv('./../dataset/attrition_data.csv', header=0, index_col='Employee_ID')\n",
    "lifestyle_data = pd.read_csv('./../dataset/lifestyle_data.csv', header=0, index_col='Employee_ID')"
   ]
  },
  {
   "source": [
    "### Data Pre-Processing"
   ],
   "cell_type": "markdown",
   "metadata": {}
  },
  {
   "source": [
    "#### Lifestyle Data Pre-Processing"
   ],
   "cell_type": "markdown",
   "metadata": {}
  },
  {
   "cell_type": "code",
   "execution_count": 3,
   "metadata": {},
   "outputs": [],
   "source": [
    "input_features_classes = lifestyle_data.loc[:,['FRUITS_VEGGIES', 'DAILY_STRESS', 'BMI_RANGE', 'DONATION']]\n",
    "input_features_int_int = lifestyle_data.loc[:,['PLACES_VISITED', 'CORE_CIRCLE', 'SUPPORTING_OTHERS', 'SOCIAL_NETWORK']]\n",
    "input_features_int_float = lifestyle_data.loc[:,['SLEEP_HOURS', 'WEEKLY_MEDITATION', 'DAILY_SHOUTING']]\n",
    "\n",
    "output_features = lifestyle_data.loc[:,'WORK_LIFE_BALANCE_SCORE']"
   ]
  },
  {
   "cell_type": "code",
   "execution_count": 30,
   "metadata": {},
   "outputs": [],
   "source": [
    "input_features_classes = input_features_classes.groupby('Employee_ID').max().astype(int)\n",
    "input_features_int_int = input_features_int_int.groupby('Employee_ID').mean().apply(np.ceil).astype(int)\n",
    "input_features_int_float = input_features_int_float.groupby('Employee_ID').mean()"
   ]
  },
  {
   "cell_type": "code",
   "execution_count": 31,
   "metadata": {},
   "outputs": [
    {
     "output_type": "execute_result",
     "data": {
      "text/plain": [
       "             FRUITS_VEGGIES  DAILY_STRESS  BMI_RANGE  DONATION  \\\n",
       "Employee_ID                                                      \n",
       "1.0                       5             5          2         5   \n",
       "2.0                       5             5          2         5   \n",
       "3.0                       5             5          2         5   \n",
       "4.0                       5             5          2         5   \n",
       "5.0                       5             5          2         5   \n",
       "...                     ...           ...        ...       ...   \n",
       "307.0                     5             4          2         5   \n",
       "308.0                     5             5          2         5   \n",
       "309.0                     5             5          2         5   \n",
       "310.0                     5             5          2         5   \n",
       "311.0                     5             5          2         5   \n",
       "\n",
       "             PLACES_VISITED  CORE_CIRCLE  SUPPORTING_OTHERS  SOCIAL_NETWORK  \\\n",
       "Employee_ID                                                                   \n",
       "1.0                       6            7                  5               7   \n",
       "2.0                       5            5                  5               7   \n",
       "3.0                       6            6                  6               8   \n",
       "4.0                       7            6                  6               7   \n",
       "5.0                       5            6                  5               6   \n",
       "...                     ...          ...                ...             ...   \n",
       "307.0                     6            6                  5               6   \n",
       "308.0                     5            6                  7               7   \n",
       "309.0                     5            7                  8               7   \n",
       "310.0                     5            7                  7               7   \n",
       "311.0                     6            6                  6               7   \n",
       "\n",
       "             SLEEP_HOURS  WEEKLY_MEDITATION  DAILY_SHOUTING  \n",
       "Employee_ID                                                  \n",
       "1.0                 7.00               7.28            2.08  \n",
       "2.0                 6.76               6.52            3.88  \n",
       "3.0                 6.92               5.52            3.16  \n",
       "4.0                 7.52               6.20            2.00  \n",
       "5.0                 7.64               5.92            2.92  \n",
       "...                  ...                ...             ...  \n",
       "307.0               7.12               6.00            1.76  \n",
       "308.0               6.92               5.80            3.08  \n",
       "309.0               6.80               4.68            3.08  \n",
       "310.0               7.08               6.12            3.52  \n",
       "311.0               7.00               6.16            3.20  \n",
       "\n",
       "[311 rows x 11 columns]"
      ],
      "text/html": "<div>\n<style scoped>\n    .dataframe tbody tr th:only-of-type {\n        vertical-align: middle;\n    }\n\n    .dataframe tbody tr th {\n        vertical-align: top;\n    }\n\n    .dataframe thead th {\n        text-align: right;\n    }\n</style>\n<table border=\"1\" class=\"dataframe\">\n  <thead>\n    <tr style=\"text-align: right;\">\n      <th></th>\n      <th>FRUITS_VEGGIES</th>\n      <th>DAILY_STRESS</th>\n      <th>BMI_RANGE</th>\n      <th>DONATION</th>\n      <th>PLACES_VISITED</th>\n      <th>CORE_CIRCLE</th>\n      <th>SUPPORTING_OTHERS</th>\n      <th>SOCIAL_NETWORK</th>\n      <th>SLEEP_HOURS</th>\n      <th>WEEKLY_MEDITATION</th>\n      <th>DAILY_SHOUTING</th>\n    </tr>\n    <tr>\n      <th>Employee_ID</th>\n      <th></th>\n      <th></th>\n      <th></th>\n      <th></th>\n      <th></th>\n      <th></th>\n      <th></th>\n      <th></th>\n      <th></th>\n      <th></th>\n      <th></th>\n    </tr>\n  </thead>\n  <tbody>\n    <tr>\n      <th>1.0</th>\n      <td>5</td>\n      <td>5</td>\n      <td>2</td>\n      <td>5</td>\n      <td>6</td>\n      <td>7</td>\n      <td>5</td>\n      <td>7</td>\n      <td>7.00</td>\n      <td>7.28</td>\n      <td>2.08</td>\n    </tr>\n    <tr>\n      <th>2.0</th>\n      <td>5</td>\n      <td>5</td>\n      <td>2</td>\n      <td>5</td>\n      <td>5</td>\n      <td>5</td>\n      <td>5</td>\n      <td>7</td>\n      <td>6.76</td>\n      <td>6.52</td>\n      <td>3.88</td>\n    </tr>\n    <tr>\n      <th>3.0</th>\n      <td>5</td>\n      <td>5</td>\n      <td>2</td>\n      <td>5</td>\n      <td>6</td>\n      <td>6</td>\n      <td>6</td>\n      <td>8</td>\n      <td>6.92</td>\n      <td>5.52</td>\n      <td>3.16</td>\n    </tr>\n    <tr>\n      <th>4.0</th>\n      <td>5</td>\n      <td>5</td>\n      <td>2</td>\n      <td>5</td>\n      <td>7</td>\n      <td>6</td>\n      <td>6</td>\n      <td>7</td>\n      <td>7.52</td>\n      <td>6.20</td>\n      <td>2.00</td>\n    </tr>\n    <tr>\n      <th>5.0</th>\n      <td>5</td>\n      <td>5</td>\n      <td>2</td>\n      <td>5</td>\n      <td>5</td>\n      <td>6</td>\n      <td>5</td>\n      <td>6</td>\n      <td>7.64</td>\n      <td>5.92</td>\n      <td>2.92</td>\n    </tr>\n    <tr>\n      <th>...</th>\n      <td>...</td>\n      <td>...</td>\n      <td>...</td>\n      <td>...</td>\n      <td>...</td>\n      <td>...</td>\n      <td>...</td>\n      <td>...</td>\n      <td>...</td>\n      <td>...</td>\n      <td>...</td>\n    </tr>\n    <tr>\n      <th>307.0</th>\n      <td>5</td>\n      <td>4</td>\n      <td>2</td>\n      <td>5</td>\n      <td>6</td>\n      <td>6</td>\n      <td>5</td>\n      <td>6</td>\n      <td>7.12</td>\n      <td>6.00</td>\n      <td>1.76</td>\n    </tr>\n    <tr>\n      <th>308.0</th>\n      <td>5</td>\n      <td>5</td>\n      <td>2</td>\n      <td>5</td>\n      <td>5</td>\n      <td>6</td>\n      <td>7</td>\n      <td>7</td>\n      <td>6.92</td>\n      <td>5.80</td>\n      <td>3.08</td>\n    </tr>\n    <tr>\n      <th>309.0</th>\n      <td>5</td>\n      <td>5</td>\n      <td>2</td>\n      <td>5</td>\n      <td>5</td>\n      <td>7</td>\n      <td>8</td>\n      <td>7</td>\n      <td>6.80</td>\n      <td>4.68</td>\n      <td>3.08</td>\n    </tr>\n    <tr>\n      <th>310.0</th>\n      <td>5</td>\n      <td>5</td>\n      <td>2</td>\n      <td>5</td>\n      <td>5</td>\n      <td>7</td>\n      <td>7</td>\n      <td>7</td>\n      <td>7.08</td>\n      <td>6.12</td>\n      <td>3.52</td>\n    </tr>\n    <tr>\n      <th>311.0</th>\n      <td>5</td>\n      <td>5</td>\n      <td>2</td>\n      <td>5</td>\n      <td>6</td>\n      <td>6</td>\n      <td>6</td>\n      <td>7</td>\n      <td>7.00</td>\n      <td>6.16</td>\n      <td>3.20</td>\n    </tr>\n  </tbody>\n</table>\n<p>311 rows × 11 columns</p>\n</div>"
     },
     "metadata": {},
     "execution_count": 31
    }
   ],
   "source": [
    "input_features = pd.concat([input_features_classes, input_features_int_int, input_features_int_float], axis=1)\n",
    "input_features"
   ]
  },
  {
   "source": [
    "#### HR and Attrition Data Pre-Processing"
   ],
   "cell_type": "markdown",
   "metadata": {}
  },
  {
   "cell_type": "code",
   "execution_count": 32,
   "metadata": {},
   "outputs": [],
   "source": [
    "gender_encoder = preprocessing.LabelEncoder()\n",
    "attrition_data['Gender'] = gender_encoder.fit_transform(attrition_data['Gender'])\n",
    "age_encoder = preprocessing.LabelEncoder()\n",
    "hr_data['Age_Group'] = age_encoder.fit_transform(hr_data['Age_Group'])"
   ]
  },
  {
   "cell_type": "code",
   "execution_count": 33,
   "metadata": {},
   "outputs": [
    {
     "output_type": "execute_result",
     "data": {
      "text/plain": [
       "             FRUITS_VEGGIES  DAILY_STRESS  BMI_RANGE  DONATION  \\\n",
       "Employee_ID                                                      \n",
       "1.0                       5             5          2         5   \n",
       "2.0                       5             5          2         5   \n",
       "3.0                       5             5          2         5   \n",
       "4.0                       5             5          2         5   \n",
       "5.0                       5             5          2         5   \n",
       "...                     ...           ...        ...       ...   \n",
       "307.0                     5             4          2         5   \n",
       "308.0                     5             5          2         5   \n",
       "309.0                     5             5          2         5   \n",
       "310.0                     5             5          2         5   \n",
       "311.0                     5             5          2         5   \n",
       "\n",
       "             PLACES_VISITED  CORE_CIRCLE  SUPPORTING_OTHERS  SOCIAL_NETWORK  \\\n",
       "Employee_ID                                                                   \n",
       "1.0                       6            7                  5               7   \n",
       "2.0                       5            5                  5               7   \n",
       "3.0                       6            6                  6               8   \n",
       "4.0                       7            6                  6               7   \n",
       "5.0                       5            6                  5               6   \n",
       "...                     ...          ...                ...             ...   \n",
       "307.0                     6            6                  5               6   \n",
       "308.0                     5            6                  7               7   \n",
       "309.0                     5            7                  8               7   \n",
       "310.0                     5            7                  7               7   \n",
       "311.0                     6            6                  6               7   \n",
       "\n",
       "             SLEEP_HOURS  WEEKLY_MEDITATION  DAILY_SHOUTING  MaritalStatusID  \\\n",
       "Employee_ID                                                                    \n",
       "1.0                 7.00               7.28            2.08                0   \n",
       "2.0                 6.76               6.52            3.88                1   \n",
       "3.0                 6.92               5.52            3.16                1   \n",
       "4.0                 7.52               6.20            2.00                1   \n",
       "5.0                 7.64               5.92            2.92                2   \n",
       "...                  ...                ...             ...              ...   \n",
       "307.0               7.12               6.00            1.76                0   \n",
       "308.0               6.92               5.80            3.08                0   \n",
       "309.0               6.80               4.68            3.08                0   \n",
       "310.0               7.08               6.12            3.52                0   \n",
       "311.0               7.00               6.16            3.20                4   \n",
       "\n",
       "             Age_Group  Gender  RelationshipSatisfaction  \n",
       "Employee_ID                                               \n",
       "1.0                  0       1                         2  \n",
       "2.0                  1       1                         1  \n",
       "3.0                  0       0                         1  \n",
       "4.0                  0       0                         3  \n",
       "5.0                  0       0                         3  \n",
       "...                ...     ...                       ...  \n",
       "307.0                0       1                         2  \n",
       "308.0                0       0                         3  \n",
       "309.0                1       0                         2  \n",
       "310.0                1       0                         1  \n",
       "311.0                1       0                         1  \n",
       "\n",
       "[311 rows x 15 columns]"
      ],
      "text/html": "<div>\n<style scoped>\n    .dataframe tbody tr th:only-of-type {\n        vertical-align: middle;\n    }\n\n    .dataframe tbody tr th {\n        vertical-align: top;\n    }\n\n    .dataframe thead th {\n        text-align: right;\n    }\n</style>\n<table border=\"1\" class=\"dataframe\">\n  <thead>\n    <tr style=\"text-align: right;\">\n      <th></th>\n      <th>FRUITS_VEGGIES</th>\n      <th>DAILY_STRESS</th>\n      <th>BMI_RANGE</th>\n      <th>DONATION</th>\n      <th>PLACES_VISITED</th>\n      <th>CORE_CIRCLE</th>\n      <th>SUPPORTING_OTHERS</th>\n      <th>SOCIAL_NETWORK</th>\n      <th>SLEEP_HOURS</th>\n      <th>WEEKLY_MEDITATION</th>\n      <th>DAILY_SHOUTING</th>\n      <th>MaritalStatusID</th>\n      <th>Age_Group</th>\n      <th>Gender</th>\n      <th>RelationshipSatisfaction</th>\n    </tr>\n    <tr>\n      <th>Employee_ID</th>\n      <th></th>\n      <th></th>\n      <th></th>\n      <th></th>\n      <th></th>\n      <th></th>\n      <th></th>\n      <th></th>\n      <th></th>\n      <th></th>\n      <th></th>\n      <th></th>\n      <th></th>\n      <th></th>\n      <th></th>\n    </tr>\n  </thead>\n  <tbody>\n    <tr>\n      <th>1.0</th>\n      <td>5</td>\n      <td>5</td>\n      <td>2</td>\n      <td>5</td>\n      <td>6</td>\n      <td>7</td>\n      <td>5</td>\n      <td>7</td>\n      <td>7.00</td>\n      <td>7.28</td>\n      <td>2.08</td>\n      <td>0</td>\n      <td>0</td>\n      <td>1</td>\n      <td>2</td>\n    </tr>\n    <tr>\n      <th>2.0</th>\n      <td>5</td>\n      <td>5</td>\n      <td>2</td>\n      <td>5</td>\n      <td>5</td>\n      <td>5</td>\n      <td>5</td>\n      <td>7</td>\n      <td>6.76</td>\n      <td>6.52</td>\n      <td>3.88</td>\n      <td>1</td>\n      <td>1</td>\n      <td>1</td>\n      <td>1</td>\n    </tr>\n    <tr>\n      <th>3.0</th>\n      <td>5</td>\n      <td>5</td>\n      <td>2</td>\n      <td>5</td>\n      <td>6</td>\n      <td>6</td>\n      <td>6</td>\n      <td>8</td>\n      <td>6.92</td>\n      <td>5.52</td>\n      <td>3.16</td>\n      <td>1</td>\n      <td>0</td>\n      <td>0</td>\n      <td>1</td>\n    </tr>\n    <tr>\n      <th>4.0</th>\n      <td>5</td>\n      <td>5</td>\n      <td>2</td>\n      <td>5</td>\n      <td>7</td>\n      <td>6</td>\n      <td>6</td>\n      <td>7</td>\n      <td>7.52</td>\n      <td>6.20</td>\n      <td>2.00</td>\n      <td>1</td>\n      <td>0</td>\n      <td>0</td>\n      <td>3</td>\n    </tr>\n    <tr>\n      <th>5.0</th>\n      <td>5</td>\n      <td>5</td>\n      <td>2</td>\n      <td>5</td>\n      <td>5</td>\n      <td>6</td>\n      <td>5</td>\n      <td>6</td>\n      <td>7.64</td>\n      <td>5.92</td>\n      <td>2.92</td>\n      <td>2</td>\n      <td>0</td>\n      <td>0</td>\n      <td>3</td>\n    </tr>\n    <tr>\n      <th>...</th>\n      <td>...</td>\n      <td>...</td>\n      <td>...</td>\n      <td>...</td>\n      <td>...</td>\n      <td>...</td>\n      <td>...</td>\n      <td>...</td>\n      <td>...</td>\n      <td>...</td>\n      <td>...</td>\n      <td>...</td>\n      <td>...</td>\n      <td>...</td>\n      <td>...</td>\n    </tr>\n    <tr>\n      <th>307.0</th>\n      <td>5</td>\n      <td>4</td>\n      <td>2</td>\n      <td>5</td>\n      <td>6</td>\n      <td>6</td>\n      <td>5</td>\n      <td>6</td>\n      <td>7.12</td>\n      <td>6.00</td>\n      <td>1.76</td>\n      <td>0</td>\n      <td>0</td>\n      <td>1</td>\n      <td>2</td>\n    </tr>\n    <tr>\n      <th>308.0</th>\n      <td>5</td>\n      <td>5</td>\n      <td>2</td>\n      <td>5</td>\n      <td>5</td>\n      <td>6</td>\n      <td>7</td>\n      <td>7</td>\n      <td>6.92</td>\n      <td>5.80</td>\n      <td>3.08</td>\n      <td>0</td>\n      <td>0</td>\n      <td>0</td>\n      <td>3</td>\n    </tr>\n    <tr>\n      <th>309.0</th>\n      <td>5</td>\n      <td>5</td>\n      <td>2</td>\n      <td>5</td>\n      <td>5</td>\n      <td>7</td>\n      <td>8</td>\n      <td>7</td>\n      <td>6.80</td>\n      <td>4.68</td>\n      <td>3.08</td>\n      <td>0</td>\n      <td>1</td>\n      <td>0</td>\n      <td>2</td>\n    </tr>\n    <tr>\n      <th>310.0</th>\n      <td>5</td>\n      <td>5</td>\n      <td>2</td>\n      <td>5</td>\n      <td>5</td>\n      <td>7</td>\n      <td>7</td>\n      <td>7</td>\n      <td>7.08</td>\n      <td>6.12</td>\n      <td>3.52</td>\n      <td>0</td>\n      <td>1</td>\n      <td>0</td>\n      <td>1</td>\n    </tr>\n    <tr>\n      <th>311.0</th>\n      <td>5</td>\n      <td>5</td>\n      <td>2</td>\n      <td>5</td>\n      <td>6</td>\n      <td>6</td>\n      <td>6</td>\n      <td>7</td>\n      <td>7.00</td>\n      <td>6.16</td>\n      <td>3.20</td>\n      <td>4</td>\n      <td>1</td>\n      <td>0</td>\n      <td>1</td>\n    </tr>\n  </tbody>\n</table>\n<p>311 rows × 15 columns</p>\n</div>"
     },
     "metadata": {},
     "execution_count": 33
    }
   ],
   "source": [
    "input_features = pd.concat([input_features, hr_data['MaritalStatusID'], hr_data['Age_Group'], attrition_data[\"Gender\"], attrition_data['RelationshipSatisfaction'].astype(int)], axis=1)\n",
    "input_features"
   ]
  },
  {
   "cell_type": "code",
   "execution_count": null,
   "metadata": {},
   "outputs": [],
   "source": []
  },
  {
   "source": [
    "#### Output Data Pre-Processing"
   ],
   "cell_type": "markdown",
   "metadata": {}
  },
  {
   "cell_type": "code",
   "execution_count": 22,
   "metadata": {},
   "outputs": [
    {
     "output_type": "error",
     "ename": "TypeError",
     "evalue": "Cannot reset_index inplace on a Series to create a DataFrame",
     "traceback": [
      "\u001b[0;31m---------------------------------------------------------------------------\u001b[0m",
      "\u001b[0;31mTypeError\u001b[0m                                 Traceback (most recent call last)",
      "\u001b[0;32m<ipython-input-22-6ce490ba5686>\u001b[0m in \u001b[0;36m<module>\u001b[0;34m\u001b[0m\n\u001b[1;32m      1\u001b[0m \u001b[0moutput_scaler\u001b[0m \u001b[0;34m=\u001b[0m \u001b[0mpreprocessing\u001b[0m\u001b[0;34m.\u001b[0m\u001b[0mStandardScaler\u001b[0m\u001b[0;34m(\u001b[0m\u001b[0;34m)\u001b[0m\u001b[0;34m\u001b[0m\u001b[0;34m\u001b[0m\u001b[0m\n\u001b[0;32m----> 2\u001b[0;31m \u001b[0moutput_features\u001b[0m\u001b[0;34m.\u001b[0m\u001b[0mreset_index\u001b[0m\u001b[0;34m(\u001b[0m\u001b[0minplace\u001b[0m\u001b[0;34m=\u001b[0m\u001b[0;32mTrue\u001b[0m\u001b[0;34m)\u001b[0m\u001b[0;34m\u001b[0m\u001b[0;34m\u001b[0m\u001b[0m\n\u001b[0m\u001b[1;32m      3\u001b[0m \u001b[0moutput_features\u001b[0m\u001b[0;34m[\u001b[0m\u001b[0;34m'WORK_LIFE_BALANCE_SCORE'\u001b[0m\u001b[0;34m]\u001b[0m \u001b[0;34m=\u001b[0m \u001b[0moutput_scaler\u001b[0m\u001b[0;34m.\u001b[0m\u001b[0mfit_transform\u001b[0m\u001b[0;34m(\u001b[0m\u001b[0moutput_features\u001b[0m\u001b[0;34m[\u001b[0m\u001b[0;34m'WORK_LIFE_BALANCE_SCORE'\u001b[0m\u001b[0;34m]\u001b[0m\u001b[0;34m)\u001b[0m\u001b[0;34m\u001b[0m\u001b[0;34m\u001b[0m\u001b[0m\n\u001b[1;32m      4\u001b[0m \u001b[0moutput_features\u001b[0m\u001b[0;34m\u001b[0m\u001b[0;34m\u001b[0m\u001b[0m\n",
      "\u001b[0;32m~/anaconda3/lib/python3.8/site-packages/pandas/core/series.py\u001b[0m in \u001b[0;36mreset_index\u001b[0;34m(self, level, drop, name, inplace)\u001b[0m\n\u001b[1;32m   1285\u001b[0m                 ).__finalize__(self, method=\"reset_index\")\n\u001b[1;32m   1286\u001b[0m         \u001b[0;32melif\u001b[0m \u001b[0minplace\u001b[0m\u001b[0;34m:\u001b[0m\u001b[0;34m\u001b[0m\u001b[0;34m\u001b[0m\u001b[0m\n\u001b[0;32m-> 1287\u001b[0;31m             raise TypeError(\n\u001b[0m\u001b[1;32m   1288\u001b[0m                 \u001b[0;34m\"Cannot reset_index inplace on a Series to create a DataFrame\"\u001b[0m\u001b[0;34m\u001b[0m\u001b[0;34m\u001b[0m\u001b[0m\n\u001b[1;32m   1289\u001b[0m             )\n",
      "\u001b[0;31mTypeError\u001b[0m: Cannot reset_index inplace on a Series to create a DataFrame"
     ]
    }
   ],
   "source": [
    "output_scaler = preprocessing.StandardScaler()\n",
    "output_features.reset_index(inplace=True)\n",
    "output_features['WORK_LIFE_BALANCE_SCORE'] = output_scaler.fit_transform(output_features['WORK_LIFE_BALANCE_SCORE'])\n",
    "output_features"
   ]
  }
 ]
}
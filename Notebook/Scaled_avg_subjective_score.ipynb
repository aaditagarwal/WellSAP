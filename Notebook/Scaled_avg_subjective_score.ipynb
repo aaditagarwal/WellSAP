{
 "cells": [
  {
   "cell_type": "markdown",
   "metadata": {},
   "source": [
    "# WellSAP"
   ]
  },
  {
   "cell_type": "markdown",
   "metadata": {},
   "source": [
    "### Library Imports"
   ]
  },
  {
   "cell_type": "code",
   "execution_count": 1,
   "metadata": {},
   "outputs": [],
   "source": [
    "import pandas as pd\n",
    "from statistics import harmonic_mean\n",
    "import math"
   ]
  },
  {
   "cell_type": "markdown",
   "metadata": {},
   "source": [
    "### Data Loading"
   ]
  },
  {
   "cell_type": "code",
   "execution_count": 3,
   "metadata": {},
   "outputs": [
    {
     "output_type": "execute_result",
     "data": {
      "text/plain": [
       "   LIVE_VISION  ACHIEVEMENT  SUFFICIENT_INCOME  PERSONAL_AWARDS\n",
       "0          0.0          2.0                1.0              4.0\n",
       "1          5.0          5.0                2.0              3.0\n",
       "2          5.0          3.0                2.0              4.0\n",
       "3          5.0          5.0                2.0             10.0\n",
       "4          2.0          1.0                2.0              4.0"
      ],
      "text/html": "<div>\n<style scoped>\n    .dataframe tbody tr th:only-of-type {\n        vertical-align: middle;\n    }\n\n    .dataframe tbody tr th {\n        vertical-align: top;\n    }\n\n    .dataframe thead th {\n        text-align: right;\n    }\n</style>\n<table border=\"1\" class=\"dataframe\">\n  <thead>\n    <tr style=\"text-align: right;\">\n      <th></th>\n      <th>LIVE_VISION</th>\n      <th>ACHIEVEMENT</th>\n      <th>SUFFICIENT_INCOME</th>\n      <th>PERSONAL_AWARDS</th>\n    </tr>\n  </thead>\n  <tbody>\n    <tr>\n      <th>0</th>\n      <td>0.0</td>\n      <td>2.0</td>\n      <td>1.0</td>\n      <td>4.0</td>\n    </tr>\n    <tr>\n      <th>1</th>\n      <td>5.0</td>\n      <td>5.0</td>\n      <td>2.0</td>\n      <td>3.0</td>\n    </tr>\n    <tr>\n      <th>2</th>\n      <td>5.0</td>\n      <td>3.0</td>\n      <td>2.0</td>\n      <td>4.0</td>\n    </tr>\n    <tr>\n      <th>3</th>\n      <td>5.0</td>\n      <td>5.0</td>\n      <td>2.0</td>\n      <td>10.0</td>\n    </tr>\n    <tr>\n      <th>4</th>\n      <td>2.0</td>\n      <td>1.0</td>\n      <td>2.0</td>\n      <td>4.0</td>\n    </tr>\n  </tbody>\n</table>\n</div>"
     },
     "metadata": {},
     "execution_count": 3
    }
   ],
   "source": [
    "data=pd.read_csv(\"./../dataset/lifestyle_data.csv\")\n",
    "data=data[['LIVE_VISION','ACHIEVEMENT','SUFFICIENT_INCOME','PERSONAL_AWARDS']]\n",
    "data.head()"
   ]
  },
  {
   "cell_type": "markdown",
   "metadata": {},
   "source": [
    "### Scaling data between 0 to 100"
   ]
  },
  {
   "cell_type": "code",
   "execution_count": 4,
   "metadata": {},
   "outputs": [
    {
     "output_type": "execute_result",
     "data": {
      "text/plain": [
       "   LIVE_VISION  ACHIEVEMENT  SUFFICIENT_INCOME  PERSONAL_AWARDS\n",
       "0          0.0         20.0               50.0             40.0\n",
       "1         50.0         50.0              100.0             30.0\n",
       "2         50.0         30.0              100.0             40.0\n",
       "3         50.0         50.0              100.0            100.0\n",
       "4         20.0         10.0              100.0             40.0"
      ],
      "text/html": "<div>\n<style scoped>\n    .dataframe tbody tr th:only-of-type {\n        vertical-align: middle;\n    }\n\n    .dataframe tbody tr th {\n        vertical-align: top;\n    }\n\n    .dataframe thead th {\n        text-align: right;\n    }\n</style>\n<table border=\"1\" class=\"dataframe\">\n  <thead>\n    <tr style=\"text-align: right;\">\n      <th></th>\n      <th>LIVE_VISION</th>\n      <th>ACHIEVEMENT</th>\n      <th>SUFFICIENT_INCOME</th>\n      <th>PERSONAL_AWARDS</th>\n    </tr>\n  </thead>\n  <tbody>\n    <tr>\n      <th>0</th>\n      <td>0.0</td>\n      <td>20.0</td>\n      <td>50.0</td>\n      <td>40.0</td>\n    </tr>\n    <tr>\n      <th>1</th>\n      <td>50.0</td>\n      <td>50.0</td>\n      <td>100.0</td>\n      <td>30.0</td>\n    </tr>\n    <tr>\n      <th>2</th>\n      <td>50.0</td>\n      <td>30.0</td>\n      <td>100.0</td>\n      <td>40.0</td>\n    </tr>\n    <tr>\n      <th>3</th>\n      <td>50.0</td>\n      <td>50.0</td>\n      <td>100.0</td>\n      <td>100.0</td>\n    </tr>\n    <tr>\n      <th>4</th>\n      <td>20.0</td>\n      <td>10.0</td>\n      <td>100.0</td>\n      <td>40.0</td>\n    </tr>\n  </tbody>\n</table>\n</div>"
     },
     "metadata": {},
     "execution_count": 4
    }
   ],
   "source": [
    "data['LIVE_VISION']=(data['LIVE_VISION']/10)*100\n",
    "data['ACHIEVEMENT']=(data['ACHIEVEMENT']/10)*100\n",
    "data['PERSONAL_AWARDS']=(data['PERSONAL_AWARDS']/10)*100\n",
    "data['SUFFICIENT_INCOME']=(data['SUFFICIENT_INCOME']/2)*100\n",
    "data.head()"
   ]
  },
  {
   "cell_type": "markdown",
   "metadata": {},
   "source": [
    "### Average Subjective Wellness Score"
   ]
  },
  {
   "cell_type": "code",
   "execution_count": 5,
   "metadata": {},
   "outputs": [
    {
     "output_type": "stream",
     "name": "stdout",
     "text": [
      "Average Subjective Wellness Score: 48.88504090599943\n"
     ]
    }
   ],
   "source": [
    "dict=data.mean().to_dict()\n",
    "if(dict['LIVE_VISION']==0 or dict['SUFFICIENT_INCOME']==0 or dict['ACHIEVEMENT']==0 or dict['PERSONAL_AWARDS']==0):\n",
    "        sum = (math.log(dict['LIVE_VISION']+1)+math.log(dict['SUFFICIENT_INCOME']+1)+math.log(dict['ACHIEVEMENT']+1)+math.log(dict['PERSONAL_AWARDS']+1))/4\n",
    "        gm=math.pow(10,sum)-1\n",
    "        am=(dict['LIVE_VISION']+dict['SUFFICIENT_INCOME']+dict['ACHIEVEMENT']+dict['PERSONAL_AWARDS'])/4\n",
    "        hm=(gm*gm)/am\n",
    "else:\n",
    "        hm=harmonic_mean([dict['LIVE_VISION'],dict['SUFFICIENT_INCOME'],dict['ACHIEVEMENT'],dict['PERSONAL_AWARDS']])    \n",
    "\n",
    "print(\"Average Subjective Wellness Score:\",hm)\n"
   ]
  }
 ],
 "metadata": {
  "kernelspec": {
   "name": "python385jvsc74a57bd0905d0f07fe6f5c8c643ac9513defc256c6184424042a8d14d49292ea27dd2c1d",
   "display_name": "Python 3.8.5 64-bit ('gpu_env': conda)"
  },
  "language_info": {
   "codemirror_mode": {
    "name": "ipython",
    "version": 3
   },
   "file_extension": ".py",
   "mimetype": "text/x-python",
   "name": "python",
   "nbconvert_exporter": "python",
   "pygments_lexer": "ipython3",
   "version": "3.8.5-final"
  }
 },
 "nbformat": 4,
 "nbformat_minor": 4
}
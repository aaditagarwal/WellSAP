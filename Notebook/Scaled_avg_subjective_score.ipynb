{
 "cells": [
  {
   "cell_type": "code",
   "execution_count": 37,
   "metadata": {},
   "outputs": [],
   "source": [
    "import pandas as pd\n",
    "from statistics import harmonic_mean\n",
    "import math"
   ]
  },
  {
   "cell_type": "code",
   "execution_count": 38,
   "metadata": {},
   "outputs": [],
   "source": [
    "data=pd.read_csv(\"lifestyle_data.csv\")\n",
    "data=data[['LIVE_VISION','ACHIEVEMENT','SUFFICIENT_INCOME','PERSONAL_AWARDS']]"
   ]
  },
  {
   "cell_type": "code",
   "execution_count": 39,
   "metadata": {},
   "outputs": [
    {
     "name": "stdout",
     "output_type": "stream",
     "text": [
      "   LIVE_VISION  ACHIEVEMENT  SUFFICIENT_INCOME  PERSONAL_AWARDS\n",
      "0          0.0         20.0                0.0             40.0\n",
      "1         50.0         50.0               50.0             30.0\n",
      "2         50.0         30.0               50.0             40.0\n",
      "3         50.0         50.0               50.0            100.0\n",
      "4         20.0         10.0               50.0             40.0\n"
     ]
    }
   ],
   "source": [
    "data['LIVE_VISION']=(data['LIVE_VISION']/10)*100\n",
    "data['ACHIEVEMENT']=(data['ACHIEVEMENT']/10)*100\n",
    "data['PERSONAL_AWARDS']=(data['PERSONAL_AWARDS']/10)*100\n",
    "data['SUFFICIENT_INCOME']=((data['SUFFICIENT_INCOME']-1)/2)*100\n",
    "print(data.head())"
   ]
  },
  {
   "cell_type": "code",
   "execution_count": 40,
   "metadata": {},
   "outputs": [],
   "source": [
    "dict=data.mean().to_dict()"
   ]
  },
  {
   "cell_type": "code",
   "execution_count": 41,
   "metadata": {},
   "outputs": [
    {
     "name": "stdout",
     "output_type": "stream",
     "text": [
      "Average Subjective Wellness Score: 40.871111196091505\n"
     ]
    }
   ],
   "source": [
    "if(dict['LIVE_VISION']==0 or dict['SUFFICIENT_INCOME']==0 or dict['ACHIEVEMENT']==0 or dict['PERSONAL_AWARDS']==0):\n",
    "        dict['LIVE_VISION']=dict['LIVE_VISION']+1\n",
    "        dict['SUFFICIENT_INCOME']=dict['SUFFICIENT_INCOME']+1\n",
    "        dict['ACHIEVEMENT']=dict['ACHIEVEMENT']+1\n",
    "        dict['PERSONAL_AWARDS']=dict['PERSONAL_AWARDS']+1\n",
    "        sum=math.log10(dict['LIVE_VISION']) + math.log10(dict['SUFFICIENT_INCOME']) + math.log10(dict['ACHIEVEMENT'])+ math.log10(dict['PERSONAL_AWARDS'])       \n",
    "        gm=sum/4\n",
    "        gm=math.pow(10,gm)\n",
    "        am=(dict['LIVE_VISION']+dict['SUFFICIENT_INCOME']+dict['ACHIEVEMENT']+dict['PERSONAL_AWARDS'])/4\n",
    "        hm=(gm*gm)/am\n",
    "else:\n",
    "        hm=harmonic_mean([dict['LIVE_VISION'],dict['SUFFICIENT_INCOME'],dict['ACHIEVEMENT'],dict['PERSONAL_AWARDS']])    \n",
    "\n",
    "print(\"Average Subjective Wellness Score:\",hm)\n"
   ]
  }
 ],
 "metadata": {
  "kernelspec": {
   "display_name": "Python 3",
   "language": "python",
   "name": "python3"
  },
  "language_info": {
   "codemirror_mode": {
    "name": "ipython",
    "version": 3
   },
   "file_extension": ".py",
   "mimetype": "text/x-python",
   "name": "python",
   "nbconvert_exporter": "python",
   "pygments_lexer": "ipython3",
   "version": "3.8.5"
  }
 },
 "nbformat": 4,
 "nbformat_minor": 4
}

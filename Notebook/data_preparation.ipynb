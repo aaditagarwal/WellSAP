{
 "metadata": {
  "language_info": {
   "codemirror_mode": {
    "name": "ipython",
    "version": 3
   },
   "file_extension": ".py",
   "mimetype": "text/x-python",
   "name": "python",
   "nbconvert_exporter": "python",
   "pygments_lexer": "ipython3",
   "version": "3.8.5-final"
  },
  "orig_nbformat": 2,
  "kernelspec": {
   "name": "python385jvsc74a57bd0905d0f07fe6f5c8c643ac9513defc256c6184424042a8d14d49292ea27dd2c1d",
   "display_name": "Python 3.8.5 64-bit ('gpu_env': conda)"
  }
 },
 "nbformat": 4,
 "nbformat_minor": 2,
 "cells": [
  {
   "source": [
    "# WellSAP"
   ],
   "cell_type": "markdown",
   "metadata": {}
  },
  {
   "source": [
    "## Data Preparation"
   ],
   "cell_type": "markdown",
   "metadata": {}
  },
  {
   "source": [
    "### Library Imports"
   ],
   "cell_type": "markdown",
   "metadata": {}
  },
  {
   "cell_type": "code",
   "execution_count": 1,
   "metadata": {},
   "outputs": [],
   "source": [
    "import numpy as np\n",
    "import pandas as pd\n",
    "import random\n",
    "import datetime"
   ]
  },
  {
   "source": [
    "### Data Loading"
   ],
   "cell_type": "markdown",
   "metadata": {}
  },
  {
   "cell_type": "code",
   "execution_count": 2,
   "metadata": {},
   "outputs": [],
   "source": [
    "hr_data = pd.read_csv('./../dataset/HRDataset_v14.csv',header=0)\n",
    "attrition_data = pd.read_csv('./../dataset/WA_Fn-UseC_-HR-Employee-Attrition.csv', header=0)\n",
    "lifestyle_data = pd.read_csv('./../dataset/Wellbeing_and_lifestyle_data_Kaggle.csv', header=0)"
   ]
  },
  {
   "source": [
    "### Data Pre-Processing"
   ],
   "cell_type": "markdown",
   "metadata": {}
  },
  {
   "cell_type": "code",
   "execution_count": 3,
   "metadata": {},
   "outputs": [],
   "source": [
    "hr_data = hr_data[[\"Employee_Name\", \"MaritalStatusID\", \"Sex\", \"DeptID\", \"PerfScoreID\", \"FromDiversityJobFairID\", \"Salary\", \"DOB\", \"CitizenDesc\", \"HispanicLatino\", \"RaceDesc\", \"ManagerID\", \"EngagementSurvey\", \"EmpSatisfaction\", \"SpecialProjectsCount\", \"DaysLateLast30\", \"Absences\"]]\n",
    "\n",
    "attrition_data = attrition_data[[\"Age\", \"Attrition\", \"BusinessTravel\", \"DistanceFromHome\", \"Education\", \"EducationField\", \"EnvironmentSatisfaction\", \"Gender\", \"JobInvolvement\", \"JobLevel\", \"JobSatisfaction\", \"NumCompaniesWorked\", \"OverTime\", \"PercentSalaryHike\", \"PerformanceRating\", \"RelationshipSatisfaction\", \"StockOptionLevel\", \"TrainingTimesLastYear\", \"WorkLifeBalance\", \"YearsAtCompany\", \"YearsInCurrentRole\", \"YearsSinceLastPromotion\", \"YearsWithCurrManager\"]]\n",
    "\n",
    "lifestyle_data = lifestyle_data[['FRUITS_VEGGIES', 'DAILY_STRESS', 'PLACES_VISITED', 'CORE_CIRCLE', 'SUPPORTING_OTHERS', 'SOCIAL_NETWORK', 'ACHIEVEMENT', 'DONATION', 'BMI_RANGE', 'TODO_COMPLETED', 'FLOW', 'DAILY_STEPS', 'LIVE_VISION', 'SLEEP_HOURS', 'LOST_VACATION', 'DAILY_SHOUTING', 'SUFFICIENT_INCOME', 'PERSONAL_AWARDS', 'TIME_FOR_PASSION', 'WEEKLY_MEDITATION', 'AGE', 'GENDER', 'WORK_LIFE_BALANCE_SCORE']]"
   ]
  },
  {
   "cell_type": "code",
   "execution_count": 4,
   "metadata": {},
   "outputs": [],
   "source": [
    "def age_grouping(Age):\n",
    "    Age = int(Age)\n",
    "    if Age<=20:\n",
    "        return 'Less than 20'\n",
    "    elif Age>=21 and Age<=35:\n",
    "        return '21 to 35'\n",
    "    elif Age>=36 and Age<=50:\n",
    "        return '36 to 50'\n",
    "    elif Age>=51:\n",
    "        return '51 or more'"
   ]
  },
  {
   "source": [
    "hr_data['Employee_ID'] = np.arange(1,312)\n",
    "hr_data['DOB'] = pd.to_datetime(hr_data.DOB)\n",
    "hr_data['Age'] = pd.to_datetime(datetime.date(2017,7,20))\n",
    "hr_data['Age'] = ((abs(hr_data['Age'] - hr_data['DOB']))/365).dt.days\n",
    "hr_data['Age_Group'] = hr_data.Age.apply(lambda x: age_grouping(x))\n",
    "hr_data['Sex'] = hr_data.Sex.str.slice(0,1)\n",
    "hr_data.set_index('Employee_ID',inplace=True)\n",
    "hr_data.to_csv('./../dataset/hr_data.csv')\n",
    "\n",
    "attrition_data['Employee_ID'] = 0\n",
    "attrition_data['Gender'] = attrition_data['Gender'].str.slice(0,1)\n",
    "attrition_data['Age_Group'] = attrition_data.Age.apply(lambda x: age_grouping(x))\n",
    "\n",
    "lifestyle_data['Employee_ID'] = 0\n",
    "lifestyle_data['GENDER'] = lifestyle_data['GENDER'].str.slice(0,1)"
   ],
   "cell_type": "code",
   "metadata": {
    "tags": []
   },
   "execution_count": 5,
   "outputs": []
  },
  {
   "source": [
    "### Data Exploration"
   ],
   "cell_type": "markdown",
   "metadata": {}
  },
  {
   "source": [
    "#### HR Data"
   ],
   "cell_type": "markdown",
   "metadata": {}
  },
  {
   "cell_type": "code",
   "execution_count": 6,
   "metadata": {},
   "outputs": [
    {
     "output_type": "stream",
     "name": "stdout",
     "text": [
      "HR Data Info:\n<class 'pandas.core.frame.DataFrame'>\nInt64Index: 311 entries, 1 to 311\nData columns (total 19 columns):\n #   Column                  Non-Null Count  Dtype         \n---  ------                  --------------  -----         \n 0   Employee_Name           311 non-null    object        \n 1   MaritalStatusID         311 non-null    int64         \n 2   Sex                     311 non-null    object        \n 3   DeptID                  311 non-null    int64         \n 4   PerfScoreID             311 non-null    int64         \n 5   FromDiversityJobFairID  311 non-null    int64         \n 6   Salary                  311 non-null    int64         \n 7   DOB                     311 non-null    datetime64[ns]\n 8   CitizenDesc             311 non-null    object        \n 9   HispanicLatino          311 non-null    object        \n 10  RaceDesc                311 non-null    object        \n 11  ManagerID               303 non-null    float64       \n 12  EngagementSurvey        311 non-null    float64       \n 13  EmpSatisfaction         311 non-null    int64         \n 14  SpecialProjectsCount    311 non-null    int64         \n 15  DaysLateLast30          311 non-null    int64         \n 16  Absences                311 non-null    int64         \n 17  Age                     311 non-null    int64         \n 18  Age_Group               311 non-null    object        \ndtypes: datetime64[ns](1), float64(2), int64(10), object(6)\nmemory usage: 48.6+ KB\nNone\n"
     ]
    },
    {
     "output_type": "execute_result",
     "data": {
      "text/plain": [
       "                        Employee_Name  MaritalStatusID Sex  DeptID  \\\n",
       "Employee_ID                                                          \n",
       "1                 Adinolfi, Wilson  K                0   M       5   \n",
       "2            Ait Sidi, Karthikeyan                   1   M       3   \n",
       "3                   Akinkuolie, Sarah                1   F       5   \n",
       "4                        Alagbe,Trina                1   F       5   \n",
       "5                    Anderson, Carol                 2   F       5   \n",
       "\n",
       "             PerfScoreID  FromDiversityJobFairID  Salary        DOB  \\\n",
       "Employee_ID                                                           \n",
       "1                      4                       0   62506 1983-07-10   \n",
       "2                      3                       0  104437 1975-05-05   \n",
       "3                      3                       0   64955 1988-09-19   \n",
       "4                      3                       0   64991 1988-09-27   \n",
       "5                      3                       0   50825 1989-09-08   \n",
       "\n",
       "            CitizenDesc HispanicLatino RaceDesc  ManagerID  EngagementSurvey  \\\n",
       "Employee_ID                                                                    \n",
       "1            US Citizen             No    White       22.0              4.60   \n",
       "2            US Citizen             No    White        4.0              4.96   \n",
       "3            US Citizen             No    White       20.0              3.02   \n",
       "4            US Citizen             No    White       16.0              4.84   \n",
       "5            US Citizen             No    White       39.0              5.00   \n",
       "\n",
       "             EmpSatisfaction  SpecialProjectsCount  DaysLateLast30  Absences  \\\n",
       "Employee_ID                                                                    \n",
       "1                          5                     0               0         1   \n",
       "2                          3                     6               0        17   \n",
       "3                          3                     0               0         3   \n",
       "4                          5                     0               0        15   \n",
       "5                          4                     0               0         2   \n",
       "\n",
       "             Age Age_Group  \n",
       "Employee_ID                 \n",
       "1             34  21 to 35  \n",
       "2             42  36 to 50  \n",
       "3             28  21 to 35  \n",
       "4             28  21 to 35  \n",
       "5             27  21 to 35  "
      ],
      "text/html": "<div>\n<style scoped>\n    .dataframe tbody tr th:only-of-type {\n        vertical-align: middle;\n    }\n\n    .dataframe tbody tr th {\n        vertical-align: top;\n    }\n\n    .dataframe thead th {\n        text-align: right;\n    }\n</style>\n<table border=\"1\" class=\"dataframe\">\n  <thead>\n    <tr style=\"text-align: right;\">\n      <th></th>\n      <th>Employee_Name</th>\n      <th>MaritalStatusID</th>\n      <th>Sex</th>\n      <th>DeptID</th>\n      <th>PerfScoreID</th>\n      <th>FromDiversityJobFairID</th>\n      <th>Salary</th>\n      <th>DOB</th>\n      <th>CitizenDesc</th>\n      <th>HispanicLatino</th>\n      <th>RaceDesc</th>\n      <th>ManagerID</th>\n      <th>EngagementSurvey</th>\n      <th>EmpSatisfaction</th>\n      <th>SpecialProjectsCount</th>\n      <th>DaysLateLast30</th>\n      <th>Absences</th>\n      <th>Age</th>\n      <th>Age_Group</th>\n    </tr>\n    <tr>\n      <th>Employee_ID</th>\n      <th></th>\n      <th></th>\n      <th></th>\n      <th></th>\n      <th></th>\n      <th></th>\n      <th></th>\n      <th></th>\n      <th></th>\n      <th></th>\n      <th></th>\n      <th></th>\n      <th></th>\n      <th></th>\n      <th></th>\n      <th></th>\n      <th></th>\n      <th></th>\n      <th></th>\n    </tr>\n  </thead>\n  <tbody>\n    <tr>\n      <th>1</th>\n      <td>Adinolfi, Wilson  K</td>\n      <td>0</td>\n      <td>M</td>\n      <td>5</td>\n      <td>4</td>\n      <td>0</td>\n      <td>62506</td>\n      <td>1983-07-10</td>\n      <td>US Citizen</td>\n      <td>No</td>\n      <td>White</td>\n      <td>22.0</td>\n      <td>4.60</td>\n      <td>5</td>\n      <td>0</td>\n      <td>0</td>\n      <td>1</td>\n      <td>34</td>\n      <td>21 to 35</td>\n    </tr>\n    <tr>\n      <th>2</th>\n      <td>Ait Sidi, Karthikeyan</td>\n      <td>1</td>\n      <td>M</td>\n      <td>3</td>\n      <td>3</td>\n      <td>0</td>\n      <td>104437</td>\n      <td>1975-05-05</td>\n      <td>US Citizen</td>\n      <td>No</td>\n      <td>White</td>\n      <td>4.0</td>\n      <td>4.96</td>\n      <td>3</td>\n      <td>6</td>\n      <td>0</td>\n      <td>17</td>\n      <td>42</td>\n      <td>36 to 50</td>\n    </tr>\n    <tr>\n      <th>3</th>\n      <td>Akinkuolie, Sarah</td>\n      <td>1</td>\n      <td>F</td>\n      <td>5</td>\n      <td>3</td>\n      <td>0</td>\n      <td>64955</td>\n      <td>1988-09-19</td>\n      <td>US Citizen</td>\n      <td>No</td>\n      <td>White</td>\n      <td>20.0</td>\n      <td>3.02</td>\n      <td>3</td>\n      <td>0</td>\n      <td>0</td>\n      <td>3</td>\n      <td>28</td>\n      <td>21 to 35</td>\n    </tr>\n    <tr>\n      <th>4</th>\n      <td>Alagbe,Trina</td>\n      <td>1</td>\n      <td>F</td>\n      <td>5</td>\n      <td>3</td>\n      <td>0</td>\n      <td>64991</td>\n      <td>1988-09-27</td>\n      <td>US Citizen</td>\n      <td>No</td>\n      <td>White</td>\n      <td>16.0</td>\n      <td>4.84</td>\n      <td>5</td>\n      <td>0</td>\n      <td>0</td>\n      <td>15</td>\n      <td>28</td>\n      <td>21 to 35</td>\n    </tr>\n    <tr>\n      <th>5</th>\n      <td>Anderson, Carol</td>\n      <td>2</td>\n      <td>F</td>\n      <td>5</td>\n      <td>3</td>\n      <td>0</td>\n      <td>50825</td>\n      <td>1989-09-08</td>\n      <td>US Citizen</td>\n      <td>No</td>\n      <td>White</td>\n      <td>39.0</td>\n      <td>5.00</td>\n      <td>4</td>\n      <td>0</td>\n      <td>0</td>\n      <td>2</td>\n      <td>27</td>\n      <td>21 to 35</td>\n    </tr>\n  </tbody>\n</table>\n</div>"
     },
     "metadata": {},
     "execution_count": 6
    }
   ],
   "source": [
    "print(\"HR Data Info:\")\n",
    "print(hr_data.info())\n",
    "hr_data.head(5)\n"
   ]
  },
  {
   "source": [
    "#### Attrition Data"
   ],
   "cell_type": "markdown",
   "metadata": {}
  },
  {
   "cell_type": "code",
   "execution_count": 7,
   "metadata": {},
   "outputs": [
    {
     "output_type": "stream",
     "name": "stdout",
     "text": [
      "\nEmployee Attrition Data Info:\n<class 'pandas.core.frame.DataFrame'>\nRangeIndex: 1470 entries, 0 to 1469\nData columns (total 25 columns):\n #   Column                    Non-Null Count  Dtype \n---  ------                    --------------  ----- \n 0   Age                       1470 non-null   int64 \n 1   Attrition                 1470 non-null   object\n 2   BusinessTravel            1470 non-null   object\n 3   DistanceFromHome          1470 non-null   int64 \n 4   Education                 1470 non-null   int64 \n 5   EducationField            1470 non-null   object\n 6   EnvironmentSatisfaction   1470 non-null   int64 \n 7   Gender                    1470 non-null   object\n 8   JobInvolvement            1470 non-null   int64 \n 9   JobLevel                  1470 non-null   int64 \n 10  JobSatisfaction           1470 non-null   int64 \n 11  NumCompaniesWorked        1470 non-null   int64 \n 12  OverTime                  1470 non-null   object\n 13  PercentSalaryHike         1470 non-null   int64 \n 14  PerformanceRating         1470 non-null   int64 \n 15  RelationshipSatisfaction  1470 non-null   int64 \n 16  StockOptionLevel          1470 non-null   int64 \n 17  TrainingTimesLastYear     1470 non-null   int64 \n 18  WorkLifeBalance           1470 non-null   int64 \n 19  YearsAtCompany            1470 non-null   int64 \n 20  YearsInCurrentRole        1470 non-null   int64 \n 21  YearsSinceLastPromotion   1470 non-null   int64 \n 22  YearsWithCurrManager      1470 non-null   int64 \n 23  Employee_ID               1470 non-null   int64 \n 24  Age_Group                 1470 non-null   object\ndtypes: int64(19), object(6)\nmemory usage: 287.2+ KB\nNone\n"
     ]
    },
    {
     "output_type": "execute_result",
     "data": {
      "text/plain": [
       "   Age Attrition     BusinessTravel  DistanceFromHome  Education  \\\n",
       "0   41       Yes      Travel_Rarely                 1          2   \n",
       "1   49        No  Travel_Frequently                 8          1   \n",
       "2   37       Yes      Travel_Rarely                 2          2   \n",
       "3   33        No  Travel_Frequently                 3          4   \n",
       "4   27        No      Travel_Rarely                 2          1   \n",
       "\n",
       "  EducationField  EnvironmentSatisfaction Gender  JobInvolvement  JobLevel  \\\n",
       "0  Life Sciences                        2      F               3         2   \n",
       "1  Life Sciences                        3      M               2         2   \n",
       "2          Other                        4      M               2         1   \n",
       "3  Life Sciences                        4      F               3         1   \n",
       "4        Medical                        1      M               3         1   \n",
       "\n",
       "   ...  RelationshipSatisfaction  StockOptionLevel TrainingTimesLastYear  \\\n",
       "0  ...                         1                 0                     0   \n",
       "1  ...                         4                 1                     3   \n",
       "2  ...                         2                 0                     3   \n",
       "3  ...                         3                 0                     3   \n",
       "4  ...                         4                 1                     3   \n",
       "\n",
       "   WorkLifeBalance  YearsAtCompany  YearsInCurrentRole  \\\n",
       "0                1               6                   4   \n",
       "1                3              10                   7   \n",
       "2                3               0                   0   \n",
       "3                3               8                   7   \n",
       "4                3               2                   2   \n",
       "\n",
       "   YearsSinceLastPromotion  YearsWithCurrManager  Employee_ID  Age_Group  \n",
       "0                        0                     5            0   36 to 50  \n",
       "1                        1                     7            0   36 to 50  \n",
       "2                        0                     0            0   36 to 50  \n",
       "3                        3                     0            0   21 to 35  \n",
       "4                        2                     2            0   21 to 35  \n",
       "\n",
       "[5 rows x 25 columns]"
      ],
      "text/html": "<div>\n<style scoped>\n    .dataframe tbody tr th:only-of-type {\n        vertical-align: middle;\n    }\n\n    .dataframe tbody tr th {\n        vertical-align: top;\n    }\n\n    .dataframe thead th {\n        text-align: right;\n    }\n</style>\n<table border=\"1\" class=\"dataframe\">\n  <thead>\n    <tr style=\"text-align: right;\">\n      <th></th>\n      <th>Age</th>\n      <th>Attrition</th>\n      <th>BusinessTravel</th>\n      <th>DistanceFromHome</th>\n      <th>Education</th>\n      <th>EducationField</th>\n      <th>EnvironmentSatisfaction</th>\n      <th>Gender</th>\n      <th>JobInvolvement</th>\n      <th>JobLevel</th>\n      <th>...</th>\n      <th>RelationshipSatisfaction</th>\n      <th>StockOptionLevel</th>\n      <th>TrainingTimesLastYear</th>\n      <th>WorkLifeBalance</th>\n      <th>YearsAtCompany</th>\n      <th>YearsInCurrentRole</th>\n      <th>YearsSinceLastPromotion</th>\n      <th>YearsWithCurrManager</th>\n      <th>Employee_ID</th>\n      <th>Age_Group</th>\n    </tr>\n  </thead>\n  <tbody>\n    <tr>\n      <th>0</th>\n      <td>41</td>\n      <td>Yes</td>\n      <td>Travel_Rarely</td>\n      <td>1</td>\n      <td>2</td>\n      <td>Life Sciences</td>\n      <td>2</td>\n      <td>F</td>\n      <td>3</td>\n      <td>2</td>\n      <td>...</td>\n      <td>1</td>\n      <td>0</td>\n      <td>0</td>\n      <td>1</td>\n      <td>6</td>\n      <td>4</td>\n      <td>0</td>\n      <td>5</td>\n      <td>0</td>\n      <td>36 to 50</td>\n    </tr>\n    <tr>\n      <th>1</th>\n      <td>49</td>\n      <td>No</td>\n      <td>Travel_Frequently</td>\n      <td>8</td>\n      <td>1</td>\n      <td>Life Sciences</td>\n      <td>3</td>\n      <td>M</td>\n      <td>2</td>\n      <td>2</td>\n      <td>...</td>\n      <td>4</td>\n      <td>1</td>\n      <td>3</td>\n      <td>3</td>\n      <td>10</td>\n      <td>7</td>\n      <td>1</td>\n      <td>7</td>\n      <td>0</td>\n      <td>36 to 50</td>\n    </tr>\n    <tr>\n      <th>2</th>\n      <td>37</td>\n      <td>Yes</td>\n      <td>Travel_Rarely</td>\n      <td>2</td>\n      <td>2</td>\n      <td>Other</td>\n      <td>4</td>\n      <td>M</td>\n      <td>2</td>\n      <td>1</td>\n      <td>...</td>\n      <td>2</td>\n      <td>0</td>\n      <td>3</td>\n      <td>3</td>\n      <td>0</td>\n      <td>0</td>\n      <td>0</td>\n      <td>0</td>\n      <td>0</td>\n      <td>36 to 50</td>\n    </tr>\n    <tr>\n      <th>3</th>\n      <td>33</td>\n      <td>No</td>\n      <td>Travel_Frequently</td>\n      <td>3</td>\n      <td>4</td>\n      <td>Life Sciences</td>\n      <td>4</td>\n      <td>F</td>\n      <td>3</td>\n      <td>1</td>\n      <td>...</td>\n      <td>3</td>\n      <td>0</td>\n      <td>3</td>\n      <td>3</td>\n      <td>8</td>\n      <td>7</td>\n      <td>3</td>\n      <td>0</td>\n      <td>0</td>\n      <td>21 to 35</td>\n    </tr>\n    <tr>\n      <th>4</th>\n      <td>27</td>\n      <td>No</td>\n      <td>Travel_Rarely</td>\n      <td>2</td>\n      <td>1</td>\n      <td>Medical</td>\n      <td>1</td>\n      <td>M</td>\n      <td>3</td>\n      <td>1</td>\n      <td>...</td>\n      <td>4</td>\n      <td>1</td>\n      <td>3</td>\n      <td>3</td>\n      <td>2</td>\n      <td>2</td>\n      <td>2</td>\n      <td>2</td>\n      <td>0</td>\n      <td>21 to 35</td>\n    </tr>\n  </tbody>\n</table>\n<p>5 rows × 25 columns</p>\n</div>"
     },
     "metadata": {},
     "execution_count": 7
    }
   ],
   "source": [
    "print(\"\\nEmployee Attrition Data Info:\")\n",
    "print(attrition_data.info())\n",
    "attrition_data.head(5)"
   ]
  },
  {
   "source": [
    "#### Lifestyle Data"
   ],
   "cell_type": "markdown",
   "metadata": {}
  },
  {
   "cell_type": "code",
   "execution_count": 8,
   "metadata": {},
   "outputs": [
    {
     "output_type": "stream",
     "name": "stdout",
     "text": [
      "\nLifestyle and Nutrition Data Info:\n<class 'pandas.core.frame.DataFrame'>\nRangeIndex: 15972 entries, 0 to 15971\nData columns (total 24 columns):\n #   Column                   Non-Null Count  Dtype  \n---  ------                   --------------  -----  \n 0   FRUITS_VEGGIES           15972 non-null  int64  \n 1   DAILY_STRESS             15972 non-null  object \n 2   PLACES_VISITED           15972 non-null  int64  \n 3   CORE_CIRCLE              15972 non-null  int64  \n 4   SUPPORTING_OTHERS        15972 non-null  int64  \n 5   SOCIAL_NETWORK           15972 non-null  int64  \n 6   ACHIEVEMENT              15972 non-null  int64  \n 7   DONATION                 15972 non-null  int64  \n 8   BMI_RANGE                15972 non-null  int64  \n 9   TODO_COMPLETED           15972 non-null  int64  \n 10  FLOW                     15972 non-null  int64  \n 11  DAILY_STEPS              15972 non-null  int64  \n 12  LIVE_VISION              15972 non-null  int64  \n 13  SLEEP_HOURS              15972 non-null  int64  \n 14  LOST_VACATION            15972 non-null  int64  \n 15  DAILY_SHOUTING           15972 non-null  int64  \n 16  SUFFICIENT_INCOME        15972 non-null  int64  \n 17  PERSONAL_AWARDS          15972 non-null  int64  \n 18  TIME_FOR_PASSION         15972 non-null  int64  \n 19  WEEKLY_MEDITATION        15972 non-null  int64  \n 20  AGE                      15972 non-null  object \n 21  GENDER                   15972 non-null  object \n 22  WORK_LIFE_BALANCE_SCORE  15972 non-null  float64\n 23  Employee_ID              15972 non-null  int64  \ndtypes: float64(1), int64(20), object(3)\nmemory usage: 2.9+ MB\nNone\n"
     ]
    },
    {
     "output_type": "execute_result",
     "data": {
      "text/plain": [
       "   FRUITS_VEGGIES DAILY_STRESS  PLACES_VISITED  CORE_CIRCLE  \\\n",
       "0               3            2               2            5   \n",
       "1               2            3               4            3   \n",
       "2               2            3               3            4   \n",
       "3               3            3              10            3   \n",
       "4               5            1               3            3   \n",
       "\n",
       "   SUPPORTING_OTHERS  SOCIAL_NETWORK  ACHIEVEMENT  DONATION  BMI_RANGE  \\\n",
       "0                  0               5            2         0          1   \n",
       "1                  8              10            5         2          2   \n",
       "2                  4              10            3         2          2   \n",
       "3                 10               7            2         5          2   \n",
       "4                 10               4            2         4          2   \n",
       "\n",
       "   TODO_COMPLETED  ...  LOST_VACATION  DAILY_SHOUTING  SUFFICIENT_INCOME  \\\n",
       "0               6  ...              5               5                  1   \n",
       "1               5  ...              2               2                  2   \n",
       "2               2  ...             10               2                  2   \n",
       "3               3  ...              7               5                  1   \n",
       "4               5  ...              0               0                  2   \n",
       "\n",
       "   PERSONAL_AWARDS  TIME_FOR_PASSION  WEEKLY_MEDITATION         AGE  GENDER  \\\n",
       "0                4                 0                  5    36 to 50       F   \n",
       "1                3                 2                  6    36 to 50       F   \n",
       "2                4                 8                  3    36 to 50       F   \n",
       "3                5                 2                  0  51 or more       F   \n",
       "4                8                 1                  5  51 or more       F   \n",
       "\n",
       "   WORK_LIFE_BALANCE_SCORE  Employee_ID  \n",
       "0                    609.5            0  \n",
       "1                    655.6            0  \n",
       "2                    631.6            0  \n",
       "3                    622.7            0  \n",
       "4                    663.9            0  \n",
       "\n",
       "[5 rows x 24 columns]"
      ],
      "text/html": "<div>\n<style scoped>\n    .dataframe tbody tr th:only-of-type {\n        vertical-align: middle;\n    }\n\n    .dataframe tbody tr th {\n        vertical-align: top;\n    }\n\n    .dataframe thead th {\n        text-align: right;\n    }\n</style>\n<table border=\"1\" class=\"dataframe\">\n  <thead>\n    <tr style=\"text-align: right;\">\n      <th></th>\n      <th>FRUITS_VEGGIES</th>\n      <th>DAILY_STRESS</th>\n      <th>PLACES_VISITED</th>\n      <th>CORE_CIRCLE</th>\n      <th>SUPPORTING_OTHERS</th>\n      <th>SOCIAL_NETWORK</th>\n      <th>ACHIEVEMENT</th>\n      <th>DONATION</th>\n      <th>BMI_RANGE</th>\n      <th>TODO_COMPLETED</th>\n      <th>...</th>\n      <th>LOST_VACATION</th>\n      <th>DAILY_SHOUTING</th>\n      <th>SUFFICIENT_INCOME</th>\n      <th>PERSONAL_AWARDS</th>\n      <th>TIME_FOR_PASSION</th>\n      <th>WEEKLY_MEDITATION</th>\n      <th>AGE</th>\n      <th>GENDER</th>\n      <th>WORK_LIFE_BALANCE_SCORE</th>\n      <th>Employee_ID</th>\n    </tr>\n  </thead>\n  <tbody>\n    <tr>\n      <th>0</th>\n      <td>3</td>\n      <td>2</td>\n      <td>2</td>\n      <td>5</td>\n      <td>0</td>\n      <td>5</td>\n      <td>2</td>\n      <td>0</td>\n      <td>1</td>\n      <td>6</td>\n      <td>...</td>\n      <td>5</td>\n      <td>5</td>\n      <td>1</td>\n      <td>4</td>\n      <td>0</td>\n      <td>5</td>\n      <td>36 to 50</td>\n      <td>F</td>\n      <td>609.5</td>\n      <td>0</td>\n    </tr>\n    <tr>\n      <th>1</th>\n      <td>2</td>\n      <td>3</td>\n      <td>4</td>\n      <td>3</td>\n      <td>8</td>\n      <td>10</td>\n      <td>5</td>\n      <td>2</td>\n      <td>2</td>\n      <td>5</td>\n      <td>...</td>\n      <td>2</td>\n      <td>2</td>\n      <td>2</td>\n      <td>3</td>\n      <td>2</td>\n      <td>6</td>\n      <td>36 to 50</td>\n      <td>F</td>\n      <td>655.6</td>\n      <td>0</td>\n    </tr>\n    <tr>\n      <th>2</th>\n      <td>2</td>\n      <td>3</td>\n      <td>3</td>\n      <td>4</td>\n      <td>4</td>\n      <td>10</td>\n      <td>3</td>\n      <td>2</td>\n      <td>2</td>\n      <td>2</td>\n      <td>...</td>\n      <td>10</td>\n      <td>2</td>\n      <td>2</td>\n      <td>4</td>\n      <td>8</td>\n      <td>3</td>\n      <td>36 to 50</td>\n      <td>F</td>\n      <td>631.6</td>\n      <td>0</td>\n    </tr>\n    <tr>\n      <th>3</th>\n      <td>3</td>\n      <td>3</td>\n      <td>10</td>\n      <td>3</td>\n      <td>10</td>\n      <td>7</td>\n      <td>2</td>\n      <td>5</td>\n      <td>2</td>\n      <td>3</td>\n      <td>...</td>\n      <td>7</td>\n      <td>5</td>\n      <td>1</td>\n      <td>5</td>\n      <td>2</td>\n      <td>0</td>\n      <td>51 or more</td>\n      <td>F</td>\n      <td>622.7</td>\n      <td>0</td>\n    </tr>\n    <tr>\n      <th>4</th>\n      <td>5</td>\n      <td>1</td>\n      <td>3</td>\n      <td>3</td>\n      <td>10</td>\n      <td>4</td>\n      <td>2</td>\n      <td>4</td>\n      <td>2</td>\n      <td>5</td>\n      <td>...</td>\n      <td>0</td>\n      <td>0</td>\n      <td>2</td>\n      <td>8</td>\n      <td>1</td>\n      <td>5</td>\n      <td>51 or more</td>\n      <td>F</td>\n      <td>663.9</td>\n      <td>0</td>\n    </tr>\n  </tbody>\n</table>\n<p>5 rows × 24 columns</p>\n</div>"
     },
     "metadata": {},
     "execution_count": 8
    }
   ],
   "source": [
    "print(\"\\nLifestyle and Nutrition Data Info:\")\n",
    "print(lifestyle_data.info())    \n",
    "lifestyle_data.head(5)"
   ]
  },
  {
   "source": [
    "### Data Preparation"
   ],
   "cell_type": "markdown",
   "metadata": {}
  },
  {
   "source": [
    "#### Attrition Data"
   ],
   "cell_type": "markdown",
   "metadata": {}
  },
  {
   "cell_type": "code",
   "execution_count": 9,
   "metadata": {
    "tags": []
   },
   "outputs": [],
   "source": [
    "for i in np.arange(1,312):\n",
    "    attrition = attrition_data.where(attrition_data.Age_Group==hr_data.loc[i,'Age_Group']).dropna()\n",
    "    attrition = attrition.where(attrition.Gender==hr_data.loc[i,'Sex']).dropna()\n",
    "    index = attrition.index.tolist()\n",
    "    flag = 0\n",
    "    while flag == 0:\n",
    "        rand_idx = random.choice(index)\n",
    "        if attrition_data.iloc[rand_idx,-2] == 0:\n",
    "            attrition_data.iloc[rand_idx,-2] = i\n",
    "            flag = 1\n",
    "        elif len(index)>0:\n",
    "            index.remove(rand_idx)\n",
    "        else:\n",
    "            flag = 1\n",
    "attrition = attrition_data.where(attrition_data.Employee_ID!=0).dropna()\n",
    "attrition.set_index('Employee_ID',inplace=True)\n",
    "attrition.to_csv('./../dataset/attrition_data.csv')"
   ]
  },
  {
   "source": [
    "#### Lifestyle Data"
   ],
   "cell_type": "markdown",
   "metadata": {}
  },
  {
   "cell_type": "code",
   "execution_count": 10,
   "metadata": {
    "tags": []
   },
   "outputs": [],
   "source": [
    "for i in np.arange(1,312):\n",
    "    lifestyle = lifestyle_data.where(lifestyle_data.AGE==hr_data.loc[i,'Age_Group']).dropna()\n",
    "    lifestyle = lifestyle.where(lifestyle.GENDER==hr_data.loc[i,'Sex']).dropna()\n",
    "    index = lifestyle.index.tolist()\n",
    "    count = 0\n",
    "    while flag == 0 and count <25 and len(index) > 0: \n",
    "        rand_idx = random.choice(index)\n",
    "        if lifestyle_data.iloc[rand_idx,-1] == -1:\n",
    "            lifestyle_data.iloc[rand_idx,-1] = i\n",
    "            index.remove(rand_idx)\n",
    "            count += 1\n",
    "        elif lifestyle_data.iloc[rand_idx,-1] != -1:\n",
    "            index.remove(rand_idx)\n",
    "        elif len(index)==0:\n",
    "            break\n",
    "lifestyle = lifestyle_data.where(lifestyle_data.Employee_ID!=0).dropna()\n",
    "lifestyle.set_index('Employee_ID',inplace=True)\n",
    "lifestyle.to_csv('./../dataset/lifestyle_data.csv')"
   ]
  },
  {
   "source": [
    "### Data Exploration Post Processing"
   ],
   "cell_type": "markdown",
   "metadata": {}
  },
  {
   "source": [
    "#### Attrition Data"
   ],
   "cell_type": "markdown",
   "metadata": {}
  },
  {
   "cell_type": "code",
   "execution_count": 11,
   "metadata": {},
   "outputs": [
    {
     "output_type": "stream",
     "name": "stdout",
     "text": [
      "\nEmployee Attrition Data Info:\n<class 'pandas.core.frame.DataFrame'>\nFloat64Index: 311 entries, 116.0 to 158.0\nData columns (total 24 columns):\n #   Column                    Non-Null Count  Dtype  \n---  ------                    --------------  -----  \n 0   Age                       311 non-null    float64\n 1   Attrition                 311 non-null    object \n 2   BusinessTravel            311 non-null    object \n 3   DistanceFromHome          311 non-null    float64\n 4   Education                 311 non-null    float64\n 5   EducationField            311 non-null    object \n 6   EnvironmentSatisfaction   311 non-null    float64\n 7   Gender                    311 non-null    object \n 8   JobInvolvement            311 non-null    float64\n 9   JobLevel                  311 non-null    float64\n 10  JobSatisfaction           311 non-null    float64\n 11  NumCompaniesWorked        311 non-null    float64\n 12  OverTime                  311 non-null    object \n 13  PercentSalaryHike         311 non-null    float64\n 14  PerformanceRating         311 non-null    float64\n 15  RelationshipSatisfaction  311 non-null    float64\n 16  StockOptionLevel          311 non-null    float64\n 17  TrainingTimesLastYear     311 non-null    float64\n 18  WorkLifeBalance           311 non-null    float64\n 19  YearsAtCompany            311 non-null    float64\n 20  YearsInCurrentRole        311 non-null    float64\n 21  YearsSinceLastPromotion   311 non-null    float64\n 22  YearsWithCurrManager      311 non-null    float64\n 23  Age_Group                 311 non-null    object \ndtypes: float64(18), object(6)\nmemory usage: 60.7+ KB\nNone\n"
     ]
    },
    {
     "output_type": "execute_result",
     "data": {
      "text/plain": [
       "              Age Attrition     BusinessTravel  DistanceFromHome  Education  \\\n",
       "Employee_ID                                                                   \n",
       "116.0        37.0       Yes      Travel_Rarely               2.0        2.0   \n",
       "211.0        27.0        No      Travel_Rarely               2.0        1.0   \n",
       "18.0         59.0        No      Travel_Rarely               3.0        3.0   \n",
       "258.0        38.0        No  Travel_Frequently              23.0        3.0   \n",
       "238.0        35.0        No      Travel_Rarely              16.0        3.0   \n",
       "\n",
       "            EducationField  EnvironmentSatisfaction Gender  JobInvolvement  \\\n",
       "Employee_ID                                                                  \n",
       "116.0                Other                      4.0      M             2.0   \n",
       "211.0              Medical                      1.0      M             3.0   \n",
       "18.0               Medical                      3.0      F             4.0   \n",
       "258.0        Life Sciences                      4.0      M             2.0   \n",
       "238.0              Medical                      1.0      M             4.0   \n",
       "\n",
       "             JobLevel  ...  PerformanceRating  RelationshipSatisfaction  \\\n",
       "Employee_ID            ...                                                \n",
       "116.0             1.0  ...                3.0                       2.0   \n",
       "211.0             1.0  ...                3.0                       4.0   \n",
       "18.0              1.0  ...                4.0                       1.0   \n",
       "258.0             3.0  ...                4.0                       2.0   \n",
       "238.0             1.0  ...                3.0                       3.0   \n",
       "\n",
       "            StockOptionLevel  TrainingTimesLastYear  WorkLifeBalance  \\\n",
       "Employee_ID                                                            \n",
       "116.0                    0.0                    3.0              3.0   \n",
       "211.0                    1.0                    3.0              3.0   \n",
       "18.0                     3.0                    3.0              2.0   \n",
       "258.0                    0.0                    2.0              3.0   \n",
       "238.0                    1.0                    5.0              3.0   \n",
       "\n",
       "             YearsAtCompany  YearsInCurrentRole  YearsSinceLastPromotion  \\\n",
       "Employee_ID                                                                \n",
       "116.0                   0.0                 0.0                      0.0   \n",
       "211.0                   2.0                 2.0                      2.0   \n",
       "18.0                    1.0                 0.0                      0.0   \n",
       "258.0                   9.0                 7.0                      1.0   \n",
       "238.0                   5.0                 4.0                      0.0   \n",
       "\n",
       "             YearsWithCurrManager   Age_Group  \n",
       "Employee_ID                                    \n",
       "116.0                         0.0    36 to 50  \n",
       "211.0                         2.0    21 to 35  \n",
       "18.0                          0.0  51 or more  \n",
       "258.0                         8.0    36 to 50  \n",
       "238.0                         3.0    21 to 35  \n",
       "\n",
       "[5 rows x 24 columns]"
      ],
      "text/html": "<div>\n<style scoped>\n    .dataframe tbody tr th:only-of-type {\n        vertical-align: middle;\n    }\n\n    .dataframe tbody tr th {\n        vertical-align: top;\n    }\n\n    .dataframe thead th {\n        text-align: right;\n    }\n</style>\n<table border=\"1\" class=\"dataframe\">\n  <thead>\n    <tr style=\"text-align: right;\">\n      <th></th>\n      <th>Age</th>\n      <th>Attrition</th>\n      <th>BusinessTravel</th>\n      <th>DistanceFromHome</th>\n      <th>Education</th>\n      <th>EducationField</th>\n      <th>EnvironmentSatisfaction</th>\n      <th>Gender</th>\n      <th>JobInvolvement</th>\n      <th>JobLevel</th>\n      <th>...</th>\n      <th>PerformanceRating</th>\n      <th>RelationshipSatisfaction</th>\n      <th>StockOptionLevel</th>\n      <th>TrainingTimesLastYear</th>\n      <th>WorkLifeBalance</th>\n      <th>YearsAtCompany</th>\n      <th>YearsInCurrentRole</th>\n      <th>YearsSinceLastPromotion</th>\n      <th>YearsWithCurrManager</th>\n      <th>Age_Group</th>\n    </tr>\n    <tr>\n      <th>Employee_ID</th>\n      <th></th>\n      <th></th>\n      <th></th>\n      <th></th>\n      <th></th>\n      <th></th>\n      <th></th>\n      <th></th>\n      <th></th>\n      <th></th>\n      <th></th>\n      <th></th>\n      <th></th>\n      <th></th>\n      <th></th>\n      <th></th>\n      <th></th>\n      <th></th>\n      <th></th>\n      <th></th>\n      <th></th>\n    </tr>\n  </thead>\n  <tbody>\n    <tr>\n      <th>116.0</th>\n      <td>37.0</td>\n      <td>Yes</td>\n      <td>Travel_Rarely</td>\n      <td>2.0</td>\n      <td>2.0</td>\n      <td>Other</td>\n      <td>4.0</td>\n      <td>M</td>\n      <td>2.0</td>\n      <td>1.0</td>\n      <td>...</td>\n      <td>3.0</td>\n      <td>2.0</td>\n      <td>0.0</td>\n      <td>3.0</td>\n      <td>3.0</td>\n      <td>0.0</td>\n      <td>0.0</td>\n      <td>0.0</td>\n      <td>0.0</td>\n      <td>36 to 50</td>\n    </tr>\n    <tr>\n      <th>211.0</th>\n      <td>27.0</td>\n      <td>No</td>\n      <td>Travel_Rarely</td>\n      <td>2.0</td>\n      <td>1.0</td>\n      <td>Medical</td>\n      <td>1.0</td>\n      <td>M</td>\n      <td>3.0</td>\n      <td>1.0</td>\n      <td>...</td>\n      <td>3.0</td>\n      <td>4.0</td>\n      <td>1.0</td>\n      <td>3.0</td>\n      <td>3.0</td>\n      <td>2.0</td>\n      <td>2.0</td>\n      <td>2.0</td>\n      <td>2.0</td>\n      <td>21 to 35</td>\n    </tr>\n    <tr>\n      <th>18.0</th>\n      <td>59.0</td>\n      <td>No</td>\n      <td>Travel_Rarely</td>\n      <td>3.0</td>\n      <td>3.0</td>\n      <td>Medical</td>\n      <td>3.0</td>\n      <td>F</td>\n      <td>4.0</td>\n      <td>1.0</td>\n      <td>...</td>\n      <td>4.0</td>\n      <td>1.0</td>\n      <td>3.0</td>\n      <td>3.0</td>\n      <td>2.0</td>\n      <td>1.0</td>\n      <td>0.0</td>\n      <td>0.0</td>\n      <td>0.0</td>\n      <td>51 or more</td>\n    </tr>\n    <tr>\n      <th>258.0</th>\n      <td>38.0</td>\n      <td>No</td>\n      <td>Travel_Frequently</td>\n      <td>23.0</td>\n      <td>3.0</td>\n      <td>Life Sciences</td>\n      <td>4.0</td>\n      <td>M</td>\n      <td>2.0</td>\n      <td>3.0</td>\n      <td>...</td>\n      <td>4.0</td>\n      <td>2.0</td>\n      <td>0.0</td>\n      <td>2.0</td>\n      <td>3.0</td>\n      <td>9.0</td>\n      <td>7.0</td>\n      <td>1.0</td>\n      <td>8.0</td>\n      <td>36 to 50</td>\n    </tr>\n    <tr>\n      <th>238.0</th>\n      <td>35.0</td>\n      <td>No</td>\n      <td>Travel_Rarely</td>\n      <td>16.0</td>\n      <td>3.0</td>\n      <td>Medical</td>\n      <td>1.0</td>\n      <td>M</td>\n      <td>4.0</td>\n      <td>1.0</td>\n      <td>...</td>\n      <td>3.0</td>\n      <td>3.0</td>\n      <td>1.0</td>\n      <td>5.0</td>\n      <td>3.0</td>\n      <td>5.0</td>\n      <td>4.0</td>\n      <td>0.0</td>\n      <td>3.0</td>\n      <td>21 to 35</td>\n    </tr>\n  </tbody>\n</table>\n<p>5 rows × 24 columns</p>\n</div>"
     },
     "metadata": {},
     "execution_count": 11
    }
   ],
   "source": [
    "print(\"\\nEmployee Attrition Data Info:\")\n",
    "print(attrition.info())\n",
    "attrition.head(5)"
   ]
  },
  {
   "source": [
    "#### Lifestyle Data"
   ],
   "cell_type": "markdown",
   "metadata": {}
  },
  {
   "cell_type": "code",
   "execution_count": 12,
   "metadata": {},
   "outputs": [
    {
     "output_type": "stream",
     "name": "stdout",
     "text": [
      "\nEmployee Lifestyle and Nutrition Data Info:\n<class 'pandas.core.frame.DataFrame'>\nFloat64Index: 0 entries\nData columns (total 23 columns):\n #   Column                   Non-Null Count  Dtype  \n---  ------                   --------------  -----  \n 0   FRUITS_VEGGIES           0 non-null      float64\n 1   DAILY_STRESS             0 non-null      object \n 2   PLACES_VISITED           0 non-null      float64\n 3   CORE_CIRCLE              0 non-null      float64\n 4   SUPPORTING_OTHERS        0 non-null      float64\n 5   SOCIAL_NETWORK           0 non-null      float64\n 6   ACHIEVEMENT              0 non-null      float64\n 7   DONATION                 0 non-null      float64\n 8   BMI_RANGE                0 non-null      float64\n 9   TODO_COMPLETED           0 non-null      float64\n 10  FLOW                     0 non-null      float64\n 11  DAILY_STEPS              0 non-null      float64\n 12  LIVE_VISION              0 non-null      float64\n 13  SLEEP_HOURS              0 non-null      float64\n 14  LOST_VACATION            0 non-null      float64\n 15  DAILY_SHOUTING           0 non-null      float64\n 16  SUFFICIENT_INCOME        0 non-null      float64\n 17  PERSONAL_AWARDS          0 non-null      float64\n 18  TIME_FOR_PASSION         0 non-null      float64\n 19  WEEKLY_MEDITATION        0 non-null      float64\n 20  AGE                      0 non-null      object \n 21  GENDER                   0 non-null      object \n 22  WORK_LIFE_BALANCE_SCORE  0 non-null      float64\ndtypes: float64(20), object(3)\nmemory usage: 0.0+ bytes\nNone\n"
     ]
    },
    {
     "output_type": "execute_result",
     "data": {
      "text/plain": [
       "Empty DataFrame\n",
       "Columns: [FRUITS_VEGGIES, DAILY_STRESS, PLACES_VISITED, CORE_CIRCLE, SUPPORTING_OTHERS, SOCIAL_NETWORK, ACHIEVEMENT, DONATION, BMI_RANGE, TODO_COMPLETED, FLOW, DAILY_STEPS, LIVE_VISION, SLEEP_HOURS, LOST_VACATION, DAILY_SHOUTING, SUFFICIENT_INCOME, PERSONAL_AWARDS, TIME_FOR_PASSION, WEEKLY_MEDITATION, AGE, GENDER, WORK_LIFE_BALANCE_SCORE]\n",
       "Index: []\n",
       "\n",
       "[0 rows x 23 columns]"
      ],
      "text/html": "<div>\n<style scoped>\n    .dataframe tbody tr th:only-of-type {\n        vertical-align: middle;\n    }\n\n    .dataframe tbody tr th {\n        vertical-align: top;\n    }\n\n    .dataframe thead th {\n        text-align: right;\n    }\n</style>\n<table border=\"1\" class=\"dataframe\">\n  <thead>\n    <tr style=\"text-align: right;\">\n      <th></th>\n      <th>FRUITS_VEGGIES</th>\n      <th>DAILY_STRESS</th>\n      <th>PLACES_VISITED</th>\n      <th>CORE_CIRCLE</th>\n      <th>SUPPORTING_OTHERS</th>\n      <th>SOCIAL_NETWORK</th>\n      <th>ACHIEVEMENT</th>\n      <th>DONATION</th>\n      <th>BMI_RANGE</th>\n      <th>TODO_COMPLETED</th>\n      <th>...</th>\n      <th>SLEEP_HOURS</th>\n      <th>LOST_VACATION</th>\n      <th>DAILY_SHOUTING</th>\n      <th>SUFFICIENT_INCOME</th>\n      <th>PERSONAL_AWARDS</th>\n      <th>TIME_FOR_PASSION</th>\n      <th>WEEKLY_MEDITATION</th>\n      <th>AGE</th>\n      <th>GENDER</th>\n      <th>WORK_LIFE_BALANCE_SCORE</th>\n    </tr>\n    <tr>\n      <th>Employee_ID</th>\n      <th></th>\n      <th></th>\n      <th></th>\n      <th></th>\n      <th></th>\n      <th></th>\n      <th></th>\n      <th></th>\n      <th></th>\n      <th></th>\n      <th></th>\n      <th></th>\n      <th></th>\n      <th></th>\n      <th></th>\n      <th></th>\n      <th></th>\n      <th></th>\n      <th></th>\n      <th></th>\n      <th></th>\n    </tr>\n  </thead>\n  <tbody>\n  </tbody>\n</table>\n<p>0 rows × 23 columns</p>\n</div>"
     },
     "metadata": {},
     "execution_count": 12
    }
   ],
   "source": [
    "print(\"\\nEmployee Lifestyle and Nutrition Data Info:\")\n",
    "print(lifestyle.info())\n",
    "lifestyle.head(5)"
   ]
  }
 ]
}
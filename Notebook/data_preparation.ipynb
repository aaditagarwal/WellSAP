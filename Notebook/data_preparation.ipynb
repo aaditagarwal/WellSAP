{
 "metadata": {
  "language_info": {
   "codemirror_mode": {
    "name": "ipython",
    "version": 3
   },
   "file_extension": ".py",
   "mimetype": "text/x-python",
   "name": "python",
   "nbconvert_exporter": "python",
   "pygments_lexer": "ipython3",
   "version": "3.8.5-final"
  },
  "orig_nbformat": 2,
  "kernelspec": {
   "name": "python385jvsc74a57bd0905d0f07fe6f5c8c643ac9513defc256c6184424042a8d14d49292ea27dd2c1d",
   "display_name": "Python 3.8.5 64-bit ('gpu_env': conda)"
  }
 },
 "nbformat": 4,
 "nbformat_minor": 2,
 "cells": [
  {
   "source": [
    "# WellSAP"
   ],
   "cell_type": "markdown",
   "metadata": {}
  },
  {
   "source": [
    "## Data Preparation"
   ],
   "cell_type": "markdown",
   "metadata": {}
  },
  {
   "source": [
    "### Library Imports"
   ],
   "cell_type": "markdown",
   "metadata": {}
  },
  {
   "cell_type": "code",
   "execution_count": 1,
   "metadata": {},
   "outputs": [],
   "source": [
    "import numpy as np\n",
    "import pandas as pd\n",
    "import random\n",
    "import datetime"
   ]
  },
  {
   "source": [
    "### Data Loading"
   ],
   "cell_type": "markdown",
   "metadata": {}
  },
  {
   "cell_type": "code",
   "execution_count": 2,
   "metadata": {},
   "outputs": [],
   "source": [
    "hr_data = pd.read_csv('./../dataset/HRDataset_v14.csv',header=0)\n",
    "attrition_data = pd.read_csv('./../dataset/WA_Fn-UseC_-HR-Employee-Attrition.csv', header=0)\n",
    "lifestyle_data = pd.read_csv('./../dataset/Wellbeing_and_lifestyle_data_Kaggle.csv', header=0)"
   ]
  },
  {
   "source": [
    "### Data Pre-Processing"
   ],
   "cell_type": "markdown",
   "metadata": {}
  },
  {
   "cell_type": "code",
   "execution_count": 3,
   "metadata": {},
   "outputs": [],
   "source": [
    "hr_data = hr_data[[\"Employee_Name\", \"MaritalStatusID\", \"Sex\", \"DeptID\", \"PerfScoreID\", \"FromDiversityJobFairID\", \"Salary\", \"Termd\", \"Position\", \"DOB\", \"CitizenDesc\", \"HispanicLatino\", \"RaceDesc\", \"DateofHire\", \"DateofTermination\", \"ManagerID\", \"EngagementSurvey\", \"EmpSatisfaction\", \"SpecialProjectsCount\", \"DaysLateLast30\", \"Absences\"]]\n",
    "\n",
    "attrition_data = attrition_data[[\"Age\", \"Attrition\", \"BusinessTravel\", \"DistanceFromHome\", \"Department\", \"Education\", \"EducationField\", \"EnvironmentSatisfaction\", \"Gender\", \"HourlyRate\", \"JobInvolvement\", \"JobLevel\", \"JobSatisfaction\", \"MonthlyIncome\", \"NumCompaniesWorked\", \"OverTime\", \"PercentSalaryHike\", \"PerformanceRating\", \"RelationshipSatisfaction\", \"StockOptionLevel\", \"TrainingTimesLastYear\", \"WorkLifeBalance\", \"YearsAtCompany\", \"YearsInCurrentRole\", \"YearsSinceLastPromotion\", \"YearsWithCurrManager\"]]\n",
    "\n",
    "lifestyle_data = lifestyle_data[['FRUITS_VEGGIES', 'DAILY_STRESS', 'PLACES_VISITED', 'CORE_CIRCLE', 'SUPPORTING_OTHERS', 'SOCIAL_NETWORK', 'ACHIEVEMENT', 'DONATION', 'BMI_RANGE', 'TODO_COMPLETED', 'FLOW', 'DAILY_STEPS', 'LIVE_VISION', 'SLEEP_HOURS', 'LOST_VACATION', 'DAILY_SHOUTING', 'SUFFICIENT_INCOME', 'PERSONAL_AWARDS', 'TIME_FOR_PASSION', 'WEEKLY_MEDITATION', 'AGE', 'GENDER', 'WORK_LIFE_BALANCE_SCORE']]"
   ]
  },
  {
   "cell_type": "code",
   "execution_count": 4,
   "metadata": {},
   "outputs": [],
   "source": [
    "def age_grouping(Age):\n",
    "    Age = int(Age)\n",
    "    if Age<=20:\n",
    "        return 'Less than 20'\n",
    "    elif Age>=21 and Age<=35:\n",
    "        return '21 to 35'\n",
    "    elif Age>=36 and Age<=50:\n",
    "        return '36 to 50'\n",
    "    elif Age>=51:\n",
    "        return '51 or more'"
   ]
  },
  {
   "source": [
    "hr_data['Employee_ID'] = np.arange(1,312)\n",
    "hr_data['DOB'] = pd.to_datetime(hr_data.DOB)\n",
    "hr_data['Age'] = pd.to_datetime(datetime.date(2017,7,20))\n",
    "hr_data['Age'] = ((abs(hr_data['Age'] - hr_data['DOB']))/365).dt.days\n",
    "hr_data['Age_Group'] = hr_data.Age.apply(lambda x: age_grouping(x))\n",
    "hr_data['Sex'] = hr_data.Sex.str.slice(0,1)\n",
    "hr_data.set_index('Employee_ID',inplace=True)\n",
    "\n",
    "attrition_data['Employee_ID'] = 0\n",
    "attrition_data['Gender'] = attrition_data['Gender'].str.slice(0,1)\n",
    "attrition_data['Age_Group'] = attrition_data.Age.apply(lambda x: age_grouping(x))\n",
    "\n",
    "lifestyle_data['Employee_ID'] = 0\n",
    "lifestyle_data['GENDER'] = lifestyle_data['GENDER'].str.slice(0,1)"
   ],
   "cell_type": "code",
   "metadata": {
    "tags": []
   },
   "execution_count": 5,
   "outputs": []
  },
  {
   "source": [
    "### Data Exploration"
   ],
   "cell_type": "markdown",
   "metadata": {}
  },
  {
   "source": [
    "#### HR Data"
   ],
   "cell_type": "markdown",
   "metadata": {}
  },
  {
   "cell_type": "code",
   "execution_count": 6,
   "metadata": {},
   "outputs": [
    {
     "output_type": "stream",
     "name": "stdout",
     "text": [
      "HR Data Info:\n<class 'pandas.core.frame.DataFrame'>\nInt64Index: 311 entries, 1 to 311\nData columns (total 23 columns):\n #   Column                  Non-Null Count  Dtype         \n---  ------                  --------------  -----         \n 0   Employee_Name           311 non-null    object        \n 1   MaritalStatusID         311 non-null    int64         \n 2   Sex                     311 non-null    object        \n 3   DeptID                  311 non-null    int64         \n 4   PerfScoreID             311 non-null    int64         \n 5   FromDiversityJobFairID  311 non-null    int64         \n 6   Salary                  311 non-null    int64         \n 7   Termd                   311 non-null    int64         \n 8   Position                311 non-null    object        \n 9   DOB                     311 non-null    datetime64[ns]\n 10  CitizenDesc             311 non-null    object        \n 11  HispanicLatino          311 non-null    object        \n 12  RaceDesc                311 non-null    object        \n 13  DateofHire              311 non-null    object        \n 14  DateofTermination       104 non-null    object        \n 15  ManagerID               303 non-null    float64       \n 16  EngagementSurvey        311 non-null    float64       \n 17  EmpSatisfaction         311 non-null    int64         \n 18  SpecialProjectsCount    311 non-null    int64         \n 19  DaysLateLast30          311 non-null    int64         \n 20  Absences                311 non-null    int64         \n 21  Age                     311 non-null    int64         \n 22  Age_Group               311 non-null    object        \ndtypes: datetime64[ns](1), float64(2), int64(11), object(9)\nmemory usage: 58.3+ KB\nNone\n"
     ]
    },
    {
     "output_type": "execute_result",
     "data": {
      "text/plain": [
       "                        Employee_Name  MaritalStatusID Sex  DeptID  \\\n",
       "Employee_ID                                                          \n",
       "1                 Adinolfi, Wilson  K                0   M       5   \n",
       "2            Ait Sidi, Karthikeyan                   1   M       3   \n",
       "3                   Akinkuolie, Sarah                1   F       5   \n",
       "4                        Alagbe,Trina                1   F       5   \n",
       "5                    Anderson, Carol                 2   F       5   \n",
       "\n",
       "             PerfScoreID  FromDiversityJobFairID  Salary  Termd  \\\n",
       "Employee_ID                                                       \n",
       "1                      4                       0   62506      0   \n",
       "2                      3                       0  104437      1   \n",
       "3                      3                       0   64955      1   \n",
       "4                      3                       0   64991      0   \n",
       "5                      3                       0   50825      1   \n",
       "\n",
       "                             Position        DOB  ... DateofHire  \\\n",
       "Employee_ID                                       ...              \n",
       "1             Production Technician I 1983-07-10  ...   7/5/2011   \n",
       "2                             Sr. DBA 1975-05-05  ...  3/30/2015   \n",
       "3            Production Technician II 1988-09-19  ...   7/5/2011   \n",
       "4             Production Technician I 1988-09-27  ...   1/7/2008   \n",
       "5             Production Technician I 1989-09-08  ...  7/11/2011   \n",
       "\n",
       "            DateofTermination ManagerID EngagementSurvey EmpSatisfaction  \\\n",
       "Employee_ID                                                                \n",
       "1                         NaN      22.0             4.60               5   \n",
       "2                   6/16/2016       4.0             4.96               3   \n",
       "3                   9/24/2012      20.0             3.02               3   \n",
       "4                         NaN      16.0             4.84               5   \n",
       "5                    9/6/2016      39.0             5.00               4   \n",
       "\n",
       "             SpecialProjectsCount  DaysLateLast30  Absences  Age  Age_Group  \n",
       "Employee_ID                                                                  \n",
       "1                               0               0         1   34   21 to 35  \n",
       "2                               6               0        17   42   36 to 50  \n",
       "3                               0               0         3   28   21 to 35  \n",
       "4                               0               0        15   28   21 to 35  \n",
       "5                               0               0         2   27   21 to 35  \n",
       "\n",
       "[5 rows x 23 columns]"
      ],
      "text/html": "<div>\n<style scoped>\n    .dataframe tbody tr th:only-of-type {\n        vertical-align: middle;\n    }\n\n    .dataframe tbody tr th {\n        vertical-align: top;\n    }\n\n    .dataframe thead th {\n        text-align: right;\n    }\n</style>\n<table border=\"1\" class=\"dataframe\">\n  <thead>\n    <tr style=\"text-align: right;\">\n      <th></th>\n      <th>Employee_Name</th>\n      <th>MaritalStatusID</th>\n      <th>Sex</th>\n      <th>DeptID</th>\n      <th>PerfScoreID</th>\n      <th>FromDiversityJobFairID</th>\n      <th>Salary</th>\n      <th>Termd</th>\n      <th>Position</th>\n      <th>DOB</th>\n      <th>...</th>\n      <th>DateofHire</th>\n      <th>DateofTermination</th>\n      <th>ManagerID</th>\n      <th>EngagementSurvey</th>\n      <th>EmpSatisfaction</th>\n      <th>SpecialProjectsCount</th>\n      <th>DaysLateLast30</th>\n      <th>Absences</th>\n      <th>Age</th>\n      <th>Age_Group</th>\n    </tr>\n    <tr>\n      <th>Employee_ID</th>\n      <th></th>\n      <th></th>\n      <th></th>\n      <th></th>\n      <th></th>\n      <th></th>\n      <th></th>\n      <th></th>\n      <th></th>\n      <th></th>\n      <th></th>\n      <th></th>\n      <th></th>\n      <th></th>\n      <th></th>\n      <th></th>\n      <th></th>\n      <th></th>\n      <th></th>\n      <th></th>\n      <th></th>\n    </tr>\n  </thead>\n  <tbody>\n    <tr>\n      <th>1</th>\n      <td>Adinolfi, Wilson  K</td>\n      <td>0</td>\n      <td>M</td>\n      <td>5</td>\n      <td>4</td>\n      <td>0</td>\n      <td>62506</td>\n      <td>0</td>\n      <td>Production Technician I</td>\n      <td>1983-07-10</td>\n      <td>...</td>\n      <td>7/5/2011</td>\n      <td>NaN</td>\n      <td>22.0</td>\n      <td>4.60</td>\n      <td>5</td>\n      <td>0</td>\n      <td>0</td>\n      <td>1</td>\n      <td>34</td>\n      <td>21 to 35</td>\n    </tr>\n    <tr>\n      <th>2</th>\n      <td>Ait Sidi, Karthikeyan</td>\n      <td>1</td>\n      <td>M</td>\n      <td>3</td>\n      <td>3</td>\n      <td>0</td>\n      <td>104437</td>\n      <td>1</td>\n      <td>Sr. DBA</td>\n      <td>1975-05-05</td>\n      <td>...</td>\n      <td>3/30/2015</td>\n      <td>6/16/2016</td>\n      <td>4.0</td>\n      <td>4.96</td>\n      <td>3</td>\n      <td>6</td>\n      <td>0</td>\n      <td>17</td>\n      <td>42</td>\n      <td>36 to 50</td>\n    </tr>\n    <tr>\n      <th>3</th>\n      <td>Akinkuolie, Sarah</td>\n      <td>1</td>\n      <td>F</td>\n      <td>5</td>\n      <td>3</td>\n      <td>0</td>\n      <td>64955</td>\n      <td>1</td>\n      <td>Production Technician II</td>\n      <td>1988-09-19</td>\n      <td>...</td>\n      <td>7/5/2011</td>\n      <td>9/24/2012</td>\n      <td>20.0</td>\n      <td>3.02</td>\n      <td>3</td>\n      <td>0</td>\n      <td>0</td>\n      <td>3</td>\n      <td>28</td>\n      <td>21 to 35</td>\n    </tr>\n    <tr>\n      <th>4</th>\n      <td>Alagbe,Trina</td>\n      <td>1</td>\n      <td>F</td>\n      <td>5</td>\n      <td>3</td>\n      <td>0</td>\n      <td>64991</td>\n      <td>0</td>\n      <td>Production Technician I</td>\n      <td>1988-09-27</td>\n      <td>...</td>\n      <td>1/7/2008</td>\n      <td>NaN</td>\n      <td>16.0</td>\n      <td>4.84</td>\n      <td>5</td>\n      <td>0</td>\n      <td>0</td>\n      <td>15</td>\n      <td>28</td>\n      <td>21 to 35</td>\n    </tr>\n    <tr>\n      <th>5</th>\n      <td>Anderson, Carol</td>\n      <td>2</td>\n      <td>F</td>\n      <td>5</td>\n      <td>3</td>\n      <td>0</td>\n      <td>50825</td>\n      <td>1</td>\n      <td>Production Technician I</td>\n      <td>1989-09-08</td>\n      <td>...</td>\n      <td>7/11/2011</td>\n      <td>9/6/2016</td>\n      <td>39.0</td>\n      <td>5.00</td>\n      <td>4</td>\n      <td>0</td>\n      <td>0</td>\n      <td>2</td>\n      <td>27</td>\n      <td>21 to 35</td>\n    </tr>\n  </tbody>\n</table>\n<p>5 rows × 23 columns</p>\n</div>"
     },
     "metadata": {},
     "execution_count": 6
    }
   ],
   "source": [
    "print(\"HR Data Info:\")\n",
    "print(hr_data.info())\n",
    "hr_data.head(5)"
   ]
  },
  {
   "source": [
    "#### Attrition Data"
   ],
   "cell_type": "markdown",
   "metadata": {}
  },
  {
   "cell_type": "code",
   "execution_count": 7,
   "metadata": {},
   "outputs": [
    {
     "output_type": "stream",
     "name": "stdout",
     "text": [
      "\nEmployee Attrition Data Info:\n<class 'pandas.core.frame.DataFrame'>\nRangeIndex: 1470 entries, 0 to 1469\nData columns (total 28 columns):\n #   Column                    Non-Null Count  Dtype \n---  ------                    --------------  ----- \n 0   Age                       1470 non-null   int64 \n 1   Attrition                 1470 non-null   object\n 2   BusinessTravel            1470 non-null   object\n 3   DistanceFromHome          1470 non-null   int64 \n 4   Department                1470 non-null   object\n 5   Education                 1470 non-null   int64 \n 6   EducationField            1470 non-null   object\n 7   EnvironmentSatisfaction   1470 non-null   int64 \n 8   Gender                    1470 non-null   object\n 9   HourlyRate                1470 non-null   int64 \n 10  JobInvolvement            1470 non-null   int64 \n 11  JobLevel                  1470 non-null   int64 \n 12  JobSatisfaction           1470 non-null   int64 \n 13  MonthlyIncome             1470 non-null   int64 \n 14  NumCompaniesWorked        1470 non-null   int64 \n 15  OverTime                  1470 non-null   object\n 16  PercentSalaryHike         1470 non-null   int64 \n 17  PerformanceRating         1470 non-null   int64 \n 18  RelationshipSatisfaction  1470 non-null   int64 \n 19  StockOptionLevel          1470 non-null   int64 \n 20  TrainingTimesLastYear     1470 non-null   int64 \n 21  WorkLifeBalance           1470 non-null   int64 \n 22  YearsAtCompany            1470 non-null   int64 \n 23  YearsInCurrentRole        1470 non-null   int64 \n 24  YearsSinceLastPromotion   1470 non-null   int64 \n 25  YearsWithCurrManager      1470 non-null   int64 \n 26  Employee_ID               1470 non-null   int64 \n 27  Age_Group                 1470 non-null   object\ndtypes: int64(21), object(7)\nmemory usage: 321.7+ KB\nNone\n"
     ]
    },
    {
     "output_type": "execute_result",
     "data": {
      "text/plain": [
       "   Age Attrition     BusinessTravel  DistanceFromHome              Department  \\\n",
       "0   41       Yes      Travel_Rarely                 1                   Sales   \n",
       "1   49        No  Travel_Frequently                 8  Research & Development   \n",
       "2   37       Yes      Travel_Rarely                 2  Research & Development   \n",
       "3   33        No  Travel_Frequently                 3  Research & Development   \n",
       "4   27        No      Travel_Rarely                 2  Research & Development   \n",
       "\n",
       "   Education EducationField  EnvironmentSatisfaction Gender  HourlyRate  ...  \\\n",
       "0          2  Life Sciences                        2      F          94  ...   \n",
       "1          1  Life Sciences                        3      M          61  ...   \n",
       "2          2          Other                        4      M          92  ...   \n",
       "3          4  Life Sciences                        4      F          56  ...   \n",
       "4          1        Medical                        1      M          40  ...   \n",
       "\n",
       "   RelationshipSatisfaction  StockOptionLevel  TrainingTimesLastYear  \\\n",
       "0                         1                 0                      0   \n",
       "1                         4                 1                      3   \n",
       "2                         2                 0                      3   \n",
       "3                         3                 0                      3   \n",
       "4                         4                 1                      3   \n",
       "\n",
       "   WorkLifeBalance  YearsAtCompany YearsInCurrentRole  \\\n",
       "0                1               6                  4   \n",
       "1                3              10                  7   \n",
       "2                3               0                  0   \n",
       "3                3               8                  7   \n",
       "4                3               2                  2   \n",
       "\n",
       "   YearsSinceLastPromotion  YearsWithCurrManager  Employee_ID  Age_Group  \n",
       "0                        0                     5            0   36 to 50  \n",
       "1                        1                     7            0   36 to 50  \n",
       "2                        0                     0            0   36 to 50  \n",
       "3                        3                     0            0   21 to 35  \n",
       "4                        2                     2            0   21 to 35  \n",
       "\n",
       "[5 rows x 28 columns]"
      ],
      "text/html": "<div>\n<style scoped>\n    .dataframe tbody tr th:only-of-type {\n        vertical-align: middle;\n    }\n\n    .dataframe tbody tr th {\n        vertical-align: top;\n    }\n\n    .dataframe thead th {\n        text-align: right;\n    }\n</style>\n<table border=\"1\" class=\"dataframe\">\n  <thead>\n    <tr style=\"text-align: right;\">\n      <th></th>\n      <th>Age</th>\n      <th>Attrition</th>\n      <th>BusinessTravel</th>\n      <th>DistanceFromHome</th>\n      <th>Department</th>\n      <th>Education</th>\n      <th>EducationField</th>\n      <th>EnvironmentSatisfaction</th>\n      <th>Gender</th>\n      <th>HourlyRate</th>\n      <th>...</th>\n      <th>RelationshipSatisfaction</th>\n      <th>StockOptionLevel</th>\n      <th>TrainingTimesLastYear</th>\n      <th>WorkLifeBalance</th>\n      <th>YearsAtCompany</th>\n      <th>YearsInCurrentRole</th>\n      <th>YearsSinceLastPromotion</th>\n      <th>YearsWithCurrManager</th>\n      <th>Employee_ID</th>\n      <th>Age_Group</th>\n    </tr>\n  </thead>\n  <tbody>\n    <tr>\n      <th>0</th>\n      <td>41</td>\n      <td>Yes</td>\n      <td>Travel_Rarely</td>\n      <td>1</td>\n      <td>Sales</td>\n      <td>2</td>\n      <td>Life Sciences</td>\n      <td>2</td>\n      <td>F</td>\n      <td>94</td>\n      <td>...</td>\n      <td>1</td>\n      <td>0</td>\n      <td>0</td>\n      <td>1</td>\n      <td>6</td>\n      <td>4</td>\n      <td>0</td>\n      <td>5</td>\n      <td>0</td>\n      <td>36 to 50</td>\n    </tr>\n    <tr>\n      <th>1</th>\n      <td>49</td>\n      <td>No</td>\n      <td>Travel_Frequently</td>\n      <td>8</td>\n      <td>Research &amp; Development</td>\n      <td>1</td>\n      <td>Life Sciences</td>\n      <td>3</td>\n      <td>M</td>\n      <td>61</td>\n      <td>...</td>\n      <td>4</td>\n      <td>1</td>\n      <td>3</td>\n      <td>3</td>\n      <td>10</td>\n      <td>7</td>\n      <td>1</td>\n      <td>7</td>\n      <td>0</td>\n      <td>36 to 50</td>\n    </tr>\n    <tr>\n      <th>2</th>\n      <td>37</td>\n      <td>Yes</td>\n      <td>Travel_Rarely</td>\n      <td>2</td>\n      <td>Research &amp; Development</td>\n      <td>2</td>\n      <td>Other</td>\n      <td>4</td>\n      <td>M</td>\n      <td>92</td>\n      <td>...</td>\n      <td>2</td>\n      <td>0</td>\n      <td>3</td>\n      <td>3</td>\n      <td>0</td>\n      <td>0</td>\n      <td>0</td>\n      <td>0</td>\n      <td>0</td>\n      <td>36 to 50</td>\n    </tr>\n    <tr>\n      <th>3</th>\n      <td>33</td>\n      <td>No</td>\n      <td>Travel_Frequently</td>\n      <td>3</td>\n      <td>Research &amp; Development</td>\n      <td>4</td>\n      <td>Life Sciences</td>\n      <td>4</td>\n      <td>F</td>\n      <td>56</td>\n      <td>...</td>\n      <td>3</td>\n      <td>0</td>\n      <td>3</td>\n      <td>3</td>\n      <td>8</td>\n      <td>7</td>\n      <td>3</td>\n      <td>0</td>\n      <td>0</td>\n      <td>21 to 35</td>\n    </tr>\n    <tr>\n      <th>4</th>\n      <td>27</td>\n      <td>No</td>\n      <td>Travel_Rarely</td>\n      <td>2</td>\n      <td>Research &amp; Development</td>\n      <td>1</td>\n      <td>Medical</td>\n      <td>1</td>\n      <td>M</td>\n      <td>40</td>\n      <td>...</td>\n      <td>4</td>\n      <td>1</td>\n      <td>3</td>\n      <td>3</td>\n      <td>2</td>\n      <td>2</td>\n      <td>2</td>\n      <td>2</td>\n      <td>0</td>\n      <td>21 to 35</td>\n    </tr>\n  </tbody>\n</table>\n<p>5 rows × 28 columns</p>\n</div>"
     },
     "metadata": {},
     "execution_count": 7
    }
   ],
   "source": [
    "print(\"\\nEmployee Attrition Data Info:\")\n",
    "print(attrition_data.info())\n",
    "attrition_data.head(5)"
   ]
  },
  {
   "source": [
    "#### Lifestyle Data"
   ],
   "cell_type": "markdown",
   "metadata": {}
  },
  {
   "cell_type": "code",
   "execution_count": 8,
   "metadata": {},
   "outputs": [
    {
     "output_type": "stream",
     "name": "stdout",
     "text": [
      "\nLifestyle and Nutrition Data Info:\n<class 'pandas.core.frame.DataFrame'>\nRangeIndex: 15972 entries, 0 to 15971\nData columns (total 24 columns):\n #   Column                   Non-Null Count  Dtype  \n---  ------                   --------------  -----  \n 0   FRUITS_VEGGIES           15972 non-null  int64  \n 1   DAILY_STRESS             15972 non-null  object \n 2   PLACES_VISITED           15972 non-null  int64  \n 3   CORE_CIRCLE              15972 non-null  int64  \n 4   SUPPORTING_OTHERS        15972 non-null  int64  \n 5   SOCIAL_NETWORK           15972 non-null  int64  \n 6   ACHIEVEMENT              15972 non-null  int64  \n 7   DONATION                 15972 non-null  int64  \n 8   BMI_RANGE                15972 non-null  int64  \n 9   TODO_COMPLETED           15972 non-null  int64  \n 10  FLOW                     15972 non-null  int64  \n 11  DAILY_STEPS              15972 non-null  int64  \n 12  LIVE_VISION              15972 non-null  int64  \n 13  SLEEP_HOURS              15972 non-null  int64  \n 14  LOST_VACATION            15972 non-null  int64  \n 15  DAILY_SHOUTING           15972 non-null  int64  \n 16  SUFFICIENT_INCOME        15972 non-null  int64  \n 17  PERSONAL_AWARDS          15972 non-null  int64  \n 18  TIME_FOR_PASSION         15972 non-null  int64  \n 19  WEEKLY_MEDITATION        15972 non-null  int64  \n 20  AGE                      15972 non-null  object \n 21  GENDER                   15972 non-null  object \n 22  WORK_LIFE_BALANCE_SCORE  15972 non-null  float64\n 23  Employee_ID              15972 non-null  int64  \ndtypes: float64(1), int64(20), object(3)\nmemory usage: 2.9+ MB\nNone\n"
     ]
    },
    {
     "output_type": "execute_result",
     "data": {
      "text/plain": [
       "   FRUITS_VEGGIES DAILY_STRESS  PLACES_VISITED  CORE_CIRCLE  \\\n",
       "0               3            2               2            5   \n",
       "1               2            3               4            3   \n",
       "2               2            3               3            4   \n",
       "3               3            3              10            3   \n",
       "4               5            1               3            3   \n",
       "\n",
       "   SUPPORTING_OTHERS  SOCIAL_NETWORK  ACHIEVEMENT  DONATION  BMI_RANGE  \\\n",
       "0                  0               5            2         0          1   \n",
       "1                  8              10            5         2          2   \n",
       "2                  4              10            3         2          2   \n",
       "3                 10               7            2         5          2   \n",
       "4                 10               4            2         4          2   \n",
       "\n",
       "   TODO_COMPLETED  ...  LOST_VACATION  DAILY_SHOUTING  SUFFICIENT_INCOME  \\\n",
       "0               6  ...              5               5                  1   \n",
       "1               5  ...              2               2                  2   \n",
       "2               2  ...             10               2                  2   \n",
       "3               3  ...              7               5                  1   \n",
       "4               5  ...              0               0                  2   \n",
       "\n",
       "   PERSONAL_AWARDS  TIME_FOR_PASSION  WEEKLY_MEDITATION         AGE  GENDER  \\\n",
       "0                4                 0                  5    36 to 50       F   \n",
       "1                3                 2                  6    36 to 50       F   \n",
       "2                4                 8                  3    36 to 50       F   \n",
       "3                5                 2                  0  51 or more       F   \n",
       "4                8                 1                  5  51 or more       F   \n",
       "\n",
       "   WORK_LIFE_BALANCE_SCORE  Employee_ID  \n",
       "0                    609.5            0  \n",
       "1                    655.6            0  \n",
       "2                    631.6            0  \n",
       "3                    622.7            0  \n",
       "4                    663.9            0  \n",
       "\n",
       "[5 rows x 24 columns]"
      ],
      "text/html": "<div>\n<style scoped>\n    .dataframe tbody tr th:only-of-type {\n        vertical-align: middle;\n    }\n\n    .dataframe tbody tr th {\n        vertical-align: top;\n    }\n\n    .dataframe thead th {\n        text-align: right;\n    }\n</style>\n<table border=\"1\" class=\"dataframe\">\n  <thead>\n    <tr style=\"text-align: right;\">\n      <th></th>\n      <th>FRUITS_VEGGIES</th>\n      <th>DAILY_STRESS</th>\n      <th>PLACES_VISITED</th>\n      <th>CORE_CIRCLE</th>\n      <th>SUPPORTING_OTHERS</th>\n      <th>SOCIAL_NETWORK</th>\n      <th>ACHIEVEMENT</th>\n      <th>DONATION</th>\n      <th>BMI_RANGE</th>\n      <th>TODO_COMPLETED</th>\n      <th>...</th>\n      <th>LOST_VACATION</th>\n      <th>DAILY_SHOUTING</th>\n      <th>SUFFICIENT_INCOME</th>\n      <th>PERSONAL_AWARDS</th>\n      <th>TIME_FOR_PASSION</th>\n      <th>WEEKLY_MEDITATION</th>\n      <th>AGE</th>\n      <th>GENDER</th>\n      <th>WORK_LIFE_BALANCE_SCORE</th>\n      <th>Employee_ID</th>\n    </tr>\n  </thead>\n  <tbody>\n    <tr>\n      <th>0</th>\n      <td>3</td>\n      <td>2</td>\n      <td>2</td>\n      <td>5</td>\n      <td>0</td>\n      <td>5</td>\n      <td>2</td>\n      <td>0</td>\n      <td>1</td>\n      <td>6</td>\n      <td>...</td>\n      <td>5</td>\n      <td>5</td>\n      <td>1</td>\n      <td>4</td>\n      <td>0</td>\n      <td>5</td>\n      <td>36 to 50</td>\n      <td>F</td>\n      <td>609.5</td>\n      <td>0</td>\n    </tr>\n    <tr>\n      <th>1</th>\n      <td>2</td>\n      <td>3</td>\n      <td>4</td>\n      <td>3</td>\n      <td>8</td>\n      <td>10</td>\n      <td>5</td>\n      <td>2</td>\n      <td>2</td>\n      <td>5</td>\n      <td>...</td>\n      <td>2</td>\n      <td>2</td>\n      <td>2</td>\n      <td>3</td>\n      <td>2</td>\n      <td>6</td>\n      <td>36 to 50</td>\n      <td>F</td>\n      <td>655.6</td>\n      <td>0</td>\n    </tr>\n    <tr>\n      <th>2</th>\n      <td>2</td>\n      <td>3</td>\n      <td>3</td>\n      <td>4</td>\n      <td>4</td>\n      <td>10</td>\n      <td>3</td>\n      <td>2</td>\n      <td>2</td>\n      <td>2</td>\n      <td>...</td>\n      <td>10</td>\n      <td>2</td>\n      <td>2</td>\n      <td>4</td>\n      <td>8</td>\n      <td>3</td>\n      <td>36 to 50</td>\n      <td>F</td>\n      <td>631.6</td>\n      <td>0</td>\n    </tr>\n    <tr>\n      <th>3</th>\n      <td>3</td>\n      <td>3</td>\n      <td>10</td>\n      <td>3</td>\n      <td>10</td>\n      <td>7</td>\n      <td>2</td>\n      <td>5</td>\n      <td>2</td>\n      <td>3</td>\n      <td>...</td>\n      <td>7</td>\n      <td>5</td>\n      <td>1</td>\n      <td>5</td>\n      <td>2</td>\n      <td>0</td>\n      <td>51 or more</td>\n      <td>F</td>\n      <td>622.7</td>\n      <td>0</td>\n    </tr>\n    <tr>\n      <th>4</th>\n      <td>5</td>\n      <td>1</td>\n      <td>3</td>\n      <td>3</td>\n      <td>10</td>\n      <td>4</td>\n      <td>2</td>\n      <td>4</td>\n      <td>2</td>\n      <td>5</td>\n      <td>...</td>\n      <td>0</td>\n      <td>0</td>\n      <td>2</td>\n      <td>8</td>\n      <td>1</td>\n      <td>5</td>\n      <td>51 or more</td>\n      <td>F</td>\n      <td>663.9</td>\n      <td>0</td>\n    </tr>\n  </tbody>\n</table>\n<p>5 rows × 24 columns</p>\n</div>"
     },
     "metadata": {},
     "execution_count": 8
    }
   ],
   "source": [
    "print(\"\\nLifestyle and Nutrition Data Info:\")\n",
    "print(lifestyle_data.info())    \n",
    "lifestyle_data.head(5)"
   ]
  },
  {
   "source": [
    "### Data Preparation"
   ],
   "cell_type": "markdown",
   "metadata": {}
  },
  {
   "source": [
    "#### Attrition Data"
   ],
   "cell_type": "markdown",
   "metadata": {}
  },
  {
   "cell_type": "code",
   "execution_count": 9,
   "metadata": {
    "tags": []
   },
   "outputs": [],
   "source": [
    "for i in np.arange(1,312):\n",
    "    attrition = attrition_data.where(attrition_data.Age_Group==hr_data.loc[i,'Age_Group']).dropna()\n",
    "    attrition = attrition.where(attrition.Gender==hr_data.loc[i,'Sex']).dropna()\n",
    "    index = attrition.index.tolist()\n",
    "    flag = 0\n",
    "    while flag == 0:\n",
    "        rand_idx = random.choice(index)\n",
    "        if attrition_data.iloc[rand_idx,-2] == 0:\n",
    "            attrition_data.iloc[rand_idx,-2] = i\n",
    "            flag = 1\n",
    "        elif len(index)>0:\n",
    "            index.remove(rand_idx)\n",
    "        else:\n",
    "            flag = 1\n",
    "attrition = attrition_data.where(attrition_data.Employee_ID!=0).dropna()\n",
    "attrition.set_index('Employee_ID',inplace=True)\n",
    "attrition.to_csv('./../dataset/attrition_data.csv')"
   ]
  },
  {
   "source": [
    "#### Lifestyle Data"
   ],
   "cell_type": "markdown",
   "metadata": {}
  },
  {
   "cell_type": "code",
   "execution_count": 10,
   "metadata": {
    "tags": []
   },
   "outputs": [],
   "source": [
    "for i in np.arange(1,312):\n",
    "    lifestyle = lifestyle_data.where(lifestyle_data.AGE==hr_data.loc[i,'Age_Group']).dropna()\n",
    "    lifestyle = lifestyle.where(lifestyle.GENDER==hr_data.loc[i,'Sex']).dropna()\n",
    "    index = lifestyle.index.tolist()\n",
    "    count = 0\n",
    "    while flag == 0 and count <25 and len(index) > 0: \n",
    "        rand_idx = random.choice(index)\n",
    "        if lifestyle_data.iloc[rand_idx,-1] == -1:\n",
    "            lifestyle_data.iloc[rand_idx,-1] = i\n",
    "            index.remove(rand_idx)\n",
    "            count += 1\n",
    "        elif lifestyle_data.iloc[rand_idx,-1] != -1:\n",
    "            index.remove(rand_idx)\n",
    "        elif len(index)==0:\n",
    "            break\n",
    "lifestyle = lifestyle_data.where(lifestyle_data.Employee_ID!=0).dropna()\n",
    "lifestyle.set_index('Employee_ID',inplace=True)\n",
    "lifestyle.to_csv('./../dataset/lifestyle_data.csv')"
   ]
  },
  {
   "source": [
    "### Data Exploration Post Processing"
   ],
   "cell_type": "markdown",
   "metadata": {}
  },
  {
   "source": [
    "#### Attrition Data"
   ],
   "cell_type": "markdown",
   "metadata": {}
  },
  {
   "cell_type": "code",
   "execution_count": 11,
   "metadata": {},
   "outputs": [
    {
     "output_type": "stream",
     "name": "stdout",
     "text": [
      "\nEmployee Attrition Data Info:\n<class 'pandas.core.frame.DataFrame'>\nFloat64Index: 311 entries, 235.0 to 82.0\nData columns (total 27 columns):\n #   Column                    Non-Null Count  Dtype  \n---  ------                    --------------  -----  \n 0   Age                       311 non-null    float64\n 1   Attrition                 311 non-null    object \n 2   BusinessTravel            311 non-null    object \n 3   DistanceFromHome          311 non-null    float64\n 4   Department                311 non-null    object \n 5   Education                 311 non-null    float64\n 6   EducationField            311 non-null    object \n 7   EnvironmentSatisfaction   311 non-null    float64\n 8   Gender                    311 non-null    object \n 9   HourlyRate                311 non-null    float64\n 10  JobInvolvement            311 non-null    float64\n 11  JobLevel                  311 non-null    float64\n 12  JobSatisfaction           311 non-null    float64\n 13  MonthlyIncome             311 non-null    float64\n 14  NumCompaniesWorked        311 non-null    float64\n 15  OverTime                  311 non-null    object \n 16  PercentSalaryHike         311 non-null    float64\n 17  PerformanceRating         311 non-null    float64\n 18  RelationshipSatisfaction  311 non-null    float64\n 19  StockOptionLevel          311 non-null    float64\n 20  TrainingTimesLastYear     311 non-null    float64\n 21  WorkLifeBalance           311 non-null    float64\n 22  YearsAtCompany            311 non-null    float64\n 23  YearsInCurrentRole        311 non-null    float64\n 24  YearsSinceLastPromotion   311 non-null    float64\n 25  YearsWithCurrManager      311 non-null    float64\n 26  Age_Group                 311 non-null    object \ndtypes: float64(20), object(7)\nmemory usage: 68.0+ KB\nNone\n"
     ]
    },
    {
     "output_type": "execute_result",
     "data": {
      "text/plain": [
       "              Age Attrition     BusinessTravel  DistanceFromHome  \\\n",
       "Employee_ID                                                        \n",
       "235.0        37.0       Yes      Travel_Rarely               2.0   \n",
       "30.0         33.0        No  Travel_Frequently               3.0   \n",
       "227.0        59.0        No      Travel_Rarely               3.0   \n",
       "307.0        35.0        No      Travel_Rarely              16.0   \n",
       "293.0        31.0        No      Travel_Rarely              26.0   \n",
       "\n",
       "                         Department  Education EducationField  \\\n",
       "Employee_ID                                                     \n",
       "235.0        Research & Development        2.0          Other   \n",
       "30.0         Research & Development        4.0  Life Sciences   \n",
       "227.0        Research & Development        3.0        Medical   \n",
       "307.0        Research & Development        3.0        Medical   \n",
       "293.0        Research & Development        1.0  Life Sciences   \n",
       "\n",
       "             EnvironmentSatisfaction Gender  HourlyRate  ...  \\\n",
       "Employee_ID                                              ...   \n",
       "235.0                            4.0      M        92.0  ...   \n",
       "30.0                             4.0      F        56.0  ...   \n",
       "227.0                            3.0      F        81.0  ...   \n",
       "307.0                            1.0      M        84.0  ...   \n",
       "293.0                            1.0      M        31.0  ...   \n",
       "\n",
       "             PerformanceRating  RelationshipSatisfaction  StockOptionLevel  \\\n",
       "Employee_ID                                                                  \n",
       "235.0                      3.0                       2.0               0.0   \n",
       "30.0                       3.0                       3.0               0.0   \n",
       "227.0                      4.0                       1.0               3.0   \n",
       "307.0                      3.0                       3.0               1.0   \n",
       "293.0                      3.0                       4.0               1.0   \n",
       "\n",
       "             TrainingTimesLastYear  WorkLifeBalance YearsAtCompany  \\\n",
       "Employee_ID                                                          \n",
       "235.0                          3.0              3.0            0.0   \n",
       "30.0                           3.0              3.0            8.0   \n",
       "227.0                          3.0              2.0            1.0   \n",
       "307.0                          5.0              3.0            5.0   \n",
       "293.0                          1.0              2.0            5.0   \n",
       "\n",
       "             YearsInCurrentRole  YearsSinceLastPromotion  \\\n",
       "Employee_ID                                                \n",
       "235.0                       0.0                      0.0   \n",
       "30.0                        7.0                      3.0   \n",
       "227.0                       0.0                      0.0   \n",
       "307.0                       4.0                      0.0   \n",
       "293.0                       2.0                      4.0   \n",
       "\n",
       "             YearsWithCurrManager   Age_Group  \n",
       "Employee_ID                                    \n",
       "235.0                         0.0    36 to 50  \n",
       "30.0                          0.0    21 to 35  \n",
       "227.0                         0.0  51 or more  \n",
       "307.0                         3.0    21 to 35  \n",
       "293.0                         3.0    21 to 35  \n",
       "\n",
       "[5 rows x 27 columns]"
      ],
      "text/html": "<div>\n<style scoped>\n    .dataframe tbody tr th:only-of-type {\n        vertical-align: middle;\n    }\n\n    .dataframe tbody tr th {\n        vertical-align: top;\n    }\n\n    .dataframe thead th {\n        text-align: right;\n    }\n</style>\n<table border=\"1\" class=\"dataframe\">\n  <thead>\n    <tr style=\"text-align: right;\">\n      <th></th>\n      <th>Age</th>\n      <th>Attrition</th>\n      <th>BusinessTravel</th>\n      <th>DistanceFromHome</th>\n      <th>Department</th>\n      <th>Education</th>\n      <th>EducationField</th>\n      <th>EnvironmentSatisfaction</th>\n      <th>Gender</th>\n      <th>HourlyRate</th>\n      <th>...</th>\n      <th>PerformanceRating</th>\n      <th>RelationshipSatisfaction</th>\n      <th>StockOptionLevel</th>\n      <th>TrainingTimesLastYear</th>\n      <th>WorkLifeBalance</th>\n      <th>YearsAtCompany</th>\n      <th>YearsInCurrentRole</th>\n      <th>YearsSinceLastPromotion</th>\n      <th>YearsWithCurrManager</th>\n      <th>Age_Group</th>\n    </tr>\n    <tr>\n      <th>Employee_ID</th>\n      <th></th>\n      <th></th>\n      <th></th>\n      <th></th>\n      <th></th>\n      <th></th>\n      <th></th>\n      <th></th>\n      <th></th>\n      <th></th>\n      <th></th>\n      <th></th>\n      <th></th>\n      <th></th>\n      <th></th>\n      <th></th>\n      <th></th>\n      <th></th>\n      <th></th>\n      <th></th>\n      <th></th>\n    </tr>\n  </thead>\n  <tbody>\n    <tr>\n      <th>235.0</th>\n      <td>37.0</td>\n      <td>Yes</td>\n      <td>Travel_Rarely</td>\n      <td>2.0</td>\n      <td>Research &amp; Development</td>\n      <td>2.0</td>\n      <td>Other</td>\n      <td>4.0</td>\n      <td>M</td>\n      <td>92.0</td>\n      <td>...</td>\n      <td>3.0</td>\n      <td>2.0</td>\n      <td>0.0</td>\n      <td>3.0</td>\n      <td>3.0</td>\n      <td>0.0</td>\n      <td>0.0</td>\n      <td>0.0</td>\n      <td>0.0</td>\n      <td>36 to 50</td>\n    </tr>\n    <tr>\n      <th>30.0</th>\n      <td>33.0</td>\n      <td>No</td>\n      <td>Travel_Frequently</td>\n      <td>3.0</td>\n      <td>Research &amp; Development</td>\n      <td>4.0</td>\n      <td>Life Sciences</td>\n      <td>4.0</td>\n      <td>F</td>\n      <td>56.0</td>\n      <td>...</td>\n      <td>3.0</td>\n      <td>3.0</td>\n      <td>0.0</td>\n      <td>3.0</td>\n      <td>3.0</td>\n      <td>8.0</td>\n      <td>7.0</td>\n      <td>3.0</td>\n      <td>0.0</td>\n      <td>21 to 35</td>\n    </tr>\n    <tr>\n      <th>227.0</th>\n      <td>59.0</td>\n      <td>No</td>\n      <td>Travel_Rarely</td>\n      <td>3.0</td>\n      <td>Research &amp; Development</td>\n      <td>3.0</td>\n      <td>Medical</td>\n      <td>3.0</td>\n      <td>F</td>\n      <td>81.0</td>\n      <td>...</td>\n      <td>4.0</td>\n      <td>1.0</td>\n      <td>3.0</td>\n      <td>3.0</td>\n      <td>2.0</td>\n      <td>1.0</td>\n      <td>0.0</td>\n      <td>0.0</td>\n      <td>0.0</td>\n      <td>51 or more</td>\n    </tr>\n    <tr>\n      <th>307.0</th>\n      <td>35.0</td>\n      <td>No</td>\n      <td>Travel_Rarely</td>\n      <td>16.0</td>\n      <td>Research &amp; Development</td>\n      <td>3.0</td>\n      <td>Medical</td>\n      <td>1.0</td>\n      <td>M</td>\n      <td>84.0</td>\n      <td>...</td>\n      <td>3.0</td>\n      <td>3.0</td>\n      <td>1.0</td>\n      <td>5.0</td>\n      <td>3.0</td>\n      <td>5.0</td>\n      <td>4.0</td>\n      <td>0.0</td>\n      <td>3.0</td>\n      <td>21 to 35</td>\n    </tr>\n    <tr>\n      <th>293.0</th>\n      <td>31.0</td>\n      <td>No</td>\n      <td>Travel_Rarely</td>\n      <td>26.0</td>\n      <td>Research &amp; Development</td>\n      <td>1.0</td>\n      <td>Life Sciences</td>\n      <td>1.0</td>\n      <td>M</td>\n      <td>31.0</td>\n      <td>...</td>\n      <td>3.0</td>\n      <td>4.0</td>\n      <td>1.0</td>\n      <td>1.0</td>\n      <td>2.0</td>\n      <td>5.0</td>\n      <td>2.0</td>\n      <td>4.0</td>\n      <td>3.0</td>\n      <td>21 to 35</td>\n    </tr>\n  </tbody>\n</table>\n<p>5 rows × 27 columns</p>\n</div>"
     },
     "metadata": {},
     "execution_count": 11
    }
   ],
   "source": [
    "print(\"\\nEmployee Attrition Data Info:\")\n",
    "print(attrition.info())\n",
    "attrition.head(5)"
   ]
  },
  {
   "source": [
    "#### Lifestyle Data"
   ],
   "cell_type": "markdown",
   "metadata": {}
  },
  {
   "cell_type": "code",
   "execution_count": 12,
   "metadata": {},
   "outputs": [
    {
     "output_type": "stream",
     "name": "stdout",
     "text": [
      "\nEmployee Lifestyle and Nutrition Data Info:\n<class 'pandas.core.frame.DataFrame'>\nFloat64Index: 0 entries\nData columns (total 23 columns):\n #   Column                   Non-Null Count  Dtype  \n---  ------                   --------------  -----  \n 0   FRUITS_VEGGIES           0 non-null      float64\n 1   DAILY_STRESS             0 non-null      object \n 2   PLACES_VISITED           0 non-null      float64\n 3   CORE_CIRCLE              0 non-null      float64\n 4   SUPPORTING_OTHERS        0 non-null      float64\n 5   SOCIAL_NETWORK           0 non-null      float64\n 6   ACHIEVEMENT              0 non-null      float64\n 7   DONATION                 0 non-null      float64\n 8   BMI_RANGE                0 non-null      float64\n 9   TODO_COMPLETED           0 non-null      float64\n 10  FLOW                     0 non-null      float64\n 11  DAILY_STEPS              0 non-null      float64\n 12  LIVE_VISION              0 non-null      float64\n 13  SLEEP_HOURS              0 non-null      float64\n 14  LOST_VACATION            0 non-null      float64\n 15  DAILY_SHOUTING           0 non-null      float64\n 16  SUFFICIENT_INCOME        0 non-null      float64\n 17  PERSONAL_AWARDS          0 non-null      float64\n 18  TIME_FOR_PASSION         0 non-null      float64\n 19  WEEKLY_MEDITATION        0 non-null      float64\n 20  AGE                      0 non-null      object \n 21  GENDER                   0 non-null      object \n 22  WORK_LIFE_BALANCE_SCORE  0 non-null      float64\ndtypes: float64(20), object(3)\nmemory usage: 0.0+ bytes\nNone\n"
     ]
    },
    {
     "output_type": "execute_result",
     "data": {
      "text/plain": [
       "Empty DataFrame\n",
       "Columns: [FRUITS_VEGGIES, DAILY_STRESS, PLACES_VISITED, CORE_CIRCLE, SUPPORTING_OTHERS, SOCIAL_NETWORK, ACHIEVEMENT, DONATION, BMI_RANGE, TODO_COMPLETED, FLOW, DAILY_STEPS, LIVE_VISION, SLEEP_HOURS, LOST_VACATION, DAILY_SHOUTING, SUFFICIENT_INCOME, PERSONAL_AWARDS, TIME_FOR_PASSION, WEEKLY_MEDITATION, AGE, GENDER, WORK_LIFE_BALANCE_SCORE]\n",
       "Index: []\n",
       "\n",
       "[0 rows x 23 columns]"
      ],
      "text/html": "<div>\n<style scoped>\n    .dataframe tbody tr th:only-of-type {\n        vertical-align: middle;\n    }\n\n    .dataframe tbody tr th {\n        vertical-align: top;\n    }\n\n    .dataframe thead th {\n        text-align: right;\n    }\n</style>\n<table border=\"1\" class=\"dataframe\">\n  <thead>\n    <tr style=\"text-align: right;\">\n      <th></th>\n      <th>FRUITS_VEGGIES</th>\n      <th>DAILY_STRESS</th>\n      <th>PLACES_VISITED</th>\n      <th>CORE_CIRCLE</th>\n      <th>SUPPORTING_OTHERS</th>\n      <th>SOCIAL_NETWORK</th>\n      <th>ACHIEVEMENT</th>\n      <th>DONATION</th>\n      <th>BMI_RANGE</th>\n      <th>TODO_COMPLETED</th>\n      <th>...</th>\n      <th>SLEEP_HOURS</th>\n      <th>LOST_VACATION</th>\n      <th>DAILY_SHOUTING</th>\n      <th>SUFFICIENT_INCOME</th>\n      <th>PERSONAL_AWARDS</th>\n      <th>TIME_FOR_PASSION</th>\n      <th>WEEKLY_MEDITATION</th>\n      <th>AGE</th>\n      <th>GENDER</th>\n      <th>WORK_LIFE_BALANCE_SCORE</th>\n    </tr>\n    <tr>\n      <th>Employee_ID</th>\n      <th></th>\n      <th></th>\n      <th></th>\n      <th></th>\n      <th></th>\n      <th></th>\n      <th></th>\n      <th></th>\n      <th></th>\n      <th></th>\n      <th></th>\n      <th></th>\n      <th></th>\n      <th></th>\n      <th></th>\n      <th></th>\n      <th></th>\n      <th></th>\n      <th></th>\n      <th></th>\n      <th></th>\n    </tr>\n  </thead>\n  <tbody>\n  </tbody>\n</table>\n<p>0 rows × 23 columns</p>\n</div>"
     },
     "metadata": {},
     "execution_count": 12
    }
   ],
   "source": [
    "print(\"\\nEmployee Lifestyle and Nutrition Data Info:\")\n",
    "print(lifestyle.info())\n",
    "lifestyle.head(5)"
   ]
  }
 ]
}
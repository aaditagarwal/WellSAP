{
 "metadata": {
  "language_info": {
   "codemirror_mode": {
    "name": "ipython",
    "version": 3
   },
   "file_extension": ".py",
   "mimetype": "text/x-python",
   "name": "python",
   "nbconvert_exporter": "python",
   "pygments_lexer": "ipython3",
   "version": "3.8.5-final"
  },
  "orig_nbformat": 2,
  "kernelspec": {
   "name": "python385jvsc74a57bd0905d0f07fe6f5c8c643ac9513defc256c6184424042a8d14d49292ea27dd2c1d",
   "display_name": "Python 3.8.5 64-bit ('gpu_env': conda)"
  }
 },
 "nbformat": 4,
 "nbformat_minor": 2,
 "cells": [
  {
   "source": [
    "# WellSAP"
   ],
   "cell_type": "markdown",
   "metadata": {}
  },
  {
   "source": [
    "## Workplace WellBeing Work_Life_Balance Training"
   ],
   "cell_type": "markdown",
   "metadata": {}
  },
  {
   "source": [
    "### Imports"
   ],
   "cell_type": "markdown",
   "metadata": {}
  },
  {
   "cell_type": "code",
   "execution_count": 1,
   "metadata": {},
   "outputs": [],
   "source": [
    "import pandas as pd\n",
    "import numpy as np\n",
    "from sklearn import preprocessing\n",
    "import sklearn\n",
    "import joblib"
   ]
  },
  {
   "source": [
    "### Data Loading"
   ],
   "cell_type": "markdown",
   "metadata": {}
  },
  {
   "cell_type": "code",
   "execution_count": 2,
   "metadata": {},
   "outputs": [],
   "source": [
    "attrition_data = pd.read_csv('./../dataset/attrition_data.csv', header=0, index_col='Employee_ID')\n",
    "lifestyle_data = pd.read_csv('./../dataset/lifestyle_data.csv', header=0, index_col='Employee_ID')"
   ]
  },
  {
   "source": [
    "### Data Pre-Processing"
   ],
   "cell_type": "markdown",
   "metadata": {}
  },
  {
   "source": [
    "#### Lifestyle Data Pre-Processing"
   ],
   "cell_type": "markdown",
   "metadata": {}
  },
  {
   "cell_type": "code",
   "execution_count": 3,
   "metadata": {},
   "outputs": [],
   "source": [
    "input_features_int_int = lifestyle_data.loc[:,['TODO_COMPLETED','LOST_VACATION']]\n",
    "input_features_int_float = lifestyle_data.loc[:,['TIME_FOR_PASSION','FLOW']]"
   ]
  },
  {
   "cell_type": "code",
   "execution_count": 4,
   "metadata": {},
   "outputs": [],
   "source": [
    "input_features_int_int = input_features_int_int.groupby('Employee_ID').mean().apply(np.ceil).astype(int)\n",
    "input_features_int_float = input_features_int_float.groupby('Employee_ID').mean()"
   ]
  },
  {
   "cell_type": "code",
   "execution_count": 5,
   "metadata": {},
   "outputs": [
    {
     "output_type": "execute_result",
     "data": {
      "text/plain": [
       "             TODO_COMPLETED  LOST_VACATION  TIME_FOR_PASSION  FLOW\n",
       "Employee_ID                                                       \n",
       "1.0                       5              2              3.36  3.24\n",
       "2.0                       6              5              2.68  3.16\n",
       "3.0                       6              3              3.40  3.16\n",
       "4.0                       6              4              4.44  2.76\n",
       "5.0                       6              5              2.24  2.24\n",
       "...                     ...            ...               ...   ...\n",
       "307.0                     7              2              3.60  4.28\n",
       "308.0                     7              3              3.84  4.12\n",
       "309.0                     7              2              3.40  3.24\n",
       "310.0                     7              3              3.72  3.36\n",
       "311.0                     7              4              3.44  3.36\n",
       "\n",
       "[311 rows x 4 columns]"
      ],
      "text/html": "<div>\n<style scoped>\n    .dataframe tbody tr th:only-of-type {\n        vertical-align: middle;\n    }\n\n    .dataframe tbody tr th {\n        vertical-align: top;\n    }\n\n    .dataframe thead th {\n        text-align: right;\n    }\n</style>\n<table border=\"1\" class=\"dataframe\">\n  <thead>\n    <tr style=\"text-align: right;\">\n      <th></th>\n      <th>TODO_COMPLETED</th>\n      <th>LOST_VACATION</th>\n      <th>TIME_FOR_PASSION</th>\n      <th>FLOW</th>\n    </tr>\n    <tr>\n      <th>Employee_ID</th>\n      <th></th>\n      <th></th>\n      <th></th>\n      <th></th>\n    </tr>\n  </thead>\n  <tbody>\n    <tr>\n      <th>1.0</th>\n      <td>5</td>\n      <td>2</td>\n      <td>3.36</td>\n      <td>3.24</td>\n    </tr>\n    <tr>\n      <th>2.0</th>\n      <td>6</td>\n      <td>5</td>\n      <td>2.68</td>\n      <td>3.16</td>\n    </tr>\n    <tr>\n      <th>3.0</th>\n      <td>6</td>\n      <td>3</td>\n      <td>3.40</td>\n      <td>3.16</td>\n    </tr>\n    <tr>\n      <th>4.0</th>\n      <td>6</td>\n      <td>4</td>\n      <td>4.44</td>\n      <td>2.76</td>\n    </tr>\n    <tr>\n      <th>5.0</th>\n      <td>6</td>\n      <td>5</td>\n      <td>2.24</td>\n      <td>2.24</td>\n    </tr>\n    <tr>\n      <th>...</th>\n      <td>...</td>\n      <td>...</td>\n      <td>...</td>\n      <td>...</td>\n    </tr>\n    <tr>\n      <th>307.0</th>\n      <td>7</td>\n      <td>2</td>\n      <td>3.60</td>\n      <td>4.28</td>\n    </tr>\n    <tr>\n      <th>308.0</th>\n      <td>7</td>\n      <td>3</td>\n      <td>3.84</td>\n      <td>4.12</td>\n    </tr>\n    <tr>\n      <th>309.0</th>\n      <td>7</td>\n      <td>2</td>\n      <td>3.40</td>\n      <td>3.24</td>\n    </tr>\n    <tr>\n      <th>310.0</th>\n      <td>7</td>\n      <td>3</td>\n      <td>3.72</td>\n      <td>3.36</td>\n    </tr>\n    <tr>\n      <th>311.0</th>\n      <td>7</td>\n      <td>4</td>\n      <td>3.44</td>\n      <td>3.36</td>\n    </tr>\n  </tbody>\n</table>\n<p>311 rows × 4 columns</p>\n</div>"
     },
     "metadata": {},
     "execution_count": 5
    }
   ],
   "source": [
    "input_features = pd.concat([input_features_int_int, input_features_int_float], axis=1)\n",
    "input_features"
   ]
  },
  {
   "source": [
    "#### Attrition Data Pre-Processing"
   ],
   "cell_type": "markdown",
   "metadata": {}
  },
  {
   "cell_type": "code",
   "execution_count": 6,
   "metadata": {},
   "outputs": [
    {
     "output_type": "execute_result",
     "data": {
      "text/plain": [
       "['./../scaler_and _encoder/work_balance_age_encoder.pkl']"
      ]
     },
     "metadata": {},
     "execution_count": 6
    }
   ],
   "source": [
    "gender_encoder = preprocessing.LabelEncoder()\n",
    "attrition_data['Gender'] = gender_encoder.fit_transform(attrition_data['Gender'])\n",
    "joblib.dump(gender_encoder,'./../scaler_and _encoder/work_balance_gender_encoder.pkl')\n",
    "age_encoder = preprocessing.LabelEncoder()\n",
    "attrition_data['Age_Group'] = age_encoder.fit_transform(attrition_data['Age_Group'])\n",
    "joblib.dump(age_encoder,'./../scaler_and _encoder/work_balance_age_encoder.pkl')"
   ]
  },
  {
   "cell_type": "code",
   "execution_count": 7,
   "metadata": {},
   "outputs": [
    {
     "output_type": "execute_result",
     "data": {
      "text/plain": [
       "             TODO_COMPLETED  LOST_VACATION  TIME_FOR_PASSION  FLOW  Age_Group  \\\n",
       "Employee_ID                                                                     \n",
       "1.0                       5              2              3.36  3.24          0   \n",
       "2.0                       6              5              2.68  3.16          1   \n",
       "3.0                       6              3              3.40  3.16          0   \n",
       "4.0                       6              4              4.44  2.76          0   \n",
       "5.0                       6              5              2.24  2.24          0   \n",
       "...                     ...            ...               ...   ...        ...   \n",
       "307.0                     7              2              3.60  4.28          0   \n",
       "308.0                     7              3              3.84  4.12          0   \n",
       "309.0                     7              2              3.40  3.24          1   \n",
       "310.0                     7              3              3.72  3.36          1   \n",
       "311.0                     7              4              3.44  3.36          1   \n",
       "\n",
       "             Gender  \n",
       "Employee_ID          \n",
       "1.0               1  \n",
       "2.0               1  \n",
       "3.0               0  \n",
       "4.0               0  \n",
       "5.0               0  \n",
       "...             ...  \n",
       "307.0             1  \n",
       "308.0             0  \n",
       "309.0             0  \n",
       "310.0             0  \n",
       "311.0             0  \n",
       "\n",
       "[311 rows x 6 columns]"
      ],
      "text/html": "<div>\n<style scoped>\n    .dataframe tbody tr th:only-of-type {\n        vertical-align: middle;\n    }\n\n    .dataframe tbody tr th {\n        vertical-align: top;\n    }\n\n    .dataframe thead th {\n        text-align: right;\n    }\n</style>\n<table border=\"1\" class=\"dataframe\">\n  <thead>\n    <tr style=\"text-align: right;\">\n      <th></th>\n      <th>TODO_COMPLETED</th>\n      <th>LOST_VACATION</th>\n      <th>TIME_FOR_PASSION</th>\n      <th>FLOW</th>\n      <th>Age_Group</th>\n      <th>Gender</th>\n    </tr>\n    <tr>\n      <th>Employee_ID</th>\n      <th></th>\n      <th></th>\n      <th></th>\n      <th></th>\n      <th></th>\n      <th></th>\n    </tr>\n  </thead>\n  <tbody>\n    <tr>\n      <th>1.0</th>\n      <td>5</td>\n      <td>2</td>\n      <td>3.36</td>\n      <td>3.24</td>\n      <td>0</td>\n      <td>1</td>\n    </tr>\n    <tr>\n      <th>2.0</th>\n      <td>6</td>\n      <td>5</td>\n      <td>2.68</td>\n      <td>3.16</td>\n      <td>1</td>\n      <td>1</td>\n    </tr>\n    <tr>\n      <th>3.0</th>\n      <td>6</td>\n      <td>3</td>\n      <td>3.40</td>\n      <td>3.16</td>\n      <td>0</td>\n      <td>0</td>\n    </tr>\n    <tr>\n      <th>4.0</th>\n      <td>6</td>\n      <td>4</td>\n      <td>4.44</td>\n      <td>2.76</td>\n      <td>0</td>\n      <td>0</td>\n    </tr>\n    <tr>\n      <th>5.0</th>\n      <td>6</td>\n      <td>5</td>\n      <td>2.24</td>\n      <td>2.24</td>\n      <td>0</td>\n      <td>0</td>\n    </tr>\n    <tr>\n      <th>...</th>\n      <td>...</td>\n      <td>...</td>\n      <td>...</td>\n      <td>...</td>\n      <td>...</td>\n      <td>...</td>\n    </tr>\n    <tr>\n      <th>307.0</th>\n      <td>7</td>\n      <td>2</td>\n      <td>3.60</td>\n      <td>4.28</td>\n      <td>0</td>\n      <td>1</td>\n    </tr>\n    <tr>\n      <th>308.0</th>\n      <td>7</td>\n      <td>3</td>\n      <td>3.84</td>\n      <td>4.12</td>\n      <td>0</td>\n      <td>0</td>\n    </tr>\n    <tr>\n      <th>309.0</th>\n      <td>7</td>\n      <td>2</td>\n      <td>3.40</td>\n      <td>3.24</td>\n      <td>1</td>\n      <td>0</td>\n    </tr>\n    <tr>\n      <th>310.0</th>\n      <td>7</td>\n      <td>3</td>\n      <td>3.72</td>\n      <td>3.36</td>\n      <td>1</td>\n      <td>0</td>\n    </tr>\n    <tr>\n      <th>311.0</th>\n      <td>7</td>\n      <td>4</td>\n      <td>3.44</td>\n      <td>3.36</td>\n      <td>1</td>\n      <td>0</td>\n    </tr>\n  </tbody>\n</table>\n<p>311 rows × 6 columns</p>\n</div>"
     },
     "metadata": {},
     "execution_count": 7
    }
   ],
   "source": [
    "input_features = pd.concat([input_features, attrition_data['Age_Group'], attrition_data[\"Gender\"]], axis=1)\n",
    "input_features"
   ]
  },
  {
   "cell_type": "code",
   "execution_count": 8,
   "metadata": {},
   "outputs": [
    {
     "output_type": "stream",
     "name": "stdout",
     "text": [
      "<class 'pandas.core.frame.DataFrame'>\nFloat64Index: 311 entries, 1.0 to 311.0\nData columns (total 6 columns):\n #   Column            Non-Null Count  Dtype   \n---  ------            --------------  -----   \n 0   TODO_COMPLETED    311 non-null    int64   \n 1   LOST_VACATION     311 non-null    int64   \n 2   TIME_FOR_PASSION  311 non-null    float64 \n 3   FLOW              311 non-null    float64 \n 4   Age_Group         311 non-null    category\n 5   Gender            311 non-null    category\ndtypes: category(2), float64(2), int64(2)\nmemory usage: 13.0 KB\n"
     ]
    }
   ],
   "source": [
    "input_features[['Age_Group', 'Gender']] = input_features[['Age_Group', 'Gender']].astype('category')\n",
    "input_features.info()"
   ]
  },
  {
   "source": [
    "### Output Data Pre-Processing"
   ],
   "cell_type": "markdown",
   "metadata": {}
  },
  {
   "cell_type": "code",
   "execution_count": 9,
   "metadata": {},
   "outputs": [
    {
     "output_type": "stream",
     "name": "stderr",
     "text": [
      "/home/aadit/anaconda3/envs/gpu_env/lib/python3.8/site-packages/pandas/io/formats/format.py:1403: FutureWarning: Index.ravel returning ndarray is deprecated; in a future version this will return a view on self.\n  for val, m in zip(values.ravel(), mask.ravel())\n"
     ]
    },
    {
     "output_type": "execute_result",
     "data": {
      "text/plain": [
       "Employee_ID\n",
       "116.0    3.0\n",
       "211.0    3.0\n",
       "18.0     2.0\n",
       "258.0    3.0\n",
       "238.0    3.0\n",
       "        ... \n",
       "246.0    3.0\n",
       "74.0     3.0\n",
       "249.0    4.0\n",
       "286.0    3.0\n",
       "158.0    2.0\n",
       "Name: WorkLifeBalance, Length: 311, dtype: category\n",
       "Categories (4, float64): [1.0, 2.0, 3.0, 4.0]"
      ]
     },
     "metadata": {},
     "execution_count": 9
    }
   ],
   "source": [
    "output_features = attrition_data[\"WorkLifeBalance\"].astype('category')\n",
    "output_features"
   ]
  },
  {
   "source": [
    "### Modelling"
   ],
   "cell_type": "markdown",
   "metadata": {}
  },
  {
   "cell_type": "code",
   "execution_count": 10,
   "metadata": {},
   "outputs": [],
   "source": [
    "from sklearn.model_selection import train_test_split\n",
    "input_train, input_test, ouput_train, output_test = train_test_split(input_features, output_features, test_size = 0.2, random_state=42)"
   ]
  },
  {
   "cell_type": "code",
   "execution_count": 11,
   "metadata": {},
   "outputs": [
    {
     "output_type": "stream",
     "name": "stdout",
     "text": [
      "Train Score: 0.625\nTest Score: 0.6349206349206349\n"
     ]
    },
    {
     "output_type": "execute_result",
     "data": {
      "text/plain": [
       "['./../models/workplace_wellbeing_balance_model.pkl']"
      ]
     },
     "metadata": {},
     "execution_count": 11
    }
   ],
   "source": [
    "from sklearn.svm import SVC\n",
    "svm_classification = SVC(kernel='linear')\n",
    "svm_classification.fit(input_train, ouput_train)\n",
    "print(f\"Train Score: {svm_classification.score(input_train, ouput_train)}\")\n",
    "print(f\"Test Score: {svm_classification.score(input_test, output_test)}\")\n",
    "joblib.dump(svm_classification,'./../models/workplace_wellbeing_balance_model.pkl')"
   ]
  }
 ]
}
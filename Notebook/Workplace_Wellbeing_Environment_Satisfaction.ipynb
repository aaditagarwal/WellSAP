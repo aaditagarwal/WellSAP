{
 "cells": [
  {
   "cell_type": "markdown",
   "metadata": {},
   "source": [
    "# WellSAP\n",
    "\n",
    "# Workplace WellBeing Employee Environment Satisafaction Training\n",
    "\n"
   ]
  },
  {
   "cell_type": "markdown",
   "metadata": {},
   "source": [
    "### Imports"
   ]
  },
  {
   "cell_type": "code",
   "execution_count": 401,
   "metadata": {},
   "outputs": [],
   "source": [
    "import pandas  as pd\n",
    "import seaborn as sns\n",
    "import matplotlib.pyplot as plt\n",
    "import sklearn\n",
    "from sklearn import preprocessing\n",
    "import joblib"
   ]
  },
  {
   "cell_type": "markdown",
   "metadata": {},
   "source": [
    "### Data Loading"
   ]
  },
  {
   "cell_type": "code",
   "execution_count": 402,
   "metadata": {},
   "outputs": [],
   "source": [
    "hr_data=pd.read_csv('hr_data.csv',header=0, index_col='Employee_ID')\n",
    "attrition_data=pd.read_csv('attrition_data.csv',header=0, index_col='Employee_ID')"
   ]
  },
  {
   "cell_type": "markdown",
   "metadata": {},
   "source": [
    "### Data Pre-Processing\n"
   ]
  },
  {
   "cell_type": "code",
   "execution_count": 403,
   "metadata": {},
   "outputs": [],
   "source": [
    "hr_data=hr_data[['Age_Group','FromDiversityJobFairID','CitizenDesc','HispanicLatino','RaceDesc']]\n",
    "attrition_data=attrition_data[['Age_Group','Gender','Attrition','BusinessTravel','DistanceFromHome','JobInvolvement','EnvironmentSatisfaction']]\n",
    "result = pd.merge(hr_data, attrition_data, on=['Employee_ID','Age_Group'])\n",
    "\n"
   ]
  },
  {
   "cell_type": "code",
<<<<<<< HEAD
   "execution_count": 404,
=======
   "execution_count": 4,
>>>>>>> 3d2c0e2e1ae3a47fa755ef77624fbc4a4d9f317a
   "metadata": {},
   "outputs": [
    {
     "name": "stdout",
     "output_type": "stream",
     "text": [
      "<class 'pandas.core.frame.DataFrame'>\n",
      "Int64Index: 311 entries, 1 to 311\n",
      "Data columns (total 11 columns):\n",
      " #   Column                   Non-Null Count  Dtype   \n",
      "---  ------                   --------------  -----   \n",
      " 0   Age_Group                311 non-null    category\n",
      " 1   FromDiversityJobFairID   311 non-null    category\n",
      " 2   CitizenDesc              311 non-null    category\n",
      " 3   HispanicLatino           311 non-null    category\n",
      " 4   RaceDesc                 311 non-null    category\n",
      " 5   Gender                   311 non-null    category\n",
      " 6   Attrition                311 non-null    category\n",
      " 7   BusinessTravel           311 non-null    category\n",
      " 8   DistanceFromHome         311 non-null    float64 \n",
      " 9   JobInvolvement           311 non-null    float64 \n",
      " 10  EnvironmentSatisfaction  311 non-null    category\n",
      "dtypes: category(9), float64(2)\n",
      "memory usage: 11.2 KB\n"
     ]
    },
    {
     "data": {
      "text/html": [
       "<div>\n",
       "<style scoped>\n",
       "    .dataframe tbody tr th:only-of-type {\n",
       "        vertical-align: middle;\n",
       "    }\n",
       "\n",
       "    .dataframe tbody tr th {\n",
       "        vertical-align: top;\n",
       "    }\n",
       "\n",
       "    .dataframe thead th {\n",
       "        text-align: right;\n",
       "    }\n",
       "</style>\n",
       "<table border=\"1\" class=\"dataframe\">\n",
       "  <thead>\n",
       "    <tr style=\"text-align: right;\">\n",
       "      <th></th>\n",
       "      <th>Age_Group</th>\n",
       "      <th>FromDiversityJobFairID</th>\n",
       "      <th>CitizenDesc</th>\n",
       "      <th>HispanicLatino</th>\n",
       "      <th>RaceDesc</th>\n",
       "      <th>Gender</th>\n",
       "      <th>Attrition</th>\n",
       "      <th>BusinessTravel</th>\n",
       "      <th>DistanceFromHome</th>\n",
       "      <th>JobInvolvement</th>\n",
       "      <th>EnvironmentSatisfaction</th>\n",
       "    </tr>\n",
       "    <tr>\n",
       "      <th>Employee_ID</th>\n",
       "      <th></th>\n",
       "      <th></th>\n",
       "      <th></th>\n",
       "      <th></th>\n",
       "      <th></th>\n",
       "      <th></th>\n",
       "      <th></th>\n",
       "      <th></th>\n",
       "      <th></th>\n",
       "      <th></th>\n",
       "      <th></th>\n",
       "    </tr>\n",
       "  </thead>\n",
       "  <tbody>\n",
       "    <tr>\n",
       "      <th>1</th>\n",
       "      <td>0</td>\n",
       "      <td>0</td>\n",
       "      <td>2</td>\n",
       "      <td>0</td>\n",
       "      <td>5</td>\n",
       "      <td>1</td>\n",
       "      <td>1</td>\n",
       "      <td>2</td>\n",
       "      <td>24.0</td>\n",
       "      <td>2.0</td>\n",
       "      <td>3.0</td>\n",
       "    </tr>\n",
       "    <tr>\n",
       "      <th>2</th>\n",
       "      <td>1</td>\n",
       "      <td>0</td>\n",
       "      <td>2</td>\n",
       "      <td>0</td>\n",
       "      <td>5</td>\n",
       "      <td>1</td>\n",
       "      <td>0</td>\n",
       "      <td>2</td>\n",
       "      <td>14.0</td>\n",
       "      <td>3.0</td>\n",
       "      <td>3.0</td>\n",
       "    </tr>\n",
       "    <tr>\n",
       "      <th>3</th>\n",
       "      <td>0</td>\n",
       "      <td>0</td>\n",
       "      <td>2</td>\n",
       "      <td>0</td>\n",
       "      <td>5</td>\n",
       "      <td>0</td>\n",
       "      <td>0</td>\n",
       "      <td>1</td>\n",
       "      <td>1.0</td>\n",
       "      <td>4.0</td>\n",
       "      <td>3.0</td>\n",
       "    </tr>\n",
       "    <tr>\n",
       "      <th>4</th>\n",
       "      <td>0</td>\n",
       "      <td>0</td>\n",
       "      <td>2</td>\n",
       "      <td>0</td>\n",
       "      <td>5</td>\n",
       "      <td>0</td>\n",
       "      <td>0</td>\n",
       "      <td>2</td>\n",
       "      <td>9.0</td>\n",
       "      <td>3.0</td>\n",
       "      <td>4.0</td>\n",
       "    </tr>\n",
       "    <tr>\n",
       "      <th>5</th>\n",
       "      <td>0</td>\n",
       "      <td>0</td>\n",
       "      <td>2</td>\n",
       "      <td>0</td>\n",
       "      <td>5</td>\n",
       "      <td>0</td>\n",
       "      <td>0</td>\n",
       "      <td>2</td>\n",
       "      <td>4.0</td>\n",
       "      <td>2.0</td>\n",
       "      <td>3.0</td>\n",
       "    </tr>\n",
       "    <tr>\n",
       "      <th>...</th>\n",
       "      <td>...</td>\n",
       "      <td>...</td>\n",
       "      <td>...</td>\n",
       "      <td>...</td>\n",
       "      <td>...</td>\n",
       "      <td>...</td>\n",
       "      <td>...</td>\n",
       "      <td>...</td>\n",
       "      <td>...</td>\n",
       "      <td>...</td>\n",
       "      <td>...</td>\n",
       "    </tr>\n",
       "    <tr>\n",
       "      <th>307</th>\n",
       "      <td>0</td>\n",
       "      <td>0</td>\n",
       "      <td>2</td>\n",
       "      <td>0</td>\n",
       "      <td>5</td>\n",
       "      <td>1</td>\n",
       "      <td>0</td>\n",
       "      <td>2</td>\n",
       "      <td>10.0</td>\n",
       "      <td>3.0</td>\n",
       "      <td>2.0</td>\n",
       "    </tr>\n",
       "    <tr>\n",
       "      <th>308</th>\n",
       "      <td>0</td>\n",
       "      <td>0</td>\n",
       "      <td>2</td>\n",
       "      <td>0</td>\n",
       "      <td>1</td>\n",
       "      <td>0</td>\n",
       "      <td>1</td>\n",
       "      <td>1</td>\n",
       "      <td>26.0</td>\n",
       "      <td>2.0</td>\n",
       "      <td>3.0</td>\n",
       "    </tr>\n",
       "    <tr>\n",
       "      <th>309</th>\n",
       "      <td>1</td>\n",
       "      <td>0</td>\n",
       "      <td>2</td>\n",
       "      <td>0</td>\n",
       "      <td>5</td>\n",
       "      <td>0</td>\n",
       "      <td>0</td>\n",
       "      <td>2</td>\n",
       "      <td>8.0</td>\n",
       "      <td>3.0</td>\n",
       "      <td>3.0</td>\n",
       "    </tr>\n",
       "    <tr>\n",
       "      <th>310</th>\n",
       "      <td>1</td>\n",
       "      <td>0</td>\n",
       "      <td>2</td>\n",
       "      <td>0</td>\n",
       "      <td>5</td>\n",
       "      <td>0</td>\n",
       "      <td>0</td>\n",
       "      <td>2</td>\n",
       "      <td>10.0</td>\n",
       "      <td>3.0</td>\n",
       "      <td>2.0</td>\n",
       "    </tr>\n",
       "    <tr>\n",
       "      <th>311</th>\n",
       "      <td>1</td>\n",
       "      <td>0</td>\n",
       "      <td>2</td>\n",
       "      <td>0</td>\n",
       "      <td>1</td>\n",
       "      <td>0</td>\n",
       "      <td>0</td>\n",
       "      <td>0</td>\n",
       "      <td>2.0</td>\n",
       "      <td>2.0</td>\n",
       "      <td>1.0</td>\n",
       "    </tr>\n",
       "  </tbody>\n",
       "</table>\n",
       "<p>311 rows × 11 columns</p>\n",
       "</div>"
      ],
      "text/plain": [
       "            Age_Group FromDiversityJobFairID CitizenDesc HispanicLatino  \\\n",
       "Employee_ID                                                               \n",
       "1                   0                      0           2              0   \n",
       "2                   1                      0           2              0   \n",
       "3                   0                      0           2              0   \n",
       "4                   0                      0           2              0   \n",
       "5                   0                      0           2              0   \n",
       "...               ...                    ...         ...            ...   \n",
       "307                 0                      0           2              0   \n",
       "308                 0                      0           2              0   \n",
       "309                 1                      0           2              0   \n",
       "310                 1                      0           2              0   \n",
       "311                 1                      0           2              0   \n",
       "\n",
       "            RaceDesc Gender Attrition BusinessTravel  DistanceFromHome  \\\n",
       "Employee_ID                                                              \n",
       "1                  5      1         1              2              24.0   \n",
       "2                  5      1         0              2              14.0   \n",
       "3                  5      0         0              1               1.0   \n",
       "4                  5      0         0              2               9.0   \n",
       "5                  5      0         0              2               4.0   \n",
       "...              ...    ...       ...            ...               ...   \n",
       "307                5      1         0              2              10.0   \n",
       "308                1      0         1              1              26.0   \n",
       "309                5      0         0              2               8.0   \n",
       "310                5      0         0              2              10.0   \n",
       "311                1      0         0              0               2.0   \n",
       "\n",
       "             JobInvolvement EnvironmentSatisfaction  \n",
       "Employee_ID                                          \n",
       "1                       2.0                     3.0  \n",
       "2                       3.0                     3.0  \n",
       "3                       4.0                     3.0  \n",
       "4                       3.0                     4.0  \n",
       "5                       2.0                     3.0  \n",
       "...                     ...                     ...  \n",
       "307                     3.0                     2.0  \n",
       "308                     2.0                     3.0  \n",
       "309                     3.0                     3.0  \n",
       "310                     3.0                     2.0  \n",
       "311                     2.0                     1.0  \n",
       "\n",
       "[311 rows x 11 columns]"
      ]
     },
     "execution_count": 404,
     "metadata": {},
<<<<<<< HEAD
     "output_type": "execute_result"
=======
     "execution_count": 4
>>>>>>> 3d2c0e2e1ae3a47fa755ef77624fbc4a4d9f317a
    }
   ],
   "source": [
    "age_encoder= preprocessing.LabelEncoder()\n",
    "result['Age_Group'] = age_encoder.fit_transform(result['Age_Group'])\n",
    "joblib.dump(age_encoder,'env_age_encoder.pkl')\n",
    "\n",
    "gender_encoder = preprocessing.LabelEncoder()\n",
    "result['Gender'] = gender_encoder.fit_transform(result['Gender'])\n",
    "joblib.dump(gender_encoder,'env_gender_encoder.pkl')\n",
    "\n",
    "job_diversity_encoder=preprocessing.LabelEncoder()\n",
    "result['FromDiversityJobFairID'] = job_diversity_encoder.fit_transform(result['FromDiversityJobFairID'])\n",
    "joblib.dump(job_diversity_encoder,'env_job_diversity_encoder.pkl')\n",
    "\n",
    "citi_encoder=preprocessing.LabelEncoder()\n",
    "result['CitizenDesc'] = citi_encoder.fit_transform(result['CitizenDesc'])\n",
    "joblib.dump(citi_encoder,'env_citizendesc_encoder.pkl')\n",
    "\n",
    "his_encoder=preprocessing.LabelEncoder()\n",
    "result['HispanicLatino'] =his_encoder.fit_transform(result['HispanicLatino'])\n",
<<<<<<< HEAD
    "joblib.dump(his_encoder,'env_HispanicLatino_encoder.pkl')\n",
    "\n",
=======
    "joblib.dump(his_encoder,'./../scaler_and _encoder/env_HispanicLatino_encoder.pkl') \n",
>>>>>>> 3d2c0e2e1ae3a47fa755ef77624fbc4a4d9f317a
    "\n",
    "race_encoder=preprocessing.LabelEncoder()\n",
    "result['RaceDesc'] =race_encoder.fit_transform(result['RaceDesc'])\n",
    "joblib.dump(race_encoder,'env_racedesc_encoder.pkl')\n",
    "\n",
    "attri_encoder=preprocessing.LabelEncoder()\n",
    "result['Attrition'] =attri_encoder.fit_transform(result['Attrition'])\n",
    "joblib.dump(attri_encoder,'env_attri_encoder.pkl')\n",
    "\n",
    "busi_encoder=preprocessing.LabelEncoder()\n",
    "result['BusinessTravel'] =busi_encoder.fit_transform(result['BusinessTravel'])\n",
    "joblib.dump(busi_encoder,'env_busi_encoder.pkl')\n",
    "\n",
    "result[['EnvironmentSatisfaction','Age_Group','Gender','FromDiversityJobFairID','CitizenDesc','HispanicLatino','RaceDesc','Attrition','BusinessTravel']]=result[['EnvironmentSatisfaction','Age_Group','Gender','FromDiversityJobFairID','CitizenDesc','HispanicLatino','RaceDesc','Attrition','BusinessTravel']].astype('category')\n",
    "\n",
    "result.info()\n",
    "result"
   ]
  },
  {
   "cell_type": "markdown",
   "metadata": {},
   "source": [
    "### Input Output Split"
   ]
  },
  {
   "cell_type": "code",
<<<<<<< HEAD
   "execution_count": 405,
=======
   "execution_count": 5,
>>>>>>> 3d2c0e2e1ae3a47fa755ef77624fbc4a4d9f317a
   "metadata": {},
   "outputs": [],
   "source": [
    "y=result['EnvironmentSatisfaction']\n",
    "X=result.drop(['EnvironmentSatisfaction'],axis='columns')\n"
   ]
  },
  {
   "cell_type": "markdown",
   "metadata": {},
   "source": [
    "### Data Preparation\n"
   ]
  },
  {
   "cell_type": "code",
<<<<<<< HEAD
   "execution_count": 406,
   "metadata": {},
   "outputs": [
    {
     "data": {
      "text/plain": [
       "['env_minmax_scaler.pkl']"
      ]
     },
     "execution_count": 406,
     "metadata": {},
     "output_type": "execute_result"
=======
   "execution_count": 6,
   "metadata": {},
   "outputs": [
    {
     "output_type": "execute_result",
     "data": {
      "text/plain": [
       "Employee_ID\n",
       "1      3.0\n",
       "2      3.0\n",
       "3      3.0\n",
       "4      4.0\n",
       "5      3.0\n",
       "      ... \n",
       "307    2.0\n",
       "308    3.0\n",
       "309    3.0\n",
       "310    2.0\n",
       "311    1.0\n",
       "Name: EnvironmentSatisfaction, Length: 311, dtype: category\n",
       "Categories (4, float64): [1.0, 2.0, 3.0, 4.0]"
      ]
     },
     "metadata": {},
     "execution_count": 6
>>>>>>> 3d2c0e2e1ae3a47fa755ef77624fbc4a4d9f317a
    }
   ],
   "source": [
    "from sklearn.preprocessing import MinMaxScaler\n",
    "scaler = MinMaxScaler()\n",
    "columns=['JobInvolvement','DistanceFromHome']\n",
<<<<<<< HEAD
    "X[columns]=scaler.fit_transform(X[columns])\n",
    "joblib.dump(scaler,'env_minmax_scaler.pkl')"
=======
    "joblib.dump(scaler,'./../scaler_and _encoder/env_minmax_scaler.pkl')\n",
    "X[columns]=scaler.fit_transform(X[columns])\n",
    "y"
>>>>>>> 3d2c0e2e1ae3a47fa755ef77624fbc4a4d9f317a
   ]
  },
  {
   "cell_type": "markdown",
   "metadata": {},
   "source": [
    "### Data Modelling"
   ]
  },
  {
   "cell_type": "code",
<<<<<<< HEAD
   "execution_count": 407,
   "metadata": {},
   "outputs": [],
   "source": [
    "from sklearn.model_selection import train_test_split\n",
    "X_train, X_test, y_train, y_test = train_test_split(X, y, test_size=0.33,random_state = 0)"
   ]
  },
  {
   "cell_type": "code",
   "execution_count": 408,
=======
   "execution_count": 7,
>>>>>>> 3d2c0e2e1ae3a47fa755ef77624fbc4a4d9f317a
   "metadata": {},
   "outputs": [
    {
     "name": "stdout",
     "output_type": "stream",
     "text": [
      "0.3701923076923077\n",
      "0.3300970873786408\n"
     ]
    },
    {
     "data": {
      "text/plain": [
       "['workplace_wellbeing_env_satisfaction.pkl']"
      ]
     },
     "execution_count": 408,
     "metadata": {},
<<<<<<< HEAD
     "output_type": "execute_result"
=======
     "execution_count": 7
>>>>>>> 3d2c0e2e1ae3a47fa755ef77624fbc4a4d9f317a
    }
   ],
   "source": [
    "from sklearn.svm import SVC\n",
    "sv=SVC(gamma=0.1,C=0.9)\n",
    "sv.fit(X_train,y_train)\n",
    "print (sv.score(X_train, y_train))\n",
    "accuracy2 = sv.score(X_test, y_test)\n",
    "print (accuracy2)\n",
    "joblib.dump(sv,'workplace_wellbeing_env_satisfaction.pkl')"
   ]
  },
  {
   "cell_type": "markdown",
   "metadata": {},
   "source": [
    "### Scaling Output to 1-100"
   ]
  },
  {
<<<<<<< HEAD
   "cell_type": "code",
   "execution_count": 409,
   "metadata": {},
   "outputs": [
    {
     "data": {
      "text/plain": [
       "Employee_ID\n",
       "1      60.0\n",
       "2      60.0\n",
       "3      60.0\n",
       "4      80.0\n",
       "5      60.0\n",
       "       ... \n",
       "307    40.0\n",
       "308    60.0\n",
       "309    60.0\n",
       "310    40.0\n",
       "311    20.0\n",
       "Name: EnvironmentSatisfaction, Length: 311, dtype: float64"
      ]
     },
     "execution_count": 409,
     "metadata": {},
     "output_type": "execute_result"
    }
   ],
   "source": [
    "y = y.astype('int')*100/5\n",
    "y"
   ]
  },
  {
   "cell_type": "code",
   "execution_count": null,
   "metadata": {},
   "outputs": [],
   "source": []
=======
   "source": [
    "### Scaling output 0-100"
   ],
   "cell_type": "markdown",
   "metadata": {}
  },
  {
   "cell_type": "code",
   "execution_count": 8,
   "metadata": {},
   "outputs": [
    {
     "output_type": "execute_result",
     "data": {
      "text/plain": [
       "Employee_ID\n",
       "1       75.0\n",
       "2       75.0\n",
       "3       75.0\n",
       "4      100.0\n",
       "5       75.0\n",
       "       ...  \n",
       "307     50.0\n",
       "308     75.0\n",
       "309     75.0\n",
       "310     50.0\n",
       "311     25.0\n",
       "Name: EnvironmentSatisfaction, Length: 311, dtype: float64"
      ]
     },
     "metadata": {},
     "execution_count": 8
    }
   ],
   "source": [
    "y = y.astype(int)*100/4\n",
    "y"
   ]
>>>>>>> 3d2c0e2e1ae3a47fa755ef77624fbc4a4d9f317a
  }
 ],
 "metadata": {
  "kernelspec": {
   "display_name": "Python 3",
   "language": "python",
   "name": "python3"
  },
  "language_info": {
   "codemirror_mode": {
    "name": "ipython",
    "version": 3
   },
   "file_extension": ".py",
   "mimetype": "text/x-python",
   "name": "python",
   "nbconvert_exporter": "python",
   "pygments_lexer": "ipython3",
   "version": "3.8.5"
  }
 },
 "nbformat": 4,
 "nbformat_minor": 4
}

{
 "cells": [
  {
   "cell_type": "markdown",
   "metadata": {},
   "source": [
    "# WellSAP"
   ]
  },
  {
   "source": [
    "## Workplace WellBeing Employee Environment Satisafaction Training"
   ],
   "cell_type": "markdown",
   "metadata": {}
  },
  {
   "cell_type": "markdown",
   "metadata": {},
   "source": [
    "### Imports"
   ]
  },
  {
   "cell_type": "code",
   "execution_count": 8,
   "metadata": {},
   "outputs": [],
   "source": [
    "import pandas  as pd\n",
    "import sklearn\n",
    "from sklearn import preprocessing\n",
    "import joblib"
   ]
  },
  {
   "cell_type": "markdown",
   "metadata": {},
   "source": [
    "### Data Loading"
   ]
  },
  {
   "cell_type": "code",
   "execution_count": 9,
   "metadata": {},
   "outputs": [],
   "source": [
    "hr_data=pd.read_csv('./../dataset/hr_data.csv',header=0, index_col='Employee_ID')\n",
    "attrition_data=pd.read_csv('./../dataset/attrition_data.csv',header=0, index_col='Employee_ID')"
   ]
  },
  {
   "cell_type": "markdown",
   "metadata": {},
   "source": [
    "### Data Pre-Processing\n"
   ]
  },
  {
   "cell_type": "code",
   "execution_count": 10,
   "metadata": {},
   "outputs": [
    {
     "output_type": "execute_result",
     "data": {
      "text/plain": [
       "            Age_Group  FromDiversityJobFairID CitizenDesc HispanicLatino  \\\n",
       "Employee_ID                                                                \n",
       "1            21 to 35                       0  US Citizen             No   \n",
       "2            36 to 50                       0  US Citizen             No   \n",
       "3            21 to 35                       0  US Citizen             No   \n",
       "4            21 to 35                       0  US Citizen             No   \n",
       "5            21 to 35                       0  US Citizen             No   \n",
       "...               ...                     ...         ...            ...   \n",
       "307          21 to 35                       0  US Citizen             No   \n",
       "308          21 to 35                       0  US Citizen             No   \n",
       "309          36 to 50                       0  US Citizen             No   \n",
       "310          36 to 50                       0  US Citizen             No   \n",
       "311          36 to 50                       0  US Citizen             No   \n",
       "\n",
       "            RaceDesc Gender Attrition     BusinessTravel  DistanceFromHome  \\\n",
       "Employee_ID                                                                  \n",
       "1              White      M       Yes      Travel_Rarely              24.0   \n",
       "2              White      M        No      Travel_Rarely              14.0   \n",
       "3              White      F        No  Travel_Frequently               1.0   \n",
       "4              White      F        No      Travel_Rarely               9.0   \n",
       "5              White      F        No      Travel_Rarely               4.0   \n",
       "...              ...    ...       ...                ...               ...   \n",
       "307            White      M        No      Travel_Rarely              10.0   \n",
       "308            Asian      F       Yes  Travel_Frequently              26.0   \n",
       "309            White      F        No      Travel_Rarely               8.0   \n",
       "310            White      F        No      Travel_Rarely              10.0   \n",
       "311            Asian      F        No         Non-Travel               2.0   \n",
       "\n",
       "             JobInvolvement  EnvironmentSatisfaction  \n",
       "Employee_ID                                           \n",
       "1                       2.0                      3.0  \n",
       "2                       3.0                      3.0  \n",
       "3                       4.0                      3.0  \n",
       "4                       3.0                      4.0  \n",
       "5                       2.0                      3.0  \n",
       "...                     ...                      ...  \n",
       "307                     3.0                      2.0  \n",
       "308                     2.0                      3.0  \n",
       "309                     3.0                      3.0  \n",
       "310                     3.0                      2.0  \n",
       "311                     2.0                      1.0  \n",
       "\n",
       "[311 rows x 11 columns]"
      ],
      "text/html": "<div>\n<style scoped>\n    .dataframe tbody tr th:only-of-type {\n        vertical-align: middle;\n    }\n\n    .dataframe tbody tr th {\n        vertical-align: top;\n    }\n\n    .dataframe thead th {\n        text-align: right;\n    }\n</style>\n<table border=\"1\" class=\"dataframe\">\n  <thead>\n    <tr style=\"text-align: right;\">\n      <th></th>\n      <th>Age_Group</th>\n      <th>FromDiversityJobFairID</th>\n      <th>CitizenDesc</th>\n      <th>HispanicLatino</th>\n      <th>RaceDesc</th>\n      <th>Gender</th>\n      <th>Attrition</th>\n      <th>BusinessTravel</th>\n      <th>DistanceFromHome</th>\n      <th>JobInvolvement</th>\n      <th>EnvironmentSatisfaction</th>\n    </tr>\n    <tr>\n      <th>Employee_ID</th>\n      <th></th>\n      <th></th>\n      <th></th>\n      <th></th>\n      <th></th>\n      <th></th>\n      <th></th>\n      <th></th>\n      <th></th>\n      <th></th>\n      <th></th>\n    </tr>\n  </thead>\n  <tbody>\n    <tr>\n      <th>1</th>\n      <td>21 to 35</td>\n      <td>0</td>\n      <td>US Citizen</td>\n      <td>No</td>\n      <td>White</td>\n      <td>M</td>\n      <td>Yes</td>\n      <td>Travel_Rarely</td>\n      <td>24.0</td>\n      <td>2.0</td>\n      <td>3.0</td>\n    </tr>\n    <tr>\n      <th>2</th>\n      <td>36 to 50</td>\n      <td>0</td>\n      <td>US Citizen</td>\n      <td>No</td>\n      <td>White</td>\n      <td>M</td>\n      <td>No</td>\n      <td>Travel_Rarely</td>\n      <td>14.0</td>\n      <td>3.0</td>\n      <td>3.0</td>\n    </tr>\n    <tr>\n      <th>3</th>\n      <td>21 to 35</td>\n      <td>0</td>\n      <td>US Citizen</td>\n      <td>No</td>\n      <td>White</td>\n      <td>F</td>\n      <td>No</td>\n      <td>Travel_Frequently</td>\n      <td>1.0</td>\n      <td>4.0</td>\n      <td>3.0</td>\n    </tr>\n    <tr>\n      <th>4</th>\n      <td>21 to 35</td>\n      <td>0</td>\n      <td>US Citizen</td>\n      <td>No</td>\n      <td>White</td>\n      <td>F</td>\n      <td>No</td>\n      <td>Travel_Rarely</td>\n      <td>9.0</td>\n      <td>3.0</td>\n      <td>4.0</td>\n    </tr>\n    <tr>\n      <th>5</th>\n      <td>21 to 35</td>\n      <td>0</td>\n      <td>US Citizen</td>\n      <td>No</td>\n      <td>White</td>\n      <td>F</td>\n      <td>No</td>\n      <td>Travel_Rarely</td>\n      <td>4.0</td>\n      <td>2.0</td>\n      <td>3.0</td>\n    </tr>\n    <tr>\n      <th>...</th>\n      <td>...</td>\n      <td>...</td>\n      <td>...</td>\n      <td>...</td>\n      <td>...</td>\n      <td>...</td>\n      <td>...</td>\n      <td>...</td>\n      <td>...</td>\n      <td>...</td>\n      <td>...</td>\n    </tr>\n    <tr>\n      <th>307</th>\n      <td>21 to 35</td>\n      <td>0</td>\n      <td>US Citizen</td>\n      <td>No</td>\n      <td>White</td>\n      <td>M</td>\n      <td>No</td>\n      <td>Travel_Rarely</td>\n      <td>10.0</td>\n      <td>3.0</td>\n      <td>2.0</td>\n    </tr>\n    <tr>\n      <th>308</th>\n      <td>21 to 35</td>\n      <td>0</td>\n      <td>US Citizen</td>\n      <td>No</td>\n      <td>Asian</td>\n      <td>F</td>\n      <td>Yes</td>\n      <td>Travel_Frequently</td>\n      <td>26.0</td>\n      <td>2.0</td>\n      <td>3.0</td>\n    </tr>\n    <tr>\n      <th>309</th>\n      <td>36 to 50</td>\n      <td>0</td>\n      <td>US Citizen</td>\n      <td>No</td>\n      <td>White</td>\n      <td>F</td>\n      <td>No</td>\n      <td>Travel_Rarely</td>\n      <td>8.0</td>\n      <td>3.0</td>\n      <td>3.0</td>\n    </tr>\n    <tr>\n      <th>310</th>\n      <td>36 to 50</td>\n      <td>0</td>\n      <td>US Citizen</td>\n      <td>No</td>\n      <td>White</td>\n      <td>F</td>\n      <td>No</td>\n      <td>Travel_Rarely</td>\n      <td>10.0</td>\n      <td>3.0</td>\n      <td>2.0</td>\n    </tr>\n    <tr>\n      <th>311</th>\n      <td>36 to 50</td>\n      <td>0</td>\n      <td>US Citizen</td>\n      <td>No</td>\n      <td>Asian</td>\n      <td>F</td>\n      <td>No</td>\n      <td>Non-Travel</td>\n      <td>2.0</td>\n      <td>2.0</td>\n      <td>1.0</td>\n    </tr>\n  </tbody>\n</table>\n<p>311 rows × 11 columns</p>\n</div>"
     },
     "metadata": {},
     "execution_count": 10
    }
   ],
   "source": [
    "hr_data=hr_data[['Age_Group','FromDiversityJobFairID','CitizenDesc','HispanicLatino','RaceDesc']]\n",
    "attrition_data=attrition_data[['Age_Group','Gender','Attrition','BusinessTravel','DistanceFromHome','JobInvolvement','EnvironmentSatisfaction']]\n",
    "result = pd.merge(hr_data, attrition_data, on=['Employee_ID','Age_Group'])\n",
    "result\n"
   ]
  },
  {
   "cell_type": "code",
   "execution_count": 11,
   "metadata": {},
   "outputs": [
    {
     "output_type": "stream",
     "name": "stdout",
     "text": [
      "<class 'pandas.core.frame.DataFrame'>\nInt64Index: 311 entries, 1 to 311\nData columns (total 11 columns):\n #   Column                   Non-Null Count  Dtype   \n---  ------                   --------------  -----   \n 0   Age_Group                311 non-null    category\n 1   FromDiversityJobFairID   311 non-null    category\n 2   CitizenDesc              311 non-null    category\n 3   HispanicLatino           311 non-null    category\n 4   RaceDesc                 311 non-null    category\n 5   Gender                   311 non-null    category\n 6   Attrition                311 non-null    category\n 7   BusinessTravel           311 non-null    category\n 8   DistanceFromHome         311 non-null    float64 \n 9   JobInvolvement           311 non-null    float64 \n 10  EnvironmentSatisfaction  311 non-null    category\ndtypes: category(9), float64(2)\nmemory usage: 11.2 KB\nNone\n"
     ]
    },
    {
     "output_type": "execute_result",
     "data": {
      "text/plain": [
       "            Age_Group FromDiversityJobFairID CitizenDesc HispanicLatino  \\\n",
       "Employee_ID                                                               \n",
       "1                   0                      0           2              0   \n",
       "2                   1                      0           2              0   \n",
       "3                   0                      0           2              0   \n",
       "4                   0                      0           2              0   \n",
       "5                   0                      0           2              0   \n",
       "...               ...                    ...         ...            ...   \n",
       "307                 0                      0           2              0   \n",
       "308                 0                      0           2              0   \n",
       "309                 1                      0           2              0   \n",
       "310                 1                      0           2              0   \n",
       "311                 1                      0           2              0   \n",
       "\n",
       "            RaceDesc Gender Attrition BusinessTravel  DistanceFromHome  \\\n",
       "Employee_ID                                                              \n",
       "1                  5      1         1              2              24.0   \n",
       "2                  5      1         0              2              14.0   \n",
       "3                  5      0         0              1               1.0   \n",
       "4                  5      0         0              2               9.0   \n",
       "5                  5      0         0              2               4.0   \n",
       "...              ...    ...       ...            ...               ...   \n",
       "307                5      1         0              2              10.0   \n",
       "308                1      0         1              1              26.0   \n",
       "309                5      0         0              2               8.0   \n",
       "310                5      0         0              2              10.0   \n",
       "311                1      0         0              0               2.0   \n",
       "\n",
       "             JobInvolvement EnvironmentSatisfaction  \n",
       "Employee_ID                                          \n",
       "1                       2.0                     3.0  \n",
       "2                       3.0                     3.0  \n",
       "3                       4.0                     3.0  \n",
       "4                       3.0                     4.0  \n",
       "5                       2.0                     3.0  \n",
       "...                     ...                     ...  \n",
       "307                     3.0                     2.0  \n",
       "308                     2.0                     3.0  \n",
       "309                     3.0                     3.0  \n",
       "310                     3.0                     2.0  \n",
       "311                     2.0                     1.0  \n",
       "\n",
       "[311 rows x 11 columns]"
      ],
      "text/html": "<div>\n<style scoped>\n    .dataframe tbody tr th:only-of-type {\n        vertical-align: middle;\n    }\n\n    .dataframe tbody tr th {\n        vertical-align: top;\n    }\n\n    .dataframe thead th {\n        text-align: right;\n    }\n</style>\n<table border=\"1\" class=\"dataframe\">\n  <thead>\n    <tr style=\"text-align: right;\">\n      <th></th>\n      <th>Age_Group</th>\n      <th>FromDiversityJobFairID</th>\n      <th>CitizenDesc</th>\n      <th>HispanicLatino</th>\n      <th>RaceDesc</th>\n      <th>Gender</th>\n      <th>Attrition</th>\n      <th>BusinessTravel</th>\n      <th>DistanceFromHome</th>\n      <th>JobInvolvement</th>\n      <th>EnvironmentSatisfaction</th>\n    </tr>\n    <tr>\n      <th>Employee_ID</th>\n      <th></th>\n      <th></th>\n      <th></th>\n      <th></th>\n      <th></th>\n      <th></th>\n      <th></th>\n      <th></th>\n      <th></th>\n      <th></th>\n      <th></th>\n    </tr>\n  </thead>\n  <tbody>\n    <tr>\n      <th>1</th>\n      <td>0</td>\n      <td>0</td>\n      <td>2</td>\n      <td>0</td>\n      <td>5</td>\n      <td>1</td>\n      <td>1</td>\n      <td>2</td>\n      <td>24.0</td>\n      <td>2.0</td>\n      <td>3.0</td>\n    </tr>\n    <tr>\n      <th>2</th>\n      <td>1</td>\n      <td>0</td>\n      <td>2</td>\n      <td>0</td>\n      <td>5</td>\n      <td>1</td>\n      <td>0</td>\n      <td>2</td>\n      <td>14.0</td>\n      <td>3.0</td>\n      <td>3.0</td>\n    </tr>\n    <tr>\n      <th>3</th>\n      <td>0</td>\n      <td>0</td>\n      <td>2</td>\n      <td>0</td>\n      <td>5</td>\n      <td>0</td>\n      <td>0</td>\n      <td>1</td>\n      <td>1.0</td>\n      <td>4.0</td>\n      <td>3.0</td>\n    </tr>\n    <tr>\n      <th>4</th>\n      <td>0</td>\n      <td>0</td>\n      <td>2</td>\n      <td>0</td>\n      <td>5</td>\n      <td>0</td>\n      <td>0</td>\n      <td>2</td>\n      <td>9.0</td>\n      <td>3.0</td>\n      <td>4.0</td>\n    </tr>\n    <tr>\n      <th>5</th>\n      <td>0</td>\n      <td>0</td>\n      <td>2</td>\n      <td>0</td>\n      <td>5</td>\n      <td>0</td>\n      <td>0</td>\n      <td>2</td>\n      <td>4.0</td>\n      <td>2.0</td>\n      <td>3.0</td>\n    </tr>\n    <tr>\n      <th>...</th>\n      <td>...</td>\n      <td>...</td>\n      <td>...</td>\n      <td>...</td>\n      <td>...</td>\n      <td>...</td>\n      <td>...</td>\n      <td>...</td>\n      <td>...</td>\n      <td>...</td>\n      <td>...</td>\n    </tr>\n    <tr>\n      <th>307</th>\n      <td>0</td>\n      <td>0</td>\n      <td>2</td>\n      <td>0</td>\n      <td>5</td>\n      <td>1</td>\n      <td>0</td>\n      <td>2</td>\n      <td>10.0</td>\n      <td>3.0</td>\n      <td>2.0</td>\n    </tr>\n    <tr>\n      <th>308</th>\n      <td>0</td>\n      <td>0</td>\n      <td>2</td>\n      <td>0</td>\n      <td>1</td>\n      <td>0</td>\n      <td>1</td>\n      <td>1</td>\n      <td>26.0</td>\n      <td>2.0</td>\n      <td>3.0</td>\n    </tr>\n    <tr>\n      <th>309</th>\n      <td>1</td>\n      <td>0</td>\n      <td>2</td>\n      <td>0</td>\n      <td>5</td>\n      <td>0</td>\n      <td>0</td>\n      <td>2</td>\n      <td>8.0</td>\n      <td>3.0</td>\n      <td>3.0</td>\n    </tr>\n    <tr>\n      <th>310</th>\n      <td>1</td>\n      <td>0</td>\n      <td>2</td>\n      <td>0</td>\n      <td>5</td>\n      <td>0</td>\n      <td>0</td>\n      <td>2</td>\n      <td>10.0</td>\n      <td>3.0</td>\n      <td>2.0</td>\n    </tr>\n    <tr>\n      <th>311</th>\n      <td>1</td>\n      <td>0</td>\n      <td>2</td>\n      <td>0</td>\n      <td>1</td>\n      <td>0</td>\n      <td>0</td>\n      <td>0</td>\n      <td>2.0</td>\n      <td>2.0</td>\n      <td>1.0</td>\n    </tr>\n  </tbody>\n</table>\n<p>311 rows × 11 columns</p>\n</div>"
     },
     "metadata": {},
     "execution_count": 11
    }
   ],
   "source": [
    "age_encoder= preprocessing.LabelEncoder()\n",
    "result['Age_Group'] = age_encoder.fit_transform(result['Age_Group'])\n",
    "joblib.dump(age_encoder,'./../scaler_and _encoder/env_age_encoder.pkl')\n",
    "\n",
    "gender_encoder = preprocessing.LabelEncoder()\n",
    "result['Gender'] = gender_encoder.fit_transform(result['Gender'])\n",
    "joblib.dump(gender_encoder,'./../scaler_and _encoder/env_gender_encoder.pkl')\n",
    "\n",
    "\n",
    "job_diversity_encoder=preprocessing.LabelEncoder()\n",
    "result['FromDiversityJobFairID'] = job_diversity_encoder.fit_transform(result['FromDiversityJobFairID'])\n",
    "joblib.dump(job_diversity_encoder,'./../scaler_and _encoder/env_job_diversity_encoder.pkl')\n",
    "\n",
    "\n",
    "citi_encoder=preprocessing.LabelEncoder()\n",
    "result['CitizenDesc'] = citi_encoder.fit_transform(result['CitizenDesc'])\n",
    "joblib.dump(citi_encoder,'./../scaler_and _encoder/env_citizendesc_encoder.pkl')\n",
    "\n",
    "his_encoder=preprocessing.LabelEncoder()\n",
    "result['HispanicLatino'] =his_encoder.fit_transform(result['HispanicLatino'])\n",
    "joblib.dump(his_encoder,'./../scaler_and _encoder/env_citizendesc_encoder.pkl') \n",
    "\n",
    "his_encoder=preprocessing.LabelEncoder()\n",
    "result['HispanicLatino'] =his_encoder.fit_transform(result['HispanicLatino'])\n",
    "joblib.dump(his_encoder,'./../scaler_and _encoder/env_HispanicLatino_encoder.pkl')\n",
    "\n",
    "res_encoder=preprocessing.LabelEncoder()\n",
    "result['RaceDesc'] =his_encoder.fit_transform(result['RaceDesc'])\n",
    "joblib.dump(res_encoder,'./../scaler_and _encoder/env_racedesc_encoder.pkl')\n",
    "\n",
    "attri_encoder=preprocessing.LabelEncoder()\n",
    "result['Attrition'] =attri_encoder.fit_transform(result['Attrition'])\n",
    "joblib.dump(attri_encoder,'./../scaler_and _encoder/env_attri_encoder.pkl')\n",
    "\n",
    "busi_encoder=preprocessing.LabelEncoder()\n",
    "result['BusinessTravel'] =busi_encoder.fit_transform(result['BusinessTravel'])\n",
    "joblib.dump(busi_encoder,'./../scaler_and _encoder/env_busi_encoder.pkl')\n",
    "\n",
    "result[['EnvironmentSatisfaction','Age_Group','Gender','FromDiversityJobFairID','CitizenDesc','HispanicLatino','RaceDesc','Attrition','BusinessTravel']]=result[['EnvironmentSatisfaction','Age_Group','Gender','FromDiversityJobFairID','CitizenDesc','HispanicLatino','RaceDesc','Attrition','BusinessTravel']].astype('category')\n",
    "\n",
    "print(result.info())\n",
    "result"
   ]
  },
  {
   "cell_type": "markdown",
   "metadata": {},
   "source": [
    "### Input Output Split"
   ]
  },
  {
   "cell_type": "code",
   "execution_count": 12,
   "metadata": {},
   "outputs": [],
   "source": [
    "y=result['EnvironmentSatisfaction']\n",
    "X=result.drop(['EnvironmentSatisfaction'],axis='columns')\n"
   ]
  },
  {
   "cell_type": "markdown",
   "metadata": {},
   "source": [
    "### Data Preparation\n"
   ]
  },
  {
   "cell_type": "code",
   "execution_count": 13,
   "metadata": {},
   "outputs": [
    {
     "output_type": "execute_result",
     "data": {
      "text/plain": [
       "Employee_ID\n",
       "1      3.0\n",
       "2      3.0\n",
       "3      3.0\n",
       "4      4.0\n",
       "5      3.0\n",
       "      ... \n",
       "307    2.0\n",
       "308    3.0\n",
       "309    3.0\n",
       "310    2.0\n",
       "311    1.0\n",
       "Name: EnvironmentSatisfaction, Length: 311, dtype: category\n",
       "Categories (4, float64): [1.0, 2.0, 3.0, 4.0]"
      ]
     },
     "metadata": {},
     "execution_count": 13
    }
   ],
   "source": [
    "from sklearn.preprocessing import MinMaxScaler\n",
    "scaler = MinMaxScaler()\n",
    "columns=['JobInvolvement','DistanceFromHome']\n",
    "joblib.dump(scaler,'./../scaler_and _encoder/env_minmax_scaler.pkl')\n",
    "X[columns]=scaler.fit_transform(X[columns])\n",
    "y"
   ]
  },
  {
   "cell_type": "markdown",
   "metadata": {},
   "source": [
    "### Data Modelling"
   ]
  },
  {
   "cell_type": "code",
   "execution_count": 14,
   "metadata": {},
   "outputs": [
    {
     "output_type": "stream",
     "name": "stdout",
     "text": [
      "0.34134615384615385\n0.34951456310679613\n"
     ]
    },
    {
     "output_type": "execute_result",
     "data": {
      "text/plain": [
       "['./../models/workplace_wellbeing_env_satisfaction.pkl']"
      ]
     },
     "metadata": {},
     "execution_count": 14
    }
   ],
   "source": [
    "from sklearn.model_selection import train_test_split\n",
    "X_train, X_test, y_train, y_test = train_test_split(X, y, test_size=0.33,random_state = 0)\n",
    "from sklearn.svm import SVC\n",
    "sv=SVC()\n",
    "sv.fit(X_train,y_train)\n",
    "print (sv.score(X_train, y_train))\n",
    "print (sv.score(X_test, y_test))\n",
    "joblib.dump(sv,'./../models/workplace_wellbeing_env_satisfaction.pkl')"
   ]
  },
  {
   "source": [
    "### Scaling output 0-100"
   ],
   "cell_type": "markdown",
   "metadata": {}
  },
  {
   "cell_type": "code",
   "execution_count": 17,
   "metadata": {},
   "outputs": [
    {
     "output_type": "execute_result",
     "data": {
      "text/plain": [
       "Employee_ID\n",
       "1       75.0\n",
       "2       75.0\n",
       "3       75.0\n",
       "4      100.0\n",
       "5       75.0\n",
       "       ...  \n",
       "307     50.0\n",
       "308     75.0\n",
       "309     75.0\n",
       "310     50.0\n",
       "311     25.0\n",
       "Name: EnvironmentSatisfaction, Length: 311, dtype: float64"
      ]
     },
     "metadata": {},
     "execution_count": 17
    }
   ],
   "source": [
    "y = y.astype(int)*100/4\n",
    "y"
   ]
  }
 ],
 "metadata": {
  "kernelspec": {
   "name": "python385jvsc74a57bd0a97a39992348d9631a2100bf9d9239f93002e04844e8ac142c0ed653e7036898",
   "display_name": "Python 3.8.5 64-bit ('base': conda)"
  },
  "language_info": {
   "codemirror_mode": {
    "name": "ipython",
    "version": 3
   },
   "file_extension": ".py",
   "mimetype": "text/x-python",
   "name": "python",
   "nbconvert_exporter": "python",
   "pygments_lexer": "ipython3",
   "version": "3.8.5-final"
  }
 },
 "nbformat": 4,
 "nbformat_minor": 4
}
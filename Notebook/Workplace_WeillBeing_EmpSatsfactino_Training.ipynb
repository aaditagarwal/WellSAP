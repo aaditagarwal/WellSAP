{
 "cells": [
  {
   "source": [
    "# WellSAP"
   ],
   "cell_type": "markdown",
   "metadata": {}
  },
  {
   "source": [
    "## Workplace WellBeing Employee Satisafaction Training"
   ],
   "cell_type": "markdown",
   "metadata": {}
  },
  {
   "source": [
    "### Imports"
   ],
   "cell_type": "markdown",
   "metadata": {}
  },
  {
   "cell_type": "code",
   "execution_count": 1,
   "metadata": {},
   "outputs": [],
   "source": [
    "import pandas  as pd\n",
    "import numpy as np\n",
    "import sklearn\n",
    "from sklearn import preprocessing\n",
    "import joblib\n"
   ]
  },
  {
   "source": [
    "### Data Loading"
   ],
   "cell_type": "markdown",
   "metadata": {}
  },
  {
   "cell_type": "code",
   "execution_count": 2,
   "metadata": {},
   "outputs": [],
   "source": [
    "hr_data=pd.read_csv('./../dataset/hr_data.csv',header=0, index_col='Employee_ID')\n",
    "attrition_data=pd.read_csv('./../dataset/attrition_data.csv',header=0, index_col='Employee_ID')\n",
    "\n",
    "hr_data=hr_data[['Age_Group','PerfScoreID','SpecialProjectsCount','DaysLateLast30','Absences','Salary','EngagementSurvey','EmpSatisfaction']]\n",
    "attrition_data=attrition_data[['Age_Group','Gender','PercentSalaryHike','PerformanceRating','YearsAtCompany','YearsInCurrentRole','YearsSinceLastPromotion','YearsWithCurrManager','JobSatisfaction','StockOptionLevel','TrainingTimesLastYear','JobLevel','OverTime','NumCompaniesWorked']]"
   ]
  },
  {
   "source": [
    "### Data Pre-Processing"
   ],
   "cell_type": "markdown",
   "metadata": {}
  },
  {
   "cell_type": "code",
   "execution_count": 3,
   "metadata": {},
   "outputs": [
    {
     "output_type": "execute_result",
     "data": {
      "text/plain": [
       "            Age_Group  PerfScoreID  SpecialProjectsCount  DaysLateLast30  \\\n",
       "Employee_ID                                                                \n",
       "1.0          21 to 35            4                     0               0   \n",
       "2.0          36 to 50            3                     6               0   \n",
       "3.0          21 to 35            3                     0               0   \n",
       "4.0          21 to 35            3                     0               0   \n",
       "5.0          21 to 35            3                     0               0   \n",
       "...               ...          ...                   ...             ...   \n",
       "307.0        21 to 35            3                     0               0   \n",
       "308.0        21 to 35            1                     0               5   \n",
       "309.0        36 to 50            4                     6               0   \n",
       "310.0        36 to 50            3                     5               0   \n",
       "311.0        36 to 50            3                     0               0   \n",
       "\n",
       "             Absences  Salary  EngagementSurvey  EmpSatisfaction Gender  \\\n",
       "Employee_ID                                                               \n",
       "1.0                 1   62506              4.60                5      M   \n",
       "2.0                17  104437              4.96                3      M   \n",
       "3.0                 3   64955              3.02                3      F   \n",
       "4.0                15   64991              4.84                5      F   \n",
       "5.0                 2   50825              5.00                4      F   \n",
       "...               ...     ...               ...              ...    ...   \n",
       "307.0              13   65893              4.07                4      M   \n",
       "308.0               4   48513              3.20                2      F   \n",
       "309.0              16  220450              4.60                5      F   \n",
       "310.0              11   89292              5.00                3      F   \n",
       "311.0               2   45046              4.50                5      F   \n",
       "\n",
       "             PercentSalaryHike  ...  YearsAtCompany  YearsInCurrentRole  \\\n",
       "Employee_ID                     ...                                       \n",
       "1.0                       14.0  ...             4.0                 2.0   \n",
       "2.0                       17.0  ...            16.0                 8.0   \n",
       "3.0                       19.0  ...             5.0                 3.0   \n",
       "4.0                       17.0  ...             5.0                 3.0   \n",
       "5.0                       12.0  ...            14.0                13.0   \n",
       "...                        ...  ...             ...                 ...   \n",
       "307.0                     14.0  ...            10.0                 4.0   \n",
       "308.0                     15.0  ...             6.0                 3.0   \n",
       "309.0                     13.0  ...            17.0                14.0   \n",
       "310.0                     11.0  ...             8.0                 4.0   \n",
       "311.0                     17.0  ...             8.0                 7.0   \n",
       "\n",
       "             YearsSinceLastPromotion  YearsWithCurrManager  JobSatisfaction  \\\n",
       "Employee_ID                                                                   \n",
       "1.0                              0.0                   3.0              3.0   \n",
       "2.0                              4.0                  11.0              4.0   \n",
       "3.0                              1.0                   3.0              1.0   \n",
       "4.0                              1.0                   2.0              3.0   \n",
       "5.0                              6.0                   8.0              3.0   \n",
       "...                              ...                   ...              ...   \n",
       "307.0                            0.0                   9.0              3.0   \n",
       "308.0                            0.0                   1.0              1.0   \n",
       "309.0                           12.0                   8.0              3.0   \n",
       "310.0                            7.0                   7.0              2.0   \n",
       "311.0                            0.0                   7.0              3.0   \n",
       "\n",
       "             StockOptionLevel  TrainingTimesLastYear  JobLevel  OverTime  \\\n",
       "Employee_ID                                                                \n",
       "1.0                       0.0                    4.0       1.0       Yes   \n",
       "2.0                       1.0                    2.0       2.0       Yes   \n",
       "3.0                       2.0                    3.0       2.0        No   \n",
       "4.0                       1.0                    2.0       1.0        No   \n",
       "5.0                       1.0                    3.0       2.0        No   \n",
       "...                       ...                    ...       ...       ...   \n",
       "307.0                     0.0                    2.0       2.0        No   \n",
       "308.0                     0.0                    5.0       2.0        No   \n",
       "309.0                     3.0                    2.0       3.0        No   \n",
       "310.0                     1.0                    2.0       1.0        No   \n",
       "311.0                     0.0                    3.0       2.0       Yes   \n",
       "\n",
       "            NumCompaniesWorked  \n",
       "Employee_ID                     \n",
       "1.0                        5.0  \n",
       "2.0                        0.0  \n",
       "3.0                        2.0  \n",
       "4.0                        9.0  \n",
       "5.0                        1.0  \n",
       "...                        ...  \n",
       "307.0                      1.0  \n",
       "308.0                      5.0  \n",
       "309.0                      1.0  \n",
       "310.0                      1.0  \n",
       "311.0                      2.0  \n",
       "\n",
       "[311 rows x 21 columns]"
      ],
      "text/html": "<div>\n<style scoped>\n    .dataframe tbody tr th:only-of-type {\n        vertical-align: middle;\n    }\n\n    .dataframe tbody tr th {\n        vertical-align: top;\n    }\n\n    .dataframe thead th {\n        text-align: right;\n    }\n</style>\n<table border=\"1\" class=\"dataframe\">\n  <thead>\n    <tr style=\"text-align: right;\">\n      <th></th>\n      <th>Age_Group</th>\n      <th>PerfScoreID</th>\n      <th>SpecialProjectsCount</th>\n      <th>DaysLateLast30</th>\n      <th>Absences</th>\n      <th>Salary</th>\n      <th>EngagementSurvey</th>\n      <th>EmpSatisfaction</th>\n      <th>Gender</th>\n      <th>PercentSalaryHike</th>\n      <th>...</th>\n      <th>YearsAtCompany</th>\n      <th>YearsInCurrentRole</th>\n      <th>YearsSinceLastPromotion</th>\n      <th>YearsWithCurrManager</th>\n      <th>JobSatisfaction</th>\n      <th>StockOptionLevel</th>\n      <th>TrainingTimesLastYear</th>\n      <th>JobLevel</th>\n      <th>OverTime</th>\n      <th>NumCompaniesWorked</th>\n    </tr>\n    <tr>\n      <th>Employee_ID</th>\n      <th></th>\n      <th></th>\n      <th></th>\n      <th></th>\n      <th></th>\n      <th></th>\n      <th></th>\n      <th></th>\n      <th></th>\n      <th></th>\n      <th></th>\n      <th></th>\n      <th></th>\n      <th></th>\n      <th></th>\n      <th></th>\n      <th></th>\n      <th></th>\n      <th></th>\n      <th></th>\n      <th></th>\n    </tr>\n  </thead>\n  <tbody>\n    <tr>\n      <th>1.0</th>\n      <td>21 to 35</td>\n      <td>4</td>\n      <td>0</td>\n      <td>0</td>\n      <td>1</td>\n      <td>62506</td>\n      <td>4.60</td>\n      <td>5</td>\n      <td>M</td>\n      <td>14.0</td>\n      <td>...</td>\n      <td>4.0</td>\n      <td>2.0</td>\n      <td>0.0</td>\n      <td>3.0</td>\n      <td>3.0</td>\n      <td>0.0</td>\n      <td>4.0</td>\n      <td>1.0</td>\n      <td>Yes</td>\n      <td>5.0</td>\n    </tr>\n    <tr>\n      <th>2.0</th>\n      <td>36 to 50</td>\n      <td>3</td>\n      <td>6</td>\n      <td>0</td>\n      <td>17</td>\n      <td>104437</td>\n      <td>4.96</td>\n      <td>3</td>\n      <td>M</td>\n      <td>17.0</td>\n      <td>...</td>\n      <td>16.0</td>\n      <td>8.0</td>\n      <td>4.0</td>\n      <td>11.0</td>\n      <td>4.0</td>\n      <td>1.0</td>\n      <td>2.0</td>\n      <td>2.0</td>\n      <td>Yes</td>\n      <td>0.0</td>\n    </tr>\n    <tr>\n      <th>3.0</th>\n      <td>21 to 35</td>\n      <td>3</td>\n      <td>0</td>\n      <td>0</td>\n      <td>3</td>\n      <td>64955</td>\n      <td>3.02</td>\n      <td>3</td>\n      <td>F</td>\n      <td>19.0</td>\n      <td>...</td>\n      <td>5.0</td>\n      <td>3.0</td>\n      <td>1.0</td>\n      <td>3.0</td>\n      <td>1.0</td>\n      <td>2.0</td>\n      <td>3.0</td>\n      <td>2.0</td>\n      <td>No</td>\n      <td>2.0</td>\n    </tr>\n    <tr>\n      <th>4.0</th>\n      <td>21 to 35</td>\n      <td>3</td>\n      <td>0</td>\n      <td>0</td>\n      <td>15</td>\n      <td>64991</td>\n      <td>4.84</td>\n      <td>5</td>\n      <td>F</td>\n      <td>17.0</td>\n      <td>...</td>\n      <td>5.0</td>\n      <td>3.0</td>\n      <td>1.0</td>\n      <td>2.0</td>\n      <td>3.0</td>\n      <td>1.0</td>\n      <td>2.0</td>\n      <td>1.0</td>\n      <td>No</td>\n      <td>9.0</td>\n    </tr>\n    <tr>\n      <th>5.0</th>\n      <td>21 to 35</td>\n      <td>3</td>\n      <td>0</td>\n      <td>0</td>\n      <td>2</td>\n      <td>50825</td>\n      <td>5.00</td>\n      <td>4</td>\n      <td>F</td>\n      <td>12.0</td>\n      <td>...</td>\n      <td>14.0</td>\n      <td>13.0</td>\n      <td>6.0</td>\n      <td>8.0</td>\n      <td>3.0</td>\n      <td>1.0</td>\n      <td>3.0</td>\n      <td>2.0</td>\n      <td>No</td>\n      <td>1.0</td>\n    </tr>\n    <tr>\n      <th>...</th>\n      <td>...</td>\n      <td>...</td>\n      <td>...</td>\n      <td>...</td>\n      <td>...</td>\n      <td>...</td>\n      <td>...</td>\n      <td>...</td>\n      <td>...</td>\n      <td>...</td>\n      <td>...</td>\n      <td>...</td>\n      <td>...</td>\n      <td>...</td>\n      <td>...</td>\n      <td>...</td>\n      <td>...</td>\n      <td>...</td>\n      <td>...</td>\n      <td>...</td>\n      <td>...</td>\n    </tr>\n    <tr>\n      <th>307.0</th>\n      <td>21 to 35</td>\n      <td>3</td>\n      <td>0</td>\n      <td>0</td>\n      <td>13</td>\n      <td>65893</td>\n      <td>4.07</td>\n      <td>4</td>\n      <td>M</td>\n      <td>14.0</td>\n      <td>...</td>\n      <td>10.0</td>\n      <td>4.0</td>\n      <td>0.0</td>\n      <td>9.0</td>\n      <td>3.0</td>\n      <td>0.0</td>\n      <td>2.0</td>\n      <td>2.0</td>\n      <td>No</td>\n      <td>1.0</td>\n    </tr>\n    <tr>\n      <th>308.0</th>\n      <td>21 to 35</td>\n      <td>1</td>\n      <td>0</td>\n      <td>5</td>\n      <td>4</td>\n      <td>48513</td>\n      <td>3.20</td>\n      <td>2</td>\n      <td>F</td>\n      <td>15.0</td>\n      <td>...</td>\n      <td>6.0</td>\n      <td>3.0</td>\n      <td>0.0</td>\n      <td>1.0</td>\n      <td>1.0</td>\n      <td>0.0</td>\n      <td>5.0</td>\n      <td>2.0</td>\n      <td>No</td>\n      <td>5.0</td>\n    </tr>\n    <tr>\n      <th>309.0</th>\n      <td>36 to 50</td>\n      <td>4</td>\n      <td>6</td>\n      <td>0</td>\n      <td>16</td>\n      <td>220450</td>\n      <td>4.60</td>\n      <td>5</td>\n      <td>F</td>\n      <td>13.0</td>\n      <td>...</td>\n      <td>17.0</td>\n      <td>14.0</td>\n      <td>12.0</td>\n      <td>8.0</td>\n      <td>3.0</td>\n      <td>3.0</td>\n      <td>2.0</td>\n      <td>3.0</td>\n      <td>No</td>\n      <td>1.0</td>\n    </tr>\n    <tr>\n      <th>310.0</th>\n      <td>36 to 50</td>\n      <td>3</td>\n      <td>5</td>\n      <td>0</td>\n      <td>11</td>\n      <td>89292</td>\n      <td>5.00</td>\n      <td>3</td>\n      <td>F</td>\n      <td>11.0</td>\n      <td>...</td>\n      <td>8.0</td>\n      <td>4.0</td>\n      <td>7.0</td>\n      <td>7.0</td>\n      <td>2.0</td>\n      <td>1.0</td>\n      <td>2.0</td>\n      <td>1.0</td>\n      <td>No</td>\n      <td>1.0</td>\n    </tr>\n    <tr>\n      <th>311.0</th>\n      <td>36 to 50</td>\n      <td>3</td>\n      <td>0</td>\n      <td>0</td>\n      <td>2</td>\n      <td>45046</td>\n      <td>4.50</td>\n      <td>5</td>\n      <td>F</td>\n      <td>17.0</td>\n      <td>...</td>\n      <td>8.0</td>\n      <td>7.0</td>\n      <td>0.0</td>\n      <td>7.0</td>\n      <td>3.0</td>\n      <td>0.0</td>\n      <td>3.0</td>\n      <td>2.0</td>\n      <td>Yes</td>\n      <td>2.0</td>\n    </tr>\n  </tbody>\n</table>\n<p>311 rows × 21 columns</p>\n</div>"
     },
     "metadata": {},
     "execution_count": 3
    }
   ],
   "source": [
    "result = pd.merge(hr_data, attrition_data, on=['Employee_ID','Age_Group'])\n",
    "result"
   ]
  },
  {
   "cell_type": "code",
   "execution_count": 4,
   "metadata": {},
   "outputs": [
    {
     "output_type": "stream",
     "name": "stdout",
     "text": [
      "<class 'pandas.core.frame.DataFrame'>\nFloat64Index: 311 entries, 1.0 to 311.0\nData columns (total 21 columns):\n #   Column                   Non-Null Count  Dtype   \n---  ------                   --------------  -----   \n 0   Age_Group                311 non-null    category\n 1   PerfScoreID              311 non-null    category\n 2   SpecialProjectsCount     311 non-null    int64   \n 3   DaysLateLast30           311 non-null    int64   \n 4   Absences                 311 non-null    int64   \n 5   Salary                   311 non-null    int64   \n 6   EngagementSurvey         311 non-null    float64 \n 7   EmpSatisfaction          311 non-null    category\n 8   Gender                   311 non-null    category\n 9   PercentSalaryHike        311 non-null    float64 \n 10  PerformanceRating        311 non-null    float64 \n 11  YearsAtCompany           311 non-null    float64 \n 12  YearsInCurrentRole       311 non-null    float64 \n 13  YearsSinceLastPromotion  311 non-null    float64 \n 14  YearsWithCurrManager     311 non-null    float64 \n 15  JobSatisfaction          311 non-null    category\n 16  StockOptionLevel         311 non-null    category\n 17  TrainingTimesLastYear    311 non-null    float64 \n 18  JobLevel                 311 non-null    category\n 19  OverTime                 311 non-null    category\n 20  NumCompaniesWorked       311 non-null    float64 \ndtypes: category(8), float64(9), int64(4)\nmemory usage: 37.8 KB\nNone\n"
     ]
    },
    {
     "output_type": "execute_result",
     "data": {
      "text/plain": [
       "            Age_Group PerfScoreID  SpecialProjectsCount  DaysLateLast30  \\\n",
       "Employee_ID                                                               \n",
       "1.0                 0           4                     0               0   \n",
       "2.0                 1           3                     6               0   \n",
       "3.0                 0           3                     0               0   \n",
       "4.0                 0           3                     0               0   \n",
       "5.0                 0           3                     0               0   \n",
       "...               ...         ...                   ...             ...   \n",
       "307.0               0           3                     0               0   \n",
       "308.0               0           1                     0               5   \n",
       "309.0               1           4                     6               0   \n",
       "310.0               1           3                     5               0   \n",
       "311.0               1           3                     0               0   \n",
       "\n",
       "             Absences  Salary  EngagementSurvey EmpSatisfaction Gender  \\\n",
       "Employee_ID                                                              \n",
       "1.0                 1   62506              4.60               5      1   \n",
       "2.0                17  104437              4.96               3      1   \n",
       "3.0                 3   64955              3.02               3      0   \n",
       "4.0                15   64991              4.84               5      0   \n",
       "5.0                 2   50825              5.00               4      0   \n",
       "...               ...     ...               ...             ...    ...   \n",
       "307.0              13   65893              4.07               4      1   \n",
       "308.0               4   48513              3.20               2      0   \n",
       "309.0              16  220450              4.60               5      0   \n",
       "310.0              11   89292              5.00               3      0   \n",
       "311.0               2   45046              4.50               5      0   \n",
       "\n",
       "             PercentSalaryHike  ...  YearsAtCompany  YearsInCurrentRole  \\\n",
       "Employee_ID                     ...                                       \n",
       "1.0                       14.0  ...             4.0                 2.0   \n",
       "2.0                       17.0  ...            16.0                 8.0   \n",
       "3.0                       19.0  ...             5.0                 3.0   \n",
       "4.0                       17.0  ...             5.0                 3.0   \n",
       "5.0                       12.0  ...            14.0                13.0   \n",
       "...                        ...  ...             ...                 ...   \n",
       "307.0                     14.0  ...            10.0                 4.0   \n",
       "308.0                     15.0  ...             6.0                 3.0   \n",
       "309.0                     13.0  ...            17.0                14.0   \n",
       "310.0                     11.0  ...             8.0                 4.0   \n",
       "311.0                     17.0  ...             8.0                 7.0   \n",
       "\n",
       "             YearsSinceLastPromotion  YearsWithCurrManager  JobSatisfaction  \\\n",
       "Employee_ID                                                                   \n",
       "1.0                              0.0                   3.0              3.0   \n",
       "2.0                              4.0                  11.0              4.0   \n",
       "3.0                              1.0                   3.0              1.0   \n",
       "4.0                              1.0                   2.0              3.0   \n",
       "5.0                              6.0                   8.0              3.0   \n",
       "...                              ...                   ...              ...   \n",
       "307.0                            0.0                   9.0              3.0   \n",
       "308.0                            0.0                   1.0              1.0   \n",
       "309.0                           12.0                   8.0              3.0   \n",
       "310.0                            7.0                   7.0              2.0   \n",
       "311.0                            0.0                   7.0              3.0   \n",
       "\n",
       "            StockOptionLevel TrainingTimesLastYear  JobLevel OverTime  \\\n",
       "Employee_ID                                                             \n",
       "1.0                      0.0                   4.0       1.0        1   \n",
       "2.0                      1.0                   2.0       2.0        1   \n",
       "3.0                      2.0                   3.0       2.0        0   \n",
       "4.0                      1.0                   2.0       1.0        0   \n",
       "5.0                      1.0                   3.0       2.0        0   \n",
       "...                      ...                   ...       ...      ...   \n",
       "307.0                    0.0                   2.0       2.0        0   \n",
       "308.0                    0.0                   5.0       2.0        0   \n",
       "309.0                    3.0                   2.0       3.0        0   \n",
       "310.0                    1.0                   2.0       1.0        0   \n",
       "311.0                    0.0                   3.0       2.0        1   \n",
       "\n",
       "            NumCompaniesWorked  \n",
       "Employee_ID                     \n",
       "1.0                        5.0  \n",
       "2.0                        0.0  \n",
       "3.0                        2.0  \n",
       "4.0                        9.0  \n",
       "5.0                        1.0  \n",
       "...                        ...  \n",
       "307.0                      1.0  \n",
       "308.0                      5.0  \n",
       "309.0                      1.0  \n",
       "310.0                      1.0  \n",
       "311.0                      2.0  \n",
       "\n",
       "[311 rows x 21 columns]"
      ],
      "text/html": "<div>\n<style scoped>\n    .dataframe tbody tr th:only-of-type {\n        vertical-align: middle;\n    }\n\n    .dataframe tbody tr th {\n        vertical-align: top;\n    }\n\n    .dataframe thead th {\n        text-align: right;\n    }\n</style>\n<table border=\"1\" class=\"dataframe\">\n  <thead>\n    <tr style=\"text-align: right;\">\n      <th></th>\n      <th>Age_Group</th>\n      <th>PerfScoreID</th>\n      <th>SpecialProjectsCount</th>\n      <th>DaysLateLast30</th>\n      <th>Absences</th>\n      <th>Salary</th>\n      <th>EngagementSurvey</th>\n      <th>EmpSatisfaction</th>\n      <th>Gender</th>\n      <th>PercentSalaryHike</th>\n      <th>...</th>\n      <th>YearsAtCompany</th>\n      <th>YearsInCurrentRole</th>\n      <th>YearsSinceLastPromotion</th>\n      <th>YearsWithCurrManager</th>\n      <th>JobSatisfaction</th>\n      <th>StockOptionLevel</th>\n      <th>TrainingTimesLastYear</th>\n      <th>JobLevel</th>\n      <th>OverTime</th>\n      <th>NumCompaniesWorked</th>\n    </tr>\n    <tr>\n      <th>Employee_ID</th>\n      <th></th>\n      <th></th>\n      <th></th>\n      <th></th>\n      <th></th>\n      <th></th>\n      <th></th>\n      <th></th>\n      <th></th>\n      <th></th>\n      <th></th>\n      <th></th>\n      <th></th>\n      <th></th>\n      <th></th>\n      <th></th>\n      <th></th>\n      <th></th>\n      <th></th>\n      <th></th>\n      <th></th>\n    </tr>\n  </thead>\n  <tbody>\n    <tr>\n      <th>1.0</th>\n      <td>0</td>\n      <td>4</td>\n      <td>0</td>\n      <td>0</td>\n      <td>1</td>\n      <td>62506</td>\n      <td>4.60</td>\n      <td>5</td>\n      <td>1</td>\n      <td>14.0</td>\n      <td>...</td>\n      <td>4.0</td>\n      <td>2.0</td>\n      <td>0.0</td>\n      <td>3.0</td>\n      <td>3.0</td>\n      <td>0.0</td>\n      <td>4.0</td>\n      <td>1.0</td>\n      <td>1</td>\n      <td>5.0</td>\n    </tr>\n    <tr>\n      <th>2.0</th>\n      <td>1</td>\n      <td>3</td>\n      <td>6</td>\n      <td>0</td>\n      <td>17</td>\n      <td>104437</td>\n      <td>4.96</td>\n      <td>3</td>\n      <td>1</td>\n      <td>17.0</td>\n      <td>...</td>\n      <td>16.0</td>\n      <td>8.0</td>\n      <td>4.0</td>\n      <td>11.0</td>\n      <td>4.0</td>\n      <td>1.0</td>\n      <td>2.0</td>\n      <td>2.0</td>\n      <td>1</td>\n      <td>0.0</td>\n    </tr>\n    <tr>\n      <th>3.0</th>\n      <td>0</td>\n      <td>3</td>\n      <td>0</td>\n      <td>0</td>\n      <td>3</td>\n      <td>64955</td>\n      <td>3.02</td>\n      <td>3</td>\n      <td>0</td>\n      <td>19.0</td>\n      <td>...</td>\n      <td>5.0</td>\n      <td>3.0</td>\n      <td>1.0</td>\n      <td>3.0</td>\n      <td>1.0</td>\n      <td>2.0</td>\n      <td>3.0</td>\n      <td>2.0</td>\n      <td>0</td>\n      <td>2.0</td>\n    </tr>\n    <tr>\n      <th>4.0</th>\n      <td>0</td>\n      <td>3</td>\n      <td>0</td>\n      <td>0</td>\n      <td>15</td>\n      <td>64991</td>\n      <td>4.84</td>\n      <td>5</td>\n      <td>0</td>\n      <td>17.0</td>\n      <td>...</td>\n      <td>5.0</td>\n      <td>3.0</td>\n      <td>1.0</td>\n      <td>2.0</td>\n      <td>3.0</td>\n      <td>1.0</td>\n      <td>2.0</td>\n      <td>1.0</td>\n      <td>0</td>\n      <td>9.0</td>\n    </tr>\n    <tr>\n      <th>5.0</th>\n      <td>0</td>\n      <td>3</td>\n      <td>0</td>\n      <td>0</td>\n      <td>2</td>\n      <td>50825</td>\n      <td>5.00</td>\n      <td>4</td>\n      <td>0</td>\n      <td>12.0</td>\n      <td>...</td>\n      <td>14.0</td>\n      <td>13.0</td>\n      <td>6.0</td>\n      <td>8.0</td>\n      <td>3.0</td>\n      <td>1.0</td>\n      <td>3.0</td>\n      <td>2.0</td>\n      <td>0</td>\n      <td>1.0</td>\n    </tr>\n    <tr>\n      <th>...</th>\n      <td>...</td>\n      <td>...</td>\n      <td>...</td>\n      <td>...</td>\n      <td>...</td>\n      <td>...</td>\n      <td>...</td>\n      <td>...</td>\n      <td>...</td>\n      <td>...</td>\n      <td>...</td>\n      <td>...</td>\n      <td>...</td>\n      <td>...</td>\n      <td>...</td>\n      <td>...</td>\n      <td>...</td>\n      <td>...</td>\n      <td>...</td>\n      <td>...</td>\n      <td>...</td>\n    </tr>\n    <tr>\n      <th>307.0</th>\n      <td>0</td>\n      <td>3</td>\n      <td>0</td>\n      <td>0</td>\n      <td>13</td>\n      <td>65893</td>\n      <td>4.07</td>\n      <td>4</td>\n      <td>1</td>\n      <td>14.0</td>\n      <td>...</td>\n      <td>10.0</td>\n      <td>4.0</td>\n      <td>0.0</td>\n      <td>9.0</td>\n      <td>3.0</td>\n      <td>0.0</td>\n      <td>2.0</td>\n      <td>2.0</td>\n      <td>0</td>\n      <td>1.0</td>\n    </tr>\n    <tr>\n      <th>308.0</th>\n      <td>0</td>\n      <td>1</td>\n      <td>0</td>\n      <td>5</td>\n      <td>4</td>\n      <td>48513</td>\n      <td>3.20</td>\n      <td>2</td>\n      <td>0</td>\n      <td>15.0</td>\n      <td>...</td>\n      <td>6.0</td>\n      <td>3.0</td>\n      <td>0.0</td>\n      <td>1.0</td>\n      <td>1.0</td>\n      <td>0.0</td>\n      <td>5.0</td>\n      <td>2.0</td>\n      <td>0</td>\n      <td>5.0</td>\n    </tr>\n    <tr>\n      <th>309.0</th>\n      <td>1</td>\n      <td>4</td>\n      <td>6</td>\n      <td>0</td>\n      <td>16</td>\n      <td>220450</td>\n      <td>4.60</td>\n      <td>5</td>\n      <td>0</td>\n      <td>13.0</td>\n      <td>...</td>\n      <td>17.0</td>\n      <td>14.0</td>\n      <td>12.0</td>\n      <td>8.0</td>\n      <td>3.0</td>\n      <td>3.0</td>\n      <td>2.0</td>\n      <td>3.0</td>\n      <td>0</td>\n      <td>1.0</td>\n    </tr>\n    <tr>\n      <th>310.0</th>\n      <td>1</td>\n      <td>3</td>\n      <td>5</td>\n      <td>0</td>\n      <td>11</td>\n      <td>89292</td>\n      <td>5.00</td>\n      <td>3</td>\n      <td>0</td>\n      <td>11.0</td>\n      <td>...</td>\n      <td>8.0</td>\n      <td>4.0</td>\n      <td>7.0</td>\n      <td>7.0</td>\n      <td>2.0</td>\n      <td>1.0</td>\n      <td>2.0</td>\n      <td>1.0</td>\n      <td>0</td>\n      <td>1.0</td>\n    </tr>\n    <tr>\n      <th>311.0</th>\n      <td>1</td>\n      <td>3</td>\n      <td>0</td>\n      <td>0</td>\n      <td>2</td>\n      <td>45046</td>\n      <td>4.50</td>\n      <td>5</td>\n      <td>0</td>\n      <td>17.0</td>\n      <td>...</td>\n      <td>8.0</td>\n      <td>7.0</td>\n      <td>0.0</td>\n      <td>7.0</td>\n      <td>3.0</td>\n      <td>0.0</td>\n      <td>3.0</td>\n      <td>2.0</td>\n      <td>1</td>\n      <td>2.0</td>\n    </tr>\n  </tbody>\n</table>\n<p>311 rows × 21 columns</p>\n</div>"
     },
     "metadata": {},
     "execution_count": 4
    }
   ],
   "source": [
    "age_encoder= preprocessing.LabelEncoder()\n",
    "result['Age_Group'] = age_encoder.fit_transform(result['Age_Group'])\n",
    "joblib.dump(age_encoder,'./../scaler_and _encoder/emp_satisfaction_age_encoder.pkl')\n",
    "\n",
    "gender_encoder = preprocessing.LabelEncoder()\n",
    "result['Gender'] = gender_encoder.fit_transform(result['Gender'])\n",
    "joblib.dump(gender_encoder,'./../scaler_and _encoder/emp_satisfaction_gender_encoder.pkl')\n",
    "\n",
    "overtime_encoder=preprocessing.LabelEncoder()\n",
    "result['OverTime'] = overtime_encoder.fit_transform(result['OverTime'])\n",
    "joblib.dump(overtime_encoder,'./../scaler_and _encoder/emp_satisfaction_overtime_encoder.pkl')\n",
    "\n",
    "result[['Age_Group','Gender','OverTime', 'PerfScoreID', 'EmpSatisfaction', 'JobSatisfaction', 'StockOptionLevel', 'JobLevel']]=result[['Age_Group','Gender','OverTime', 'PerfScoreID', 'EmpSatisfaction', 'JobSatisfaction', 'StockOptionLevel', 'JobLevel']].astype('category')\n",
    "\n",
    "print(result.info())\n",
    "result"
   ]
  },
  {
   "source": [
    "### Input Output Split"
   ],
   "cell_type": "markdown",
   "metadata": {}
  },
  {
   "cell_type": "code",
   "execution_count": 5,
   "metadata": {},
   "outputs": [],
   "source": [
    "y=result['EmpSatisfaction']\n",
    "X=result.drop(['EmpSatisfaction'],axis='columns')"
   ]
  },
  {
   "source": [
    "### Data Preparation"
   ],
   "cell_type": "markdown",
   "metadata": {}
  },
  {
   "cell_type": "code",
   "execution_count": 6,
   "metadata": {},
   "outputs": [
    {
     "output_type": "execute_result",
     "data": {
      "text/plain": [
       "['./../scaler_and _encoder/emp_scaler.pkl']"
      ]
     },
     "metadata": {},
     "execution_count": 6
    }
   ],
   "source": [
    "from sklearn.preprocessing import StandardScaler\n",
    "columns = ['Absences', 'Salary', 'PercentSalaryHike', 'YearsAtCompany', 'YearsInCurrentRole', 'YearsSinceLastPromotion', 'YearsWithCurrManager', 'NumCompaniesWorked']\n",
    "scaler = StandardScaler()\n",
    "X[columns]=scaler.fit_transform(X[columns])\n",
    "joblib.dump(scaler,'./../scaler_and _encoder/emp_scaler.pkl')"
   ]
  },
  {
   "cell_type": "code",
   "execution_count": 7,
   "metadata": {},
   "outputs": [
    {
     "output_type": "execute_result",
     "data": {
      "text/plain": [
       "Employee_ID\n",
       "1.0      5\n",
       "2.0      3\n",
       "3.0      3\n",
       "4.0      5\n",
       "5.0      4\n",
       "        ..\n",
       "307.0    4\n",
       "308.0    2\n",
       "309.0    5\n",
       "310.0    3\n",
       "311.0    5\n",
       "Name: EmpSatisfaction, Length: 311, dtype: category\n",
       "Categories (5, int64): [1, 2, 3, 4, 5]"
      ]
     },
     "metadata": {},
     "execution_count": 7
    }
   ],
   "source": [
    "y"
   ]
  },
  {
   "source": [
    "### Data Modelling"
   ],
   "cell_type": "markdown",
   "metadata": {}
  },
  {
   "cell_type": "code",
   "execution_count": 8,
   "metadata": {},
   "outputs": [],
   "source": [
    "from sklearn.model_selection import train_test_split\n",
    "X_train, X_test, y_train, y_test = train_test_split(X, y, test_size=0.33,random_state = 42)"
   ]
  },
  {
   "cell_type": "code",
   "execution_count": 9,
   "metadata": {},
   "outputs": [
    {
     "output_type": "stream",
     "name": "stdout",
     "text": [
      "0.7259615384615384\n0.3592233009708738\n"
     ]
    },
    {
     "output_type": "execute_result",
     "data": {
      "text/plain": [
       "['./../models/workplace_wellbeing_emp_satisfaction.pkl']"
      ]
     },
     "metadata": {},
     "execution_count": 9
    }
   ],
   "source": [
    "from sklearn.svm import SVC\n",
    "svm_classifier=SVC(kernel='poly',degree=4)\n",
    "svm_classifier.fit(X_train,y_train)\n",
    "print (svm_classifier.score(X_train, y_train))\n",
    "print (svm_classifier.score(X_test, y_test))\n",
    "joblib.dump(svm_classifier,'./../models/workplace_wellbeing_emp_satisfaction.pkl')\n"
   ]
  },
  {
   "source": [
    "### Scaling Output to 1-100 "
   ],
   "cell_type": "markdown",
   "metadata": {}
  },
  {
   "cell_type": "code",
   "execution_count": 10,
   "metadata": {},
   "outputs": [
    {
     "output_type": "execute_result",
     "data": {
      "text/plain": [
       "Employee_ID\n",
       "1.0      100.0\n",
       "2.0       60.0\n",
       "3.0       60.0\n",
       "4.0      100.0\n",
       "5.0       80.0\n",
       "         ...  \n",
       "307.0     80.0\n",
       "308.0     40.0\n",
       "309.0    100.0\n",
       "310.0     60.0\n",
       "311.0    100.0\n",
       "Name: EmpSatisfaction, Length: 311, dtype: float64"
      ]
     },
     "metadata": {},
     "execution_count": 10
    }
   ],
   "source": [
    "y = y.astype('int')*100/5\n",
    "y"
   ]
  }
 ],
 "metadata": {
  "kernelspec": {
   "name": "python385jvsc74a57bd0905d0f07fe6f5c8c643ac9513defc256c6184424042a8d14d49292ea27dd2c1d",
   "display_name": "Python 3.8.5 64-bit ('gpu_env': conda)"
  },
  "language_info": {
   "codemirror_mode": {
    "name": "ipython",
    "version": 3
   },
   "file_extension": ".py",
   "mimetype": "text/x-python",
   "name": "python",
   "nbconvert_exporter": "python",
   "pygments_lexer": "ipython3",
   "version": "3.8.5-final"
  }
 },
 "nbformat": 4,
 "nbformat_minor": 4
}
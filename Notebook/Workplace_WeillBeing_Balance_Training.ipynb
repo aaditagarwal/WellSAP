{
 "metadata": {
  "language_info": {
   "codemirror_mode": {
    "name": "ipython",
    "version": 3
   },
   "file_extension": ".py",
   "mimetype": "text/x-python",
   "name": "python",
   "nbconvert_exporter": "python",
   "pygments_lexer": "ipython3",
   "version": "3.8.5-final"
  },
  "orig_nbformat": 2,
  "kernelspec": {
   "name": "python385jvsc74a57bd0905d0f07fe6f5c8c643ac9513defc256c6184424042a8d14d49292ea27dd2c1d",
   "display_name": "Python 3.8.5 64-bit ('gpu_env': conda)"
  }
 },
 "nbformat": 4,
 "nbformat_minor": 2,
 "cells": [
  {
   "source": [
    "# WellSAP"
   ],
   "cell_type": "markdown",
   "metadata": {}
  },
  {
   "source": [
    "## Workplace WellBeing Work_Life_Balance Training"
   ],
   "cell_type": "markdown",
   "metadata": {}
  },
  {
   "source": [
    "### Imports"
   ],
   "cell_type": "markdown",
   "metadata": {}
  },
  {
   "cell_type": "code",
   "execution_count": 3,
   "metadata": {},
   "outputs": [],
   "source": [
    "import pandas as pd\n",
    "import numpy as np\n",
    "from sklearn import preprocessing"
   ]
  },
  {
   "source": [
    "### Data Loading"
   ],
   "cell_type": "markdown",
   "metadata": {}
  },
  {
   "cell_type": "code",
   "execution_count": 4,
   "metadata": {},
   "outputs": [],
   "source": [
    "attrition_data = pd.read_csv('./../dataset/attrition_data.csv', header=0, index_col='Employee_ID')\n",
    "lifestyle_data = pd.read_csv('./../dataset/lifestyle_data.csv', header=0, index_col='Employee_ID')"
   ]
  },
  {
   "source": [
    "### Data Pre-Processing"
   ],
   "cell_type": "markdown",
   "metadata": {}
  },
  {
   "source": [
    "#### Lifestyle Data Pre-Processing"
   ],
   "cell_type": "markdown",
   "metadata": {}
  },
  {
   "cell_type": "code",
   "execution_count": 12,
   "metadata": {},
   "outputs": [],
   "source": [
    "input_features_int_int = lifestyle_data.loc[:,['TODO_COMPLETED','LOST_VACATION']]\n",
    "input_features_int_float = lifestyle_data.loc[:,['TIME_FOR_PASSION','FLOW']]"
   ]
  },
  {
   "cell_type": "code",
   "execution_count": 20,
   "metadata": {},
   "outputs": [],
   "source": [
    "input_features_int_int = input_features_int_int.groupby('Employee_ID').mean().apply(np.ceil).astype(int)\n",
    "input_features_int_float = input_features_int_float.groupby('Employee_ID').mean()"
   ]
  },
  {
   "cell_type": "code",
   "execution_count": 21,
   "metadata": {},
   "outputs": [
    {
     "output_type": "execute_result",
     "data": {
      "text/plain": [
       "             TODO_COMPLETED  LOST_VACATION  TIME_FOR_PASSION  FLOW\n",
       "Employee_ID                                                       \n",
       "1.0                       5              2              3.36  3.24\n",
       "2.0                       6              5              2.68  3.16\n",
       "3.0                       6              3              3.40  3.16\n",
       "4.0                       6              4              4.44  2.76\n",
       "5.0                       6              5              2.24  2.24\n",
       "...                     ...            ...               ...   ...\n",
       "307.0                     7              2              3.60  4.28\n",
       "308.0                     7              3              3.84  4.12\n",
       "309.0                     7              2              3.40  3.24\n",
       "310.0                     7              3              3.72  3.36\n",
       "311.0                     7              4              3.44  3.36\n",
       "\n",
       "[311 rows x 4 columns]"
      ],
      "text/html": "<div>\n<style scoped>\n    .dataframe tbody tr th:only-of-type {\n        vertical-align: middle;\n    }\n\n    .dataframe tbody tr th {\n        vertical-align: top;\n    }\n\n    .dataframe thead th {\n        text-align: right;\n    }\n</style>\n<table border=\"1\" class=\"dataframe\">\n  <thead>\n    <tr style=\"text-align: right;\">\n      <th></th>\n      <th>TODO_COMPLETED</th>\n      <th>LOST_VACATION</th>\n      <th>TIME_FOR_PASSION</th>\n      <th>FLOW</th>\n    </tr>\n    <tr>\n      <th>Employee_ID</th>\n      <th></th>\n      <th></th>\n      <th></th>\n      <th></th>\n    </tr>\n  </thead>\n  <tbody>\n    <tr>\n      <th>1.0</th>\n      <td>5</td>\n      <td>2</td>\n      <td>3.36</td>\n      <td>3.24</td>\n    </tr>\n    <tr>\n      <th>2.0</th>\n      <td>6</td>\n      <td>5</td>\n      <td>2.68</td>\n      <td>3.16</td>\n    </tr>\n    <tr>\n      <th>3.0</th>\n      <td>6</td>\n      <td>3</td>\n      <td>3.40</td>\n      <td>3.16</td>\n    </tr>\n    <tr>\n      <th>4.0</th>\n      <td>6</td>\n      <td>4</td>\n      <td>4.44</td>\n      <td>2.76</td>\n    </tr>\n    <tr>\n      <th>5.0</th>\n      <td>6</td>\n      <td>5</td>\n      <td>2.24</td>\n      <td>2.24</td>\n    </tr>\n    <tr>\n      <th>...</th>\n      <td>...</td>\n      <td>...</td>\n      <td>...</td>\n      <td>...</td>\n    </tr>\n    <tr>\n      <th>307.0</th>\n      <td>7</td>\n      <td>2</td>\n      <td>3.60</td>\n      <td>4.28</td>\n    </tr>\n    <tr>\n      <th>308.0</th>\n      <td>7</td>\n      <td>3</td>\n      <td>3.84</td>\n      <td>4.12</td>\n    </tr>\n    <tr>\n      <th>309.0</th>\n      <td>7</td>\n      <td>2</td>\n      <td>3.40</td>\n      <td>3.24</td>\n    </tr>\n    <tr>\n      <th>310.0</th>\n      <td>7</td>\n      <td>3</td>\n      <td>3.72</td>\n      <td>3.36</td>\n    </tr>\n    <tr>\n      <th>311.0</th>\n      <td>7</td>\n      <td>4</td>\n      <td>3.44</td>\n      <td>3.36</td>\n    </tr>\n  </tbody>\n</table>\n<p>311 rows × 4 columns</p>\n</div>"
     },
     "metadata": {},
     "execution_count": 21
    }
   ],
   "source": [
    "input_features = pd.concat([input_features_int_int, input_features_int_float], axis=1)\n",
    "input_features"
   ]
  },
  {
   "source": [
    "#### Attrition Data Pre-Processing"
   ],
   "cell_type": "markdown",
   "metadata": {}
  },
  {
   "cell_type": "code",
   "execution_count": 22,
   "metadata": {},
   "outputs": [],
   "source": [
    "gender_encoder = preprocessing.LabelEncoder()\n",
    "attrition_data['Gender'] = gender_encoder.fit_transform(attrition_data['Gender'])\n",
    "age_encoder = preprocessing.LabelEncoder()\n",
    "attrition_data['Age_Group'] = age_encoder.fit_transform(attrition_data['Age_Group'])"
   ]
  },
  {
   "cell_type": "code",
   "execution_count": 23,
   "metadata": {},
   "outputs": [
    {
     "output_type": "execute_result",
     "data": {
      "text/plain": [
       "             TODO_COMPLETED  LOST_VACATION  TIME_FOR_PASSION  FLOW  Age_Group  \\\n",
       "Employee_ID                                                                     \n",
       "1.0                       5              2              3.36  3.24          0   \n",
       "2.0                       6              5              2.68  3.16          1   \n",
       "3.0                       6              3              3.40  3.16          0   \n",
       "4.0                       6              4              4.44  2.76          0   \n",
       "5.0                       6              5              2.24  2.24          0   \n",
       "...                     ...            ...               ...   ...        ...   \n",
       "307.0                     7              2              3.60  4.28          0   \n",
       "308.0                     7              3              3.84  4.12          0   \n",
       "309.0                     7              2              3.40  3.24          1   \n",
       "310.0                     7              3              3.72  3.36          1   \n",
       "311.0                     7              4              3.44  3.36          1   \n",
       "\n",
       "             Gender  \n",
       "Employee_ID          \n",
       "1.0               1  \n",
       "2.0               1  \n",
       "3.0               0  \n",
       "4.0               0  \n",
       "5.0               0  \n",
       "...             ...  \n",
       "307.0             1  \n",
       "308.0             0  \n",
       "309.0             0  \n",
       "310.0             0  \n",
       "311.0             0  \n",
       "\n",
       "[311 rows x 6 columns]"
      ],
      "text/html": "<div>\n<style scoped>\n    .dataframe tbody tr th:only-of-type {\n        vertical-align: middle;\n    }\n\n    .dataframe tbody tr th {\n        vertical-align: top;\n    }\n\n    .dataframe thead th {\n        text-align: right;\n    }\n</style>\n<table border=\"1\" class=\"dataframe\">\n  <thead>\n    <tr style=\"text-align: right;\">\n      <th></th>\n      <th>TODO_COMPLETED</th>\n      <th>LOST_VACATION</th>\n      <th>TIME_FOR_PASSION</th>\n      <th>FLOW</th>\n      <th>Age_Group</th>\n      <th>Gender</th>\n    </tr>\n    <tr>\n      <th>Employee_ID</th>\n      <th></th>\n      <th></th>\n      <th></th>\n      <th></th>\n      <th></th>\n      <th></th>\n    </tr>\n  </thead>\n  <tbody>\n    <tr>\n      <th>1.0</th>\n      <td>5</td>\n      <td>2</td>\n      <td>3.36</td>\n      <td>3.24</td>\n      <td>0</td>\n      <td>1</td>\n    </tr>\n    <tr>\n      <th>2.0</th>\n      <td>6</td>\n      <td>5</td>\n      <td>2.68</td>\n      <td>3.16</td>\n      <td>1</td>\n      <td>1</td>\n    </tr>\n    <tr>\n      <th>3.0</th>\n      <td>6</td>\n      <td>3</td>\n      <td>3.40</td>\n      <td>3.16</td>\n      <td>0</td>\n      <td>0</td>\n    </tr>\n    <tr>\n      <th>4.0</th>\n      <td>6</td>\n      <td>4</td>\n      <td>4.44</td>\n      <td>2.76</td>\n      <td>0</td>\n      <td>0</td>\n    </tr>\n    <tr>\n      <th>5.0</th>\n      <td>6</td>\n      <td>5</td>\n      <td>2.24</td>\n      <td>2.24</td>\n      <td>0</td>\n      <td>0</td>\n    </tr>\n    <tr>\n      <th>...</th>\n      <td>...</td>\n      <td>...</td>\n      <td>...</td>\n      <td>...</td>\n      <td>...</td>\n      <td>...</td>\n    </tr>\n    <tr>\n      <th>307.0</th>\n      <td>7</td>\n      <td>2</td>\n      <td>3.60</td>\n      <td>4.28</td>\n      <td>0</td>\n      <td>1</td>\n    </tr>\n    <tr>\n      <th>308.0</th>\n      <td>7</td>\n      <td>3</td>\n      <td>3.84</td>\n      <td>4.12</td>\n      <td>0</td>\n      <td>0</td>\n    </tr>\n    <tr>\n      <th>309.0</th>\n      <td>7</td>\n      <td>2</td>\n      <td>3.40</td>\n      <td>3.24</td>\n      <td>1</td>\n      <td>0</td>\n    </tr>\n    <tr>\n      <th>310.0</th>\n      <td>7</td>\n      <td>3</td>\n      <td>3.72</td>\n      <td>3.36</td>\n      <td>1</td>\n      <td>0</td>\n    </tr>\n    <tr>\n      <th>311.0</th>\n      <td>7</td>\n      <td>4</td>\n      <td>3.44</td>\n      <td>3.36</td>\n      <td>1</td>\n      <td>0</td>\n    </tr>\n  </tbody>\n</table>\n<p>311 rows × 6 columns</p>\n</div>"
     },
     "metadata": {},
     "execution_count": 23
    }
   ],
   "source": [
    "input_features = pd.concat([input_features, attrition_data['Age_Group'], attrition_data[\"Gender\"]], axis=1)\n",
    "input_features"
   ]
  },
  {
   "source": [
    "### Output Data Pre-Processing"
   ],
   "cell_type": "markdown",
   "metadata": {}
  },
  {
   "cell_type": "code",
   "execution_count": 24,
   "metadata": {},
   "outputs": [
    {
     "output_type": "execute_result",
     "data": {
      "text/plain": [
       "              Age Attrition     BusinessTravel  DistanceFromHome  Education  \\\n",
       "Employee_ID                                                                   \n",
       "116.0        37.0       Yes      Travel_Rarely               2.0        2.0   \n",
       "211.0        27.0        No      Travel_Rarely               2.0        1.0   \n",
       "18.0         59.0        No      Travel_Rarely               3.0        3.0   \n",
       "258.0        38.0        No  Travel_Frequently              23.0        3.0   \n",
       "238.0        35.0        No      Travel_Rarely              16.0        3.0   \n",
       "...           ...       ...                ...               ...        ...   \n",
       "246.0        35.0        No      Travel_Rarely              26.0        4.0   \n",
       "74.0         45.0        No      Travel_Rarely              20.0        3.0   \n",
       "249.0        35.0        No  Travel_Frequently              18.0        4.0   \n",
       "286.0        29.0        No      Travel_Rarely              13.0        2.0   \n",
       "158.0        49.0        No  Travel_Frequently               2.0        3.0   \n",
       "\n",
       "            EducationField  EnvironmentSatisfaction  Gender  JobInvolvement  \\\n",
       "Employee_ID                                                                   \n",
       "116.0                Other                      4.0       1             2.0   \n",
       "211.0              Medical                      1.0       1             3.0   \n",
       "18.0               Medical                      3.0       0             4.0   \n",
       "258.0        Life Sciences                      4.0       1             2.0   \n",
       "238.0              Medical                      1.0       1             4.0   \n",
       "...                    ...                      ...     ...             ...   \n",
       "246.0        Life Sciences                      3.0       0             3.0   \n",
       "74.0         Life Sciences                      4.0       0             3.0   \n",
       "249.0        Life Sciences                      3.0       1             3.0   \n",
       "286.0                Other                      4.0       1             2.0   \n",
       "158.0              Medical                      4.0       1             2.0   \n",
       "\n",
       "             JobLevel  ...  PerformanceRating  RelationshipSatisfaction  \\\n",
       "Employee_ID            ...                                                \n",
       "116.0             1.0  ...                3.0                       2.0   \n",
       "211.0             1.0  ...                3.0                       4.0   \n",
       "18.0              1.0  ...                4.0                       1.0   \n",
       "258.0             3.0  ...                4.0                       2.0   \n",
       "238.0             1.0  ...                3.0                       3.0   \n",
       "...               ...  ...                ...                       ...   \n",
       "246.0             3.0  ...                3.0                       3.0   \n",
       "74.0              2.0  ...                3.0                       3.0   \n",
       "249.0             2.0  ...                3.0                       4.0   \n",
       "286.0             2.0  ...                3.0                       1.0   \n",
       "158.0             2.0  ...                3.0                       4.0   \n",
       "\n",
       "            StockOptionLevel  TrainingTimesLastYear  WorkLifeBalance  \\\n",
       "Employee_ID                                                            \n",
       "116.0                    0.0                    3.0              3.0   \n",
       "211.0                    1.0                    3.0              3.0   \n",
       "18.0                     3.0                    3.0              2.0   \n",
       "258.0                    0.0                    2.0              3.0   \n",
       "238.0                    1.0                    5.0              3.0   \n",
       "...                      ...                    ...              ...   \n",
       "246.0                    0.0                    2.0              3.0   \n",
       "74.0                     0.0                    3.0              3.0   \n",
       "249.0                    2.0                    2.0              4.0   \n",
       "286.0                    1.0                    2.0              3.0   \n",
       "158.0                    0.0                    3.0              2.0   \n",
       "\n",
       "             YearsAtCompany  YearsInCurrentRole  YearsSinceLastPromotion  \\\n",
       "Employee_ID                                                                \n",
       "116.0                   0.0                 0.0                      0.0   \n",
       "211.0                   2.0                 2.0                      2.0   \n",
       "18.0                    1.0                 0.0                      0.0   \n",
       "258.0                   9.0                 7.0                      1.0   \n",
       "238.0                   5.0                 4.0                      0.0   \n",
       "...                     ...                 ...                      ...   \n",
       "246.0                   9.0                 0.0                      1.0   \n",
       "74.0                    5.0                 3.0                      0.0   \n",
       "249.0                  10.0                 2.0                      0.0   \n",
       "286.0                   4.0                 3.0                      0.0   \n",
       "158.0                   9.0                 6.0                      0.0   \n",
       "\n",
       "             YearsWithCurrManager  Age_Group  \n",
       "Employee_ID                                   \n",
       "116.0                         0.0          1  \n",
       "211.0                         2.0          0  \n",
       "18.0                          0.0          2  \n",
       "258.0                         8.0          1  \n",
       "238.0                         3.0          0  \n",
       "...                           ...        ...  \n",
       "246.0                         7.0          0  \n",
       "74.0                          1.0          1  \n",
       "249.0                         2.0          0  \n",
       "286.0                         3.0          0  \n",
       "158.0                         8.0          1  \n",
       "\n",
       "[311 rows x 24 columns]"
      ],
      "text/html": "<div>\n<style scoped>\n    .dataframe tbody tr th:only-of-type {\n        vertical-align: middle;\n    }\n\n    .dataframe tbody tr th {\n        vertical-align: top;\n    }\n\n    .dataframe thead th {\n        text-align: right;\n    }\n</style>\n<table border=\"1\" class=\"dataframe\">\n  <thead>\n    <tr style=\"text-align: right;\">\n      <th></th>\n      <th>Age</th>\n      <th>Attrition</th>\n      <th>BusinessTravel</th>\n      <th>DistanceFromHome</th>\n      <th>Education</th>\n      <th>EducationField</th>\n      <th>EnvironmentSatisfaction</th>\n      <th>Gender</th>\n      <th>JobInvolvement</th>\n      <th>JobLevel</th>\n      <th>...</th>\n      <th>PerformanceRating</th>\n      <th>RelationshipSatisfaction</th>\n      <th>StockOptionLevel</th>\n      <th>TrainingTimesLastYear</th>\n      <th>WorkLifeBalance</th>\n      <th>YearsAtCompany</th>\n      <th>YearsInCurrentRole</th>\n      <th>YearsSinceLastPromotion</th>\n      <th>YearsWithCurrManager</th>\n      <th>Age_Group</th>\n    </tr>\n    <tr>\n      <th>Employee_ID</th>\n      <th></th>\n      <th></th>\n      <th></th>\n      <th></th>\n      <th></th>\n      <th></th>\n      <th></th>\n      <th></th>\n      <th></th>\n      <th></th>\n      <th></th>\n      <th></th>\n      <th></th>\n      <th></th>\n      <th></th>\n      <th></th>\n      <th></th>\n      <th></th>\n      <th></th>\n      <th></th>\n      <th></th>\n    </tr>\n  </thead>\n  <tbody>\n    <tr>\n      <th>116.0</th>\n      <td>37.0</td>\n      <td>Yes</td>\n      <td>Travel_Rarely</td>\n      <td>2.0</td>\n      <td>2.0</td>\n      <td>Other</td>\n      <td>4.0</td>\n      <td>1</td>\n      <td>2.0</td>\n      <td>1.0</td>\n      <td>...</td>\n      <td>3.0</td>\n      <td>2.0</td>\n      <td>0.0</td>\n      <td>3.0</td>\n      <td>3.0</td>\n      <td>0.0</td>\n      <td>0.0</td>\n      <td>0.0</td>\n      <td>0.0</td>\n      <td>1</td>\n    </tr>\n    <tr>\n      <th>211.0</th>\n      <td>27.0</td>\n      <td>No</td>\n      <td>Travel_Rarely</td>\n      <td>2.0</td>\n      <td>1.0</td>\n      <td>Medical</td>\n      <td>1.0</td>\n      <td>1</td>\n      <td>3.0</td>\n      <td>1.0</td>\n      <td>...</td>\n      <td>3.0</td>\n      <td>4.0</td>\n      <td>1.0</td>\n      <td>3.0</td>\n      <td>3.0</td>\n      <td>2.0</td>\n      <td>2.0</td>\n      <td>2.0</td>\n      <td>2.0</td>\n      <td>0</td>\n    </tr>\n    <tr>\n      <th>18.0</th>\n      <td>59.0</td>\n      <td>No</td>\n      <td>Travel_Rarely</td>\n      <td>3.0</td>\n      <td>3.0</td>\n      <td>Medical</td>\n      <td>3.0</td>\n      <td>0</td>\n      <td>4.0</td>\n      <td>1.0</td>\n      <td>...</td>\n      <td>4.0</td>\n      <td>1.0</td>\n      <td>3.0</td>\n      <td>3.0</td>\n      <td>2.0</td>\n      <td>1.0</td>\n      <td>0.0</td>\n      <td>0.0</td>\n      <td>0.0</td>\n      <td>2</td>\n    </tr>\n    <tr>\n      <th>258.0</th>\n      <td>38.0</td>\n      <td>No</td>\n      <td>Travel_Frequently</td>\n      <td>23.0</td>\n      <td>3.0</td>\n      <td>Life Sciences</td>\n      <td>4.0</td>\n      <td>1</td>\n      <td>2.0</td>\n      <td>3.0</td>\n      <td>...</td>\n      <td>4.0</td>\n      <td>2.0</td>\n      <td>0.0</td>\n      <td>2.0</td>\n      <td>3.0</td>\n      <td>9.0</td>\n      <td>7.0</td>\n      <td>1.0</td>\n      <td>8.0</td>\n      <td>1</td>\n    </tr>\n    <tr>\n      <th>238.0</th>\n      <td>35.0</td>\n      <td>No</td>\n      <td>Travel_Rarely</td>\n      <td>16.0</td>\n      <td>3.0</td>\n      <td>Medical</td>\n      <td>1.0</td>\n      <td>1</td>\n      <td>4.0</td>\n      <td>1.0</td>\n      <td>...</td>\n      <td>3.0</td>\n      <td>3.0</td>\n      <td>1.0</td>\n      <td>5.0</td>\n      <td>3.0</td>\n      <td>5.0</td>\n      <td>4.0</td>\n      <td>0.0</td>\n      <td>3.0</td>\n      <td>0</td>\n    </tr>\n    <tr>\n      <th>...</th>\n      <td>...</td>\n      <td>...</td>\n      <td>...</td>\n      <td>...</td>\n      <td>...</td>\n      <td>...</td>\n      <td>...</td>\n      <td>...</td>\n      <td>...</td>\n      <td>...</td>\n      <td>...</td>\n      <td>...</td>\n      <td>...</td>\n      <td>...</td>\n      <td>...</td>\n      <td>...</td>\n      <td>...</td>\n      <td>...</td>\n      <td>...</td>\n      <td>...</td>\n      <td>...</td>\n    </tr>\n    <tr>\n      <th>246.0</th>\n      <td>35.0</td>\n      <td>No</td>\n      <td>Travel_Rarely</td>\n      <td>26.0</td>\n      <td>4.0</td>\n      <td>Life Sciences</td>\n      <td>3.0</td>\n      <td>0</td>\n      <td>3.0</td>\n      <td>3.0</td>\n      <td>...</td>\n      <td>3.0</td>\n      <td>3.0</td>\n      <td>0.0</td>\n      <td>2.0</td>\n      <td>3.0</td>\n      <td>9.0</td>\n      <td>0.0</td>\n      <td>1.0</td>\n      <td>7.0</td>\n      <td>0</td>\n    </tr>\n    <tr>\n      <th>74.0</th>\n      <td>45.0</td>\n      <td>No</td>\n      <td>Travel_Rarely</td>\n      <td>20.0</td>\n      <td>3.0</td>\n      <td>Life Sciences</td>\n      <td>4.0</td>\n      <td>0</td>\n      <td>3.0</td>\n      <td>2.0</td>\n      <td>...</td>\n      <td>3.0</td>\n      <td>3.0</td>\n      <td>0.0</td>\n      <td>3.0</td>\n      <td>3.0</td>\n      <td>5.0</td>\n      <td>3.0</td>\n      <td>0.0</td>\n      <td>1.0</td>\n      <td>1</td>\n    </tr>\n    <tr>\n      <th>249.0</th>\n      <td>35.0</td>\n      <td>No</td>\n      <td>Travel_Frequently</td>\n      <td>18.0</td>\n      <td>4.0</td>\n      <td>Life Sciences</td>\n      <td>3.0</td>\n      <td>1</td>\n      <td>3.0</td>\n      <td>2.0</td>\n      <td>...</td>\n      <td>3.0</td>\n      <td>4.0</td>\n      <td>2.0</td>\n      <td>2.0</td>\n      <td>4.0</td>\n      <td>10.0</td>\n      <td>2.0</td>\n      <td>0.0</td>\n      <td>2.0</td>\n      <td>0</td>\n    </tr>\n    <tr>\n      <th>286.0</th>\n      <td>29.0</td>\n      <td>No</td>\n      <td>Travel_Rarely</td>\n      <td>13.0</td>\n      <td>2.0</td>\n      <td>Other</td>\n      <td>4.0</td>\n      <td>1</td>\n      <td>2.0</td>\n      <td>2.0</td>\n      <td>...</td>\n      <td>3.0</td>\n      <td>1.0</td>\n      <td>1.0</td>\n      <td>2.0</td>\n      <td>3.0</td>\n      <td>4.0</td>\n      <td>3.0</td>\n      <td>0.0</td>\n      <td>3.0</td>\n      <td>0</td>\n    </tr>\n    <tr>\n      <th>158.0</th>\n      <td>49.0</td>\n      <td>No</td>\n      <td>Travel_Frequently</td>\n      <td>2.0</td>\n      <td>3.0</td>\n      <td>Medical</td>\n      <td>4.0</td>\n      <td>1</td>\n      <td>2.0</td>\n      <td>2.0</td>\n      <td>...</td>\n      <td>3.0</td>\n      <td>4.0</td>\n      <td>0.0</td>\n      <td>3.0</td>\n      <td>2.0</td>\n      <td>9.0</td>\n      <td>6.0</td>\n      <td>0.0</td>\n      <td>8.0</td>\n      <td>1</td>\n    </tr>\n  </tbody>\n</table>\n<p>311 rows × 24 columns</p>\n</div>"
     },
     "metadata": {},
     "execution_count": 24
    }
   ],
   "source": [
    "attrition_data"
   ]
  },
  {
   "cell_type": "code",
   "execution_count": 26,
   "metadata": {},
   "outputs": [
    {
     "output_type": "error",
     "ename": "TypeError",
     "evalue": "Cannot reset_index inplace on a Series to create a DataFrame",
     "traceback": [
      "\u001b[0;31m---------------------------------------------------------------------------\u001b[0m",
      "\u001b[0;31mTypeError\u001b[0m                                 Traceback (most recent call last)",
      "\u001b[0;32m<ipython-input-26-5c3f743d41ac>\u001b[0m in \u001b[0;36m<module>\u001b[0;34m\u001b[0m\n\u001b[1;32m      2\u001b[0m \u001b[0;34m\u001b[0m\u001b[0m\n\u001b[1;32m      3\u001b[0m \u001b[0moutput_scaler\u001b[0m \u001b[0;34m=\u001b[0m \u001b[0mpreprocessing\u001b[0m\u001b[0;34m.\u001b[0m\u001b[0mStandardScaler\u001b[0m\u001b[0;34m(\u001b[0m\u001b[0;34m)\u001b[0m\u001b[0;34m\u001b[0m\u001b[0;34m\u001b[0m\u001b[0m\n\u001b[0;32m----> 4\u001b[0;31m \u001b[0moutput_features\u001b[0m\u001b[0;34m.\u001b[0m\u001b[0mreset_index\u001b[0m\u001b[0;34m(\u001b[0m\u001b[0minplace\u001b[0m\u001b[0;34m=\u001b[0m\u001b[0;32mTrue\u001b[0m\u001b[0;34m)\u001b[0m\u001b[0;34m\u001b[0m\u001b[0;34m\u001b[0m\u001b[0m\n\u001b[0m\u001b[1;32m      5\u001b[0m \u001b[0moutput_features\u001b[0m\u001b[0;34m[\u001b[0m\u001b[0;34m'WorkLifeBalance'\u001b[0m\u001b[0;34m]\u001b[0m \u001b[0;34m=\u001b[0m \u001b[0moutput_scaler\u001b[0m\u001b[0;34m.\u001b[0m\u001b[0mfit_transform\u001b[0m\u001b[0;34m(\u001b[0m\u001b[0moutput_features\u001b[0m\u001b[0;34m[\u001b[0m\u001b[0;34m'WorkLifeBalance'\u001b[0m\u001b[0;34m]\u001b[0m\u001b[0;34m)\u001b[0m\u001b[0;34m\u001b[0m\u001b[0;34m\u001b[0m\u001b[0m\n\u001b[1;32m      6\u001b[0m \u001b[0moutput_features\u001b[0m\u001b[0;34m\u001b[0m\u001b[0;34m\u001b[0m\u001b[0m\n",
      "\u001b[0;32m~/anaconda3/envs/gpu_env/lib/python3.8/site-packages/pandas/core/series.py\u001b[0m in \u001b[0;36mreset_index\u001b[0;34m(self, level, drop, name, inplace)\u001b[0m\n\u001b[1;32m   1242\u001b[0m                 ).__finalize__(self, method=\"reset_index\")\n\u001b[1;32m   1243\u001b[0m         \u001b[0;32melif\u001b[0m \u001b[0minplace\u001b[0m\u001b[0;34m:\u001b[0m\u001b[0;34m\u001b[0m\u001b[0;34m\u001b[0m\u001b[0m\n\u001b[0;32m-> 1244\u001b[0;31m             raise TypeError(\n\u001b[0m\u001b[1;32m   1245\u001b[0m                 \u001b[0;34m\"Cannot reset_index inplace on a Series to create a DataFrame\"\u001b[0m\u001b[0;34m\u001b[0m\u001b[0;34m\u001b[0m\u001b[0m\n\u001b[1;32m   1246\u001b[0m             )\n",
      "\u001b[0;31mTypeError\u001b[0m: Cannot reset_index inplace on a Series to create a DataFrame"
     ]
    }
   ],
   "source": [
    "output_features = attrition_data[\"WorkLifeBalance\"]\n",
    "\n",
    "output_scaler = preprocessing.StandardScaler()\n",
    "output_features.reset_index(inplace=True)\n",
    "output_features['WorkLifeBalance'] = output_scaler.fit_transform(output_features['WorkLifeBalance'])\n",
    "output_features"
   ]
  }
 ]
}
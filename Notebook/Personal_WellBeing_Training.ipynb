{
 "metadata": {
  "language_info": {
   "codemirror_mode": {
    "name": "ipython",
    "version": 3
   },
   "file_extension": ".py",
   "mimetype": "text/x-python",
   "name": "python",
   "nbconvert_exporter": "python",
   "pygments_lexer": "ipython3",
   "version": "3.8.5-final"
  },
  "orig_nbformat": 2,
  "kernelspec": {
   "name": "python385jvsc74a57bd0a97a39992348d9631a2100bf9d9239f93002e04844e8ac142c0ed653e7036898",
   "display_name": "Python 3.8.5 64-bit ('base': conda)"
  }
 },
 "nbformat": 4,
 "nbformat_minor": 2,
 "cells": [
  {
   "source": [
    "# WellSAP"
   ],
   "cell_type": "markdown",
   "metadata": {}
  },
  {
   "source": [
    "## Personal WellBeing Training"
   ],
   "cell_type": "markdown",
   "metadata": {}
  },
  {
   "source": [
    "### Imports"
   ],
   "cell_type": "markdown",
   "metadata": {}
  },
  {
   "cell_type": "code",
   "execution_count": 1,
   "metadata": {},
   "outputs": [],
   "source": [
    "import pandas as pd\n",
    "import numpy as np\n",
    "import sklearn\n",
    "from sklearn import preprocessing\n",
    "import joblib"
   ]
  },
  {
   "source": [
    "### Data Loading"
   ],
   "cell_type": "markdown",
   "metadata": {}
  },
  {
   "cell_type": "code",
   "execution_count": 2,
   "metadata": {},
   "outputs": [],
   "source": [
    "hr_data = pd.read_csv('./../dataset/hr_data.csv',header=0, index_col='Employee_ID')\n",
    "attrition_data = pd.read_csv('./../dataset/attrition_data.csv', header=0, index_col='Employee_ID')\n",
    "lifestyle_data = pd.read_csv('./../dataset/lifestyle_data.csv', header=0, index_col='Employee_ID')"
   ]
  },
  {
   "source": [
    "### Data Pre-Processing"
   ],
   "cell_type": "markdown",
   "metadata": {}
  },
  {
   "source": [
    "#### Lifestyle Data Pre-Processing"
   ],
   "cell_type": "markdown",
   "metadata": {}
  },
  {
   "cell_type": "code",
   "execution_count": 3,
   "metadata": {},
   "outputs": [],
   "source": [
    "input_features_classes = lifestyle_data.loc[:,['FRUITS_VEGGIES', 'DAILY_STRESS', 'BMI_RANGE', 'DONATION']]\n",
    "input_features_int_int = lifestyle_data.loc[:,['PLACES_VISITED', 'CORE_CIRCLE', 'SUPPORTING_OTHERS', 'SOCIAL_NETWORK', 'DAILY_STEPS']]\n",
    "input_features_int_float = lifestyle_data.loc[:,['SLEEP_HOURS', 'WEEKLY_MEDITATION', 'DAILY_SHOUTING']]"
   ]
  },
  {
   "cell_type": "code",
   "execution_count": 4,
   "metadata": {},
   "outputs": [],
   "source": [
    "input_features_classes = input_features_classes.groupby('Employee_ID').max().astype(int)\n",
    "input_features_int_int = input_features_int_int.groupby('Employee_ID').mean().apply(np.ceil).astype(int)\n",
    "input_features_int_float = input_features_int_float.groupby('Employee_ID').mean()"
   ]
  },
  {
   "cell_type": "code",
   "execution_count": 5,
   "metadata": {},
   "outputs": [
    {
     "output_type": "execute_result",
     "data": {
      "text/plain": [
       "             FRUITS_VEGGIES  DAILY_STRESS  BMI_RANGE  DONATION  \\\n",
       "Employee_ID                                                      \n",
       "1.0                       5             5          2         5   \n",
       "2.0                       5             5          2         5   \n",
       "3.0                       5             5          2         5   \n",
       "4.0                       5             5          2         5   \n",
       "5.0                       5             5          2         5   \n",
       "...                     ...           ...        ...       ...   \n",
       "307.0                     5             4          2         5   \n",
       "308.0                     5             5          2         5   \n",
       "309.0                     5             5          2         5   \n",
       "310.0                     5             5          2         5   \n",
       "311.0                     5             5          2         5   \n",
       "\n",
       "             PLACES_VISITED  CORE_CIRCLE  SUPPORTING_OTHERS  SOCIAL_NETWORK  \\\n",
       "Employee_ID                                                                   \n",
       "1.0                       6            7                  5               7   \n",
       "2.0                       5            5                  5               7   \n",
       "3.0                       6            6                  6               8   \n",
       "4.0                       7            6                  6               7   \n",
       "5.0                       5            6                  5               6   \n",
       "...                     ...          ...                ...             ...   \n",
       "307.0                     6            6                  5               6   \n",
       "308.0                     5            6                  7               7   \n",
       "309.0                     5            7                  8               7   \n",
       "310.0                     5            7                  7               7   \n",
       "311.0                     6            6                  6               7   \n",
       "\n",
       "             DAILY_STEPS  SLEEP_HOURS  WEEKLY_MEDITATION  DAILY_SHOUTING  \n",
       "Employee_ID                                                               \n",
       "1.0                    7         7.00               7.28            2.08  \n",
       "2.0                    7         6.76               6.52            3.88  \n",
       "3.0                    6         6.92               5.52            3.16  \n",
       "4.0                    7         7.52               6.20            2.00  \n",
       "5.0                    6         7.64               5.92            2.92  \n",
       "...                  ...          ...                ...             ...  \n",
       "307.0                  6         7.12               6.00            1.76  \n",
       "308.0                  7         6.92               5.80            3.08  \n",
       "309.0                  6         6.80               4.68            3.08  \n",
       "310.0                  5         7.08               6.12            3.52  \n",
       "311.0                  7         7.00               6.16            3.20  \n",
       "\n",
       "[311 rows x 12 columns]"
      ],
      "text/html": "<div>\n<style scoped>\n    .dataframe tbody tr th:only-of-type {\n        vertical-align: middle;\n    }\n\n    .dataframe tbody tr th {\n        vertical-align: top;\n    }\n\n    .dataframe thead th {\n        text-align: right;\n    }\n</style>\n<table border=\"1\" class=\"dataframe\">\n  <thead>\n    <tr style=\"text-align: right;\">\n      <th></th>\n      <th>FRUITS_VEGGIES</th>\n      <th>DAILY_STRESS</th>\n      <th>BMI_RANGE</th>\n      <th>DONATION</th>\n      <th>PLACES_VISITED</th>\n      <th>CORE_CIRCLE</th>\n      <th>SUPPORTING_OTHERS</th>\n      <th>SOCIAL_NETWORK</th>\n      <th>DAILY_STEPS</th>\n      <th>SLEEP_HOURS</th>\n      <th>WEEKLY_MEDITATION</th>\n      <th>DAILY_SHOUTING</th>\n    </tr>\n    <tr>\n      <th>Employee_ID</th>\n      <th></th>\n      <th></th>\n      <th></th>\n      <th></th>\n      <th></th>\n      <th></th>\n      <th></th>\n      <th></th>\n      <th></th>\n      <th></th>\n      <th></th>\n      <th></th>\n    </tr>\n  </thead>\n  <tbody>\n    <tr>\n      <th>1.0</th>\n      <td>5</td>\n      <td>5</td>\n      <td>2</td>\n      <td>5</td>\n      <td>6</td>\n      <td>7</td>\n      <td>5</td>\n      <td>7</td>\n      <td>7</td>\n      <td>7.00</td>\n      <td>7.28</td>\n      <td>2.08</td>\n    </tr>\n    <tr>\n      <th>2.0</th>\n      <td>5</td>\n      <td>5</td>\n      <td>2</td>\n      <td>5</td>\n      <td>5</td>\n      <td>5</td>\n      <td>5</td>\n      <td>7</td>\n      <td>7</td>\n      <td>6.76</td>\n      <td>6.52</td>\n      <td>3.88</td>\n    </tr>\n    <tr>\n      <th>3.0</th>\n      <td>5</td>\n      <td>5</td>\n      <td>2</td>\n      <td>5</td>\n      <td>6</td>\n      <td>6</td>\n      <td>6</td>\n      <td>8</td>\n      <td>6</td>\n      <td>6.92</td>\n      <td>5.52</td>\n      <td>3.16</td>\n    </tr>\n    <tr>\n      <th>4.0</th>\n      <td>5</td>\n      <td>5</td>\n      <td>2</td>\n      <td>5</td>\n      <td>7</td>\n      <td>6</td>\n      <td>6</td>\n      <td>7</td>\n      <td>7</td>\n      <td>7.52</td>\n      <td>6.20</td>\n      <td>2.00</td>\n    </tr>\n    <tr>\n      <th>5.0</th>\n      <td>5</td>\n      <td>5</td>\n      <td>2</td>\n      <td>5</td>\n      <td>5</td>\n      <td>6</td>\n      <td>5</td>\n      <td>6</td>\n      <td>6</td>\n      <td>7.64</td>\n      <td>5.92</td>\n      <td>2.92</td>\n    </tr>\n    <tr>\n      <th>...</th>\n      <td>...</td>\n      <td>...</td>\n      <td>...</td>\n      <td>...</td>\n      <td>...</td>\n      <td>...</td>\n      <td>...</td>\n      <td>...</td>\n      <td>...</td>\n      <td>...</td>\n      <td>...</td>\n      <td>...</td>\n    </tr>\n    <tr>\n      <th>307.0</th>\n      <td>5</td>\n      <td>4</td>\n      <td>2</td>\n      <td>5</td>\n      <td>6</td>\n      <td>6</td>\n      <td>5</td>\n      <td>6</td>\n      <td>6</td>\n      <td>7.12</td>\n      <td>6.00</td>\n      <td>1.76</td>\n    </tr>\n    <tr>\n      <th>308.0</th>\n      <td>5</td>\n      <td>5</td>\n      <td>2</td>\n      <td>5</td>\n      <td>5</td>\n      <td>6</td>\n      <td>7</td>\n      <td>7</td>\n      <td>7</td>\n      <td>6.92</td>\n      <td>5.80</td>\n      <td>3.08</td>\n    </tr>\n    <tr>\n      <th>309.0</th>\n      <td>5</td>\n      <td>5</td>\n      <td>2</td>\n      <td>5</td>\n      <td>5</td>\n      <td>7</td>\n      <td>8</td>\n      <td>7</td>\n      <td>6</td>\n      <td>6.80</td>\n      <td>4.68</td>\n      <td>3.08</td>\n    </tr>\n    <tr>\n      <th>310.0</th>\n      <td>5</td>\n      <td>5</td>\n      <td>2</td>\n      <td>5</td>\n      <td>5</td>\n      <td>7</td>\n      <td>7</td>\n      <td>7</td>\n      <td>5</td>\n      <td>7.08</td>\n      <td>6.12</td>\n      <td>3.52</td>\n    </tr>\n    <tr>\n      <th>311.0</th>\n      <td>5</td>\n      <td>5</td>\n      <td>2</td>\n      <td>5</td>\n      <td>6</td>\n      <td>6</td>\n      <td>6</td>\n      <td>7</td>\n      <td>7</td>\n      <td>7.00</td>\n      <td>6.16</td>\n      <td>3.20</td>\n    </tr>\n  </tbody>\n</table>\n<p>311 rows × 12 columns</p>\n</div>"
     },
     "metadata": {},
     "execution_count": 5
    }
   ],
   "source": [
    "input_features = pd.concat([input_features_classes, input_features_int_int, input_features_int_float], axis=1)\n",
    "input_features"
   ]
  },
  {
   "source": [
    "#### HR and Attrition Data Pre-Processing"
   ],
   "cell_type": "markdown",
   "metadata": {}
  },
  {
   "cell_type": "code",
   "execution_count": 6,
   "metadata": {},
   "outputs": [
    {
     "output_type": "execute_result",
     "data": {
      "text/plain": [
       "['./../scaler_and _encoder/work_balance_age_encoder.pkl']"
      ]
     },
     "metadata": {},
     "execution_count": 6
    }
   ],
   "source": [
    "gender_encoder = preprocessing.LabelEncoder()\n",
    "attrition_data['Gender'] = gender_encoder.fit_transform(attrition_data['Gender'])\n",
    "joblib.dump(gender_encoder,'./../scaler_and _encoder/personal_gender_encoder.pkl')\n",
    "age_encoder = preprocessing.LabelEncoder()\n",
    "hr_data['Age_Group'] = age_encoder.fit_transform(hr_data['Age_Group'])\n",
    "joblib.dump(age_encoder,'./../scaler_and _encoder/personal_age_encoder.pkl')"
   ]
  },
  {
   "cell_type": "code",
   "execution_count": 7,
   "metadata": {},
   "outputs": [
    {
     "output_type": "execute_result",
     "data": {
      "text/plain": [
       "             FRUITS_VEGGIES  DAILY_STRESS  BMI_RANGE  DONATION  \\\n",
       "Employee_ID                                                      \n",
       "1.0                       5             5          2         5   \n",
       "2.0                       5             5          2         5   \n",
       "3.0                       5             5          2         5   \n",
       "4.0                       5             5          2         5   \n",
       "5.0                       5             5          2         5   \n",
       "...                     ...           ...        ...       ...   \n",
       "307.0                     5             4          2         5   \n",
       "308.0                     5             5          2         5   \n",
       "309.0                     5             5          2         5   \n",
       "310.0                     5             5          2         5   \n",
       "311.0                     5             5          2         5   \n",
       "\n",
       "             PLACES_VISITED  CORE_CIRCLE  SUPPORTING_OTHERS  SOCIAL_NETWORK  \\\n",
       "Employee_ID                                                                   \n",
       "1.0                       6            7                  5               7   \n",
       "2.0                       5            5                  5               7   \n",
       "3.0                       6            6                  6               8   \n",
       "4.0                       7            6                  6               7   \n",
       "5.0                       5            6                  5               6   \n",
       "...                     ...          ...                ...             ...   \n",
       "307.0                     6            6                  5               6   \n",
       "308.0                     5            6                  7               7   \n",
       "309.0                     5            7                  8               7   \n",
       "310.0                     5            7                  7               7   \n",
       "311.0                     6            6                  6               7   \n",
       "\n",
       "             DAILY_STEPS  SLEEP_HOURS  WEEKLY_MEDITATION  DAILY_SHOUTING  \\\n",
       "Employee_ID                                                                \n",
       "1.0                    7         7.00               7.28            2.08   \n",
       "2.0                    7         6.76               6.52            3.88   \n",
       "3.0                    6         6.92               5.52            3.16   \n",
       "4.0                    7         7.52               6.20            2.00   \n",
       "5.0                    6         7.64               5.92            2.92   \n",
       "...                  ...          ...                ...             ...   \n",
       "307.0                  6         7.12               6.00            1.76   \n",
       "308.0                  7         6.92               5.80            3.08   \n",
       "309.0                  6         6.80               4.68            3.08   \n",
       "310.0                  5         7.08               6.12            3.52   \n",
       "311.0                  7         7.00               6.16            3.20   \n",
       "\n",
       "             MaritalStatusID  Age_Group  Gender  RelationshipSatisfaction  \n",
       "Employee_ID                                                                \n",
       "1.0                        0          0       1                         3  \n",
       "2.0                        1          1       1                         3  \n",
       "3.0                        1          0       0                         2  \n",
       "4.0                        1          0       0                         3  \n",
       "5.0                        2          0       0                         3  \n",
       "...                      ...        ...     ...                       ...  \n",
       "307.0                      0          0       1                         4  \n",
       "308.0                      0          0       0                         3  \n",
       "309.0                      0          1       0                         1  \n",
       "310.0                      0          1       0                         4  \n",
       "311.0                      4          1       0                         4  \n",
       "\n",
       "[311 rows x 16 columns]"
      ],
      "text/html": "<div>\n<style scoped>\n    .dataframe tbody tr th:only-of-type {\n        vertical-align: middle;\n    }\n\n    .dataframe tbody tr th {\n        vertical-align: top;\n    }\n\n    .dataframe thead th {\n        text-align: right;\n    }\n</style>\n<table border=\"1\" class=\"dataframe\">\n  <thead>\n    <tr style=\"text-align: right;\">\n      <th></th>\n      <th>FRUITS_VEGGIES</th>\n      <th>DAILY_STRESS</th>\n      <th>BMI_RANGE</th>\n      <th>DONATION</th>\n      <th>PLACES_VISITED</th>\n      <th>CORE_CIRCLE</th>\n      <th>SUPPORTING_OTHERS</th>\n      <th>SOCIAL_NETWORK</th>\n      <th>DAILY_STEPS</th>\n      <th>SLEEP_HOURS</th>\n      <th>WEEKLY_MEDITATION</th>\n      <th>DAILY_SHOUTING</th>\n      <th>MaritalStatusID</th>\n      <th>Age_Group</th>\n      <th>Gender</th>\n      <th>RelationshipSatisfaction</th>\n    </tr>\n    <tr>\n      <th>Employee_ID</th>\n      <th></th>\n      <th></th>\n      <th></th>\n      <th></th>\n      <th></th>\n      <th></th>\n      <th></th>\n      <th></th>\n      <th></th>\n      <th></th>\n      <th></th>\n      <th></th>\n      <th></th>\n      <th></th>\n      <th></th>\n      <th></th>\n    </tr>\n  </thead>\n  <tbody>\n    <tr>\n      <th>1.0</th>\n      <td>5</td>\n      <td>5</td>\n      <td>2</td>\n      <td>5</td>\n      <td>6</td>\n      <td>7</td>\n      <td>5</td>\n      <td>7</td>\n      <td>7</td>\n      <td>7.00</td>\n      <td>7.28</td>\n      <td>2.08</td>\n      <td>0</td>\n      <td>0</td>\n      <td>1</td>\n      <td>3</td>\n    </tr>\n    <tr>\n      <th>2.0</th>\n      <td>5</td>\n      <td>5</td>\n      <td>2</td>\n      <td>5</td>\n      <td>5</td>\n      <td>5</td>\n      <td>5</td>\n      <td>7</td>\n      <td>7</td>\n      <td>6.76</td>\n      <td>6.52</td>\n      <td>3.88</td>\n      <td>1</td>\n      <td>1</td>\n      <td>1</td>\n      <td>3</td>\n    </tr>\n    <tr>\n      <th>3.0</th>\n      <td>5</td>\n      <td>5</td>\n      <td>2</td>\n      <td>5</td>\n      <td>6</td>\n      <td>6</td>\n      <td>6</td>\n      <td>8</td>\n      <td>6</td>\n      <td>6.92</td>\n      <td>5.52</td>\n      <td>3.16</td>\n      <td>1</td>\n      <td>0</td>\n      <td>0</td>\n      <td>2</td>\n    </tr>\n    <tr>\n      <th>4.0</th>\n      <td>5</td>\n      <td>5</td>\n      <td>2</td>\n      <td>5</td>\n      <td>7</td>\n      <td>6</td>\n      <td>6</td>\n      <td>7</td>\n      <td>7</td>\n      <td>7.52</td>\n      <td>6.20</td>\n      <td>2.00</td>\n      <td>1</td>\n      <td>0</td>\n      <td>0</td>\n      <td>3</td>\n    </tr>\n    <tr>\n      <th>5.0</th>\n      <td>5</td>\n      <td>5</td>\n      <td>2</td>\n      <td>5</td>\n      <td>5</td>\n      <td>6</td>\n      <td>5</td>\n      <td>6</td>\n      <td>6</td>\n      <td>7.64</td>\n      <td>5.92</td>\n      <td>2.92</td>\n      <td>2</td>\n      <td>0</td>\n      <td>0</td>\n      <td>3</td>\n    </tr>\n    <tr>\n      <th>...</th>\n      <td>...</td>\n      <td>...</td>\n      <td>...</td>\n      <td>...</td>\n      <td>...</td>\n      <td>...</td>\n      <td>...</td>\n      <td>...</td>\n      <td>...</td>\n      <td>...</td>\n      <td>...</td>\n      <td>...</td>\n      <td>...</td>\n      <td>...</td>\n      <td>...</td>\n      <td>...</td>\n    </tr>\n    <tr>\n      <th>307.0</th>\n      <td>5</td>\n      <td>4</td>\n      <td>2</td>\n      <td>5</td>\n      <td>6</td>\n      <td>6</td>\n      <td>5</td>\n      <td>6</td>\n      <td>6</td>\n      <td>7.12</td>\n      <td>6.00</td>\n      <td>1.76</td>\n      <td>0</td>\n      <td>0</td>\n      <td>1</td>\n      <td>4</td>\n    </tr>\n    <tr>\n      <th>308.0</th>\n      <td>5</td>\n      <td>5</td>\n      <td>2</td>\n      <td>5</td>\n      <td>5</td>\n      <td>6</td>\n      <td>7</td>\n      <td>7</td>\n      <td>7</td>\n      <td>6.92</td>\n      <td>5.80</td>\n      <td>3.08</td>\n      <td>0</td>\n      <td>0</td>\n      <td>0</td>\n      <td>3</td>\n    </tr>\n    <tr>\n      <th>309.0</th>\n      <td>5</td>\n      <td>5</td>\n      <td>2</td>\n      <td>5</td>\n      <td>5</td>\n      <td>7</td>\n      <td>8</td>\n      <td>7</td>\n      <td>6</td>\n      <td>6.80</td>\n      <td>4.68</td>\n      <td>3.08</td>\n      <td>0</td>\n      <td>1</td>\n      <td>0</td>\n      <td>1</td>\n    </tr>\n    <tr>\n      <th>310.0</th>\n      <td>5</td>\n      <td>5</td>\n      <td>2</td>\n      <td>5</td>\n      <td>5</td>\n      <td>7</td>\n      <td>7</td>\n      <td>7</td>\n      <td>5</td>\n      <td>7.08</td>\n      <td>6.12</td>\n      <td>3.52</td>\n      <td>0</td>\n      <td>1</td>\n      <td>0</td>\n      <td>4</td>\n    </tr>\n    <tr>\n      <th>311.0</th>\n      <td>5</td>\n      <td>5</td>\n      <td>2</td>\n      <td>5</td>\n      <td>6</td>\n      <td>6</td>\n      <td>6</td>\n      <td>7</td>\n      <td>7</td>\n      <td>7.00</td>\n      <td>6.16</td>\n      <td>3.20</td>\n      <td>4</td>\n      <td>1</td>\n      <td>0</td>\n      <td>4</td>\n    </tr>\n  </tbody>\n</table>\n<p>311 rows × 16 columns</p>\n</div>"
     },
     "metadata": {},
     "execution_count": 7
    }
   ],
   "source": [
    "input_features = pd.concat([input_features, hr_data['MaritalStatusID'], hr_data['Age_Group'], attrition_data[\"Gender\"], attrition_data['RelationshipSatisfaction'].astype(int)], axis=1)\n",
    "input_features"
   ]
  },
  {
   "cell_type": "code",
   "execution_count": 8,
   "metadata": {},
   "outputs": [],
   "source": [
    "input_features[['BMI_RANGE', 'DONATION', 'MaritalStatusID', 'Age_Group', 'Gender', 'RelationshipSatisfaction']] = input_features[['BMI_RANGE', 'DONATION', 'MaritalStatusID', 'Age_Group', 'Gender', 'RelationshipSatisfaction']].astype('category')"
   ]
  },
  {
   "cell_type": "code",
   "execution_count": 9,
   "metadata": {},
   "outputs": [
    {
     "output_type": "stream",
     "name": "stdout",
     "text": [
      "<class 'pandas.core.frame.DataFrame'>\nFloat64Index: 311 entries, 1.0 to 311.0\nData columns (total 16 columns):\n #   Column                    Non-Null Count  Dtype   \n---  ------                    --------------  -----   \n 0   FRUITS_VEGGIES            311 non-null    int64   \n 1   DAILY_STRESS              311 non-null    int64   \n 2   BMI_RANGE                 311 non-null    category\n 3   DONATION                  311 non-null    category\n 4   PLACES_VISITED            311 non-null    int64   \n 5   CORE_CIRCLE               311 non-null    int64   \n 6   SUPPORTING_OTHERS         311 non-null    int64   \n 7   SOCIAL_NETWORK            311 non-null    int64   \n 8   DAILY_STEPS               311 non-null    int64   \n 9   SLEEP_HOURS               311 non-null    float64 \n 10  WEEKLY_MEDITATION         311 non-null    float64 \n 11  DAILY_SHOUTING            311 non-null    float64 \n 12  MaritalStatusID           311 non-null    category\n 13  Age_Group                 311 non-null    category\n 14  Gender                    311 non-null    category\n 15  RelationshipSatisfaction  311 non-null    category\ndtypes: category(6), float64(3), int64(7)\nmemory usage: 29.3 KB\n"
     ]
    }
   ],
   "source": [
    "input_features.info()"
   ]
  },
  {
   "source": [
    "#### Output Data Pre-Processing"
   ],
   "cell_type": "markdown",
   "metadata": {}
  },
  {
   "cell_type": "code",
   "execution_count": 10,
   "metadata": {},
   "outputs": [
    {
     "output_type": "execute_result",
     "data": {
      "text/plain": [
       "Employee_ID\n",
       "1.0      2.694225\n",
       "2.0      1.455491\n",
       "3.0      2.154704\n",
       "4.0      3.248040\n",
       "5.0      0.017450\n",
       "           ...   \n",
       "307.0    3.183919\n",
       "308.0    2.075879\n",
       "309.0    2.685648\n",
       "310.0    2.309086\n",
       "311.0    3.328499\n",
       "Name: WORK_LIFE_BALANCE_SCORE, Length: 311, dtype: float64"
      ]
     },
     "metadata": {},
     "execution_count": 10
    }
   ],
   "source": [
    "output_features = lifestyle_data.loc[:,'WORK_LIFE_BALANCE_SCORE']\n",
    "output_features = output_features.groupby('Employee_ID').mean()\n",
    "\n",
    "output_features = (output_features - output_features.mean())/output_features.std()\n",
    "#Mean = 2 and Std = 1\n",
    "output_features = output_features*1 + 2\n",
    "\n",
    "\n",
    "output_features"
   ]
  },
  {
   "source": [
    "### Modelling"
   ],
   "cell_type": "markdown",
   "metadata": {}
  },
  {
   "cell_type": "code",
   "execution_count": 11,
   "metadata": {},
   "outputs": [],
   "source": [
    "from sklearn.model_selection import train_test_split\n",
    "input_train, input_test, ouput_train, output_test = train_test_split(input_features, output_features, test_size = 0.2, random_state=42)"
   ]
  },
  {
   "cell_type": "code",
   "execution_count": 12,
   "metadata": {},
   "outputs": [
    {
     "output_type": "stream",
     "name": "stdout",
     "text": [
      "Train Score: 0.7421177454722343\nTest Score: 0.7256213045072799\n"
     ]
    },
    {
     "output_type": "execute_result",
     "data": {
      "text/plain": [
       "['./../models/personal_wellbeing_model.pkl']"
      ]
     },
     "metadata": {},
     "execution_count": 12
    }
   ],
   "source": [
    "from sklearn.svm import SVR\n",
    "svm_regression = SVR(kernel='linear')\n",
    "svm_regression.fit(input_train, ouput_train)\n",
    "print(f\"Train Score: {svm_regression.score(input_train, ouput_train)}\")\n",
    "print(f\"Test Score: {svm_regression.score(input_test, output_test)}\")\n",
    "joblib.dump(svm_regression,'./../models/personal_wellbeing_model.pkl')"
   ]
  }
 ]
}